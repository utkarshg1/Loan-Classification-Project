{
 "cells": [
  {
   "cell_type": "markdown",
   "id": "ad80fb99",
   "metadata": {},
   "source": [
    "# Loan Approval Project - Utkarsh Gaikwad"
   ]
  },
  {
   "cell_type": "markdown",
   "id": "43ae6bc7",
   "metadata": {},
   "source": [
    "### Step 1 : Import Training and Testing Datasets"
   ]
  },
  {
   "cell_type": "code",
   "execution_count": 1,
   "id": "00ad26fe",
   "metadata": {},
   "outputs": [
    {
     "data": {
      "text/html": [
       "<div>\n",
       "<style scoped>\n",
       "    .dataframe tbody tr th:only-of-type {\n",
       "        vertical-align: middle;\n",
       "    }\n",
       "\n",
       "    .dataframe tbody tr th {\n",
       "        vertical-align: top;\n",
       "    }\n",
       "\n",
       "    .dataframe thead th {\n",
       "        text-align: right;\n",
       "    }\n",
       "</style>\n",
       "<table border=\"1\" class=\"dataframe\">\n",
       "  <thead>\n",
       "    <tr style=\"text-align: right;\">\n",
       "      <th></th>\n",
       "      <th>Loan_ID</th>\n",
       "      <th>Gender</th>\n",
       "      <th>Married</th>\n",
       "      <th>Dependents</th>\n",
       "      <th>Education</th>\n",
       "      <th>Self_Employed</th>\n",
       "      <th>ApplicantIncome</th>\n",
       "      <th>CoapplicantIncome</th>\n",
       "      <th>LoanAmount</th>\n",
       "      <th>Loan_Amount_Term</th>\n",
       "      <th>Credit_History</th>\n",
       "      <th>Property_Area</th>\n",
       "      <th>Loan_Status</th>\n",
       "    </tr>\n",
       "  </thead>\n",
       "  <tbody>\n",
       "    <tr>\n",
       "      <th>0</th>\n",
       "      <td>LP001002</td>\n",
       "      <td>Male</td>\n",
       "      <td>No</td>\n",
       "      <td>0</td>\n",
       "      <td>Graduate</td>\n",
       "      <td>No</td>\n",
       "      <td>5849.0</td>\n",
       "      <td>0.0</td>\n",
       "      <td>NaN</td>\n",
       "      <td>360.0</td>\n",
       "      <td>1.0</td>\n",
       "      <td>Urban</td>\n",
       "      <td>Y</td>\n",
       "    </tr>\n",
       "    <tr>\n",
       "      <th>1</th>\n",
       "      <td>LP001003</td>\n",
       "      <td>Male</td>\n",
       "      <td>Yes</td>\n",
       "      <td>1</td>\n",
       "      <td>Graduate</td>\n",
       "      <td>No</td>\n",
       "      <td>NaN</td>\n",
       "      <td>1508.0</td>\n",
       "      <td>128.0</td>\n",
       "      <td>360.0</td>\n",
       "      <td>1.0</td>\n",
       "      <td>Rural</td>\n",
       "      <td>N</td>\n",
       "    </tr>\n",
       "    <tr>\n",
       "      <th>2</th>\n",
       "      <td>LP001005</td>\n",
       "      <td>Male</td>\n",
       "      <td>Yes</td>\n",
       "      <td>0</td>\n",
       "      <td>Graduate</td>\n",
       "      <td>Yes</td>\n",
       "      <td>3000.0</td>\n",
       "      <td>0.0</td>\n",
       "      <td>66.0</td>\n",
       "      <td>360.0</td>\n",
       "      <td>1.0</td>\n",
       "      <td>Urban</td>\n",
       "      <td>Y</td>\n",
       "    </tr>\n",
       "    <tr>\n",
       "      <th>3</th>\n",
       "      <td>LP001006</td>\n",
       "      <td>Male</td>\n",
       "      <td>Yes</td>\n",
       "      <td>0</td>\n",
       "      <td>Not Graduate</td>\n",
       "      <td>No</td>\n",
       "      <td>2583.0</td>\n",
       "      <td>2358.0</td>\n",
       "      <td>120.0</td>\n",
       "      <td>360.0</td>\n",
       "      <td>1.0</td>\n",
       "      <td>Urban</td>\n",
       "      <td>Y</td>\n",
       "    </tr>\n",
       "    <tr>\n",
       "      <th>4</th>\n",
       "      <td>LP001008</td>\n",
       "      <td>Male</td>\n",
       "      <td>No</td>\n",
       "      <td>0</td>\n",
       "      <td>Graduate</td>\n",
       "      <td>No</td>\n",
       "      <td>6000.0</td>\n",
       "      <td>0.0</td>\n",
       "      <td>141.0</td>\n",
       "      <td>360.0</td>\n",
       "      <td>1.0</td>\n",
       "      <td>Urban</td>\n",
       "      <td>Y</td>\n",
       "    </tr>\n",
       "  </tbody>\n",
       "</table>\n",
       "</div>"
      ],
      "text/plain": [
       "    Loan_ID Gender Married Dependents     Education Self_Employed  \\\n",
       "0  LP001002   Male      No          0      Graduate            No   \n",
       "1  LP001003   Male     Yes          1      Graduate            No   \n",
       "2  LP001005   Male     Yes          0      Graduate           Yes   \n",
       "3  LP001006   Male     Yes          0  Not Graduate            No   \n",
       "4  LP001008   Male      No          0      Graduate            No   \n",
       "\n",
       "   ApplicantIncome  CoapplicantIncome  LoanAmount  Loan_Amount_Term  \\\n",
       "0           5849.0                0.0         NaN             360.0   \n",
       "1              NaN             1508.0       128.0             360.0   \n",
       "2           3000.0                0.0        66.0             360.0   \n",
       "3           2583.0             2358.0       120.0             360.0   \n",
       "4           6000.0                0.0       141.0             360.0   \n",
       "\n",
       "   Credit_History Property_Area Loan_Status  \n",
       "0             1.0         Urban           Y  \n",
       "1             1.0         Rural           N  \n",
       "2             1.0         Urban           Y  \n",
       "3             1.0         Urban           Y  \n",
       "4             1.0         Urban           Y  "
      ]
     },
     "execution_count": 1,
     "metadata": {},
     "output_type": "execute_result"
    }
   ],
   "source": [
    "from warnings import filterwarnings\n",
    "filterwarnings('ignore')\n",
    "import pandas as pd\n",
    "training = pd.read_csv(\"D:/Etlhive class data/Project Loan 280822 Classification and Regression/Input/training_set.csv\")\n",
    "testing = pd.read_csv(\"D:/Etlhive class data/Project Loan 280822 Classification and Regression/Input/testing_set.csv\")\n",
    "training.head()"
   ]
  },
  {
   "cell_type": "code",
   "execution_count": 2,
   "id": "524a5f55",
   "metadata": {},
   "outputs": [
    {
     "data": {
      "text/plain": [
       "Loan_ID              614\n",
       "Gender                 2\n",
       "Married                2\n",
       "Dependents             4\n",
       "Education              2\n",
       "Self_Employed          2\n",
       "ApplicantIncome      504\n",
       "CoapplicantIncome    286\n",
       "LoanAmount           203\n",
       "Loan_Amount_Term      10\n",
       "Credit_History         2\n",
       "Property_Area          3\n",
       "Loan_Status            2\n",
       "dtype: int64"
      ]
     },
     "execution_count": 2,
     "metadata": {},
     "output_type": "execute_result"
    }
   ],
   "source": [
    "training.nunique()"
   ]
  },
  {
   "cell_type": "code",
   "execution_count": 3,
   "id": "ab5c186d",
   "metadata": {},
   "outputs": [
    {
     "data": {
      "text/plain": [
       "Loan_ID               object\n",
       "Gender                object\n",
       "Married               object\n",
       "Dependents            object\n",
       "Education             object\n",
       "Self_Employed         object\n",
       "ApplicantIncome      float64\n",
       "CoapplicantIncome    float64\n",
       "LoanAmount           float64\n",
       "Loan_Amount_Term     float64\n",
       "Credit_History       float64\n",
       "Property_Area         object\n",
       "Loan_Status           object\n",
       "dtype: object"
      ]
     },
     "execution_count": 3,
     "metadata": {},
     "output_type": "execute_result"
    }
   ],
   "source": [
    "training.dtypes"
   ]
  },
  {
   "cell_type": "markdown",
   "id": "ac22a61c",
   "metadata": {},
   "source": [
    "### Dropping Statistically insignificant columns"
   ]
  },
  {
   "cell_type": "code",
   "execution_count": 4,
   "id": "2e18be40",
   "metadata": {},
   "outputs": [],
   "source": [
    "training = training.drop(labels=['Loan_ID'],axis=1)"
   ]
  },
  {
   "cell_type": "markdown",
   "id": "cc3ffaa8",
   "metadata": {},
   "source": [
    "### Observed that Credit History has float64 object type need to convert to object"
   ]
  },
  {
   "cell_type": "code",
   "execution_count": 5,
   "id": "6ac81bf2",
   "metadata": {},
   "outputs": [],
   "source": [
    "crd_hst = []\n",
    "for i in range(len(training)):\n",
    "    if training['Credit_History'][i]==1:\n",
    "        crd_hst.append('Yes')\n",
    "    elif training['Credit_History'][i]==0:\n",
    "        crd_hst.append('No')\n",
    "    else:\n",
    "        crd_hst.append(None)\n",
    "training['Credit_History']=crd_hst"
   ]
  },
  {
   "cell_type": "code",
   "execution_count": 6,
   "id": "d77d0bfb",
   "metadata": {},
   "outputs": [],
   "source": [
    "crd_hst1 = []\n",
    "for i in range(len(testing)):\n",
    "    if testing['Credit_History'][i]==1:\n",
    "        crd_hst1.append('Yes')\n",
    "    elif testing['Credit_History'][i]==0:\n",
    "        crd_hst1.append('No')\n",
    "    else:\n",
    "        crd_hst1.append(None)\n",
    "testing['Credit_History']=crd_hst1"
   ]
  },
  {
   "cell_type": "code",
   "execution_count": 7,
   "id": "fb7ad5f0",
   "metadata": {},
   "outputs": [
    {
     "data": {
      "text/plain": [
       "Gender                object\n",
       "Married               object\n",
       "Dependents            object\n",
       "Education             object\n",
       "Self_Employed         object\n",
       "ApplicantIncome      float64\n",
       "CoapplicantIncome    float64\n",
       "LoanAmount           float64\n",
       "Loan_Amount_Term     float64\n",
       "Credit_History        object\n",
       "Property_Area         object\n",
       "Loan_Status           object\n",
       "dtype: object"
      ]
     },
     "execution_count": 7,
     "metadata": {},
     "output_type": "execute_result"
    }
   ],
   "source": [
    "training.dtypes"
   ]
  },
  {
   "cell_type": "code",
   "execution_count": 8,
   "id": "08816b77",
   "metadata": {},
   "outputs": [
    {
     "data": {
      "text/plain": [
       "Loan_ID               object\n",
       "Gender                object\n",
       "Married               object\n",
       "Dependents            object\n",
       "Education             object\n",
       "Self_Employed         object\n",
       "ApplicantIncome        int64\n",
       "CoapplicantIncome      int64\n",
       "LoanAmount           float64\n",
       "Loan_Amount_Term     float64\n",
       "Credit_History        object\n",
       "Property_Area         object\n",
       "dtype: object"
      ]
     },
     "execution_count": 8,
     "metadata": {},
     "output_type": "execute_result"
    }
   ],
   "source": [
    "testing.dtypes"
   ]
  },
  {
   "cell_type": "markdown",
   "id": "d9970bb4",
   "metadata": {},
   "source": [
    "### Checking for Missing Values in Training and Testing Dataset"
   ]
  },
  {
   "cell_type": "code",
   "execution_count": 9,
   "id": "1101be9f",
   "metadata": {},
   "outputs": [
    {
     "data": {
      "text/plain": [
       "Gender               15\n",
       "Married               3\n",
       "Dependents           15\n",
       "Education             1\n",
       "Self_Employed        32\n",
       "ApplicantIncome       2\n",
       "CoapplicantIncome     1\n",
       "LoanAmount           22\n",
       "Loan_Amount_Term     14\n",
       "Credit_History       50\n",
       "Property_Area         0\n",
       "Loan_Status           0\n",
       "dtype: int64"
      ]
     },
     "execution_count": 9,
     "metadata": {},
     "output_type": "execute_result"
    }
   ],
   "source": [
    "training.isna().sum()"
   ]
  },
  {
   "cell_type": "code",
   "execution_count": 10,
   "id": "04dcb8ac",
   "metadata": {},
   "outputs": [
    {
     "data": {
      "text/plain": [
       "Loan_ID               0\n",
       "Gender               11\n",
       "Married               0\n",
       "Dependents           10\n",
       "Education             0\n",
       "Self_Employed        23\n",
       "ApplicantIncome       0\n",
       "CoapplicantIncome     0\n",
       "LoanAmount            5\n",
       "Loan_Amount_Term      6\n",
       "Credit_History       29\n",
       "Property_Area         0\n",
       "dtype: int64"
      ]
     },
     "execution_count": 10,
     "metadata": {},
     "output_type": "execute_result"
    }
   ],
   "source": [
    "testing.isna().sum()"
   ]
  },
  {
   "cell_type": "markdown",
   "id": "e1a4d0e6",
   "metadata": {},
   "source": [
    "### Missing Data Treatment"
   ]
  },
  {
   "cell_type": "code",
   "execution_count": 11,
   "id": "30948c92",
   "metadata": {},
   "outputs": [
    {
     "name": "stdout",
     "output_type": "stream",
     "text": [
      "importing Jupyter notebook from PM3.ipynb\n",
      "Missing Values replaced in DataFrame\n",
      "Missing Values replaced in DataFrame\n"
     ]
    }
   ],
   "source": [
    "import import_ipynb\n",
    "from PM3 import replacer\n",
    "replacer(training)\n",
    "replacer(testing)"
   ]
  },
  {
   "cell_type": "code",
   "execution_count": 12,
   "id": "60cd45ca",
   "metadata": {},
   "outputs": [
    {
     "data": {
      "text/plain": [
       "Gender               0\n",
       "Married              0\n",
       "Dependents           0\n",
       "Education            0\n",
       "Self_Employed        0\n",
       "ApplicantIncome      0\n",
       "CoapplicantIncome    0\n",
       "LoanAmount           0\n",
       "Loan_Amount_Term     0\n",
       "Credit_History       0\n",
       "Property_Area        0\n",
       "Loan_Status          0\n",
       "dtype: int64"
      ]
     },
     "execution_count": 12,
     "metadata": {},
     "output_type": "execute_result"
    }
   ],
   "source": [
    "training.isna().sum()"
   ]
  },
  {
   "cell_type": "markdown",
   "id": "a206b6b8",
   "metadata": {},
   "source": [
    "### Exploratory Data Analysis"
   ]
  },
  {
   "cell_type": "markdown",
   "id": "edf83332",
   "metadata": {},
   "source": [
    "#### Checking Correlation in continuous columns"
   ]
  },
  {
   "cell_type": "code",
   "execution_count": 13,
   "id": "4c01d1fe",
   "metadata": {},
   "outputs": [
    {
     "data": {
      "text/html": [
       "<div>\n",
       "<style scoped>\n",
       "    .dataframe tbody tr th:only-of-type {\n",
       "        vertical-align: middle;\n",
       "    }\n",
       "\n",
       "    .dataframe tbody tr th {\n",
       "        vertical-align: top;\n",
       "    }\n",
       "\n",
       "    .dataframe thead th {\n",
       "        text-align: right;\n",
       "    }\n",
       "</style>\n",
       "<table border=\"1\" class=\"dataframe\">\n",
       "  <thead>\n",
       "    <tr style=\"text-align: right;\">\n",
       "      <th></th>\n",
       "      <th>ApplicantIncome</th>\n",
       "      <th>CoapplicantIncome</th>\n",
       "      <th>LoanAmount</th>\n",
       "      <th>Loan_Amount_Term</th>\n",
       "    </tr>\n",
       "  </thead>\n",
       "  <tbody>\n",
       "    <tr>\n",
       "      <th>ApplicantIncome</th>\n",
       "      <td>1.000000</td>\n",
       "      <td>-0.116625</td>\n",
       "      <td>0.565552</td>\n",
       "      <td>-0.045147</td>\n",
       "    </tr>\n",
       "    <tr>\n",
       "      <th>CoapplicantIncome</th>\n",
       "      <td>-0.116625</td>\n",
       "      <td>1.000000</td>\n",
       "      <td>0.187884</td>\n",
       "      <td>-0.059710</td>\n",
       "    </tr>\n",
       "    <tr>\n",
       "      <th>LoanAmount</th>\n",
       "      <td>0.565552</td>\n",
       "      <td>0.187884</td>\n",
       "      <td>1.000000</td>\n",
       "      <td>0.038801</td>\n",
       "    </tr>\n",
       "    <tr>\n",
       "      <th>Loan_Amount_Term</th>\n",
       "      <td>-0.045147</td>\n",
       "      <td>-0.059710</td>\n",
       "      <td>0.038801</td>\n",
       "      <td>1.000000</td>\n",
       "    </tr>\n",
       "  </tbody>\n",
       "</table>\n",
       "</div>"
      ],
      "text/plain": [
       "                   ApplicantIncome  CoapplicantIncome  LoanAmount  \\\n",
       "ApplicantIncome           1.000000          -0.116625    0.565552   \n",
       "CoapplicantIncome        -0.116625           1.000000    0.187884   \n",
       "LoanAmount                0.565552           0.187884    1.000000   \n",
       "Loan_Amount_Term         -0.045147          -0.059710    0.038801   \n",
       "\n",
       "                   Loan_Amount_Term  \n",
       "ApplicantIncome           -0.045147  \n",
       "CoapplicantIncome         -0.059710  \n",
       "LoanAmount                 0.038801  \n",
       "Loan_Amount_Term           1.000000  "
      ]
     },
     "execution_count": 13,
     "metadata": {},
     "output_type": "execute_result"
    }
   ],
   "source": [
    "training.corr()"
   ]
  },
  {
   "cell_type": "markdown",
   "id": "37bb055d",
   "metadata": {},
   "source": [
    "#### Seperating Categorical and Continuous variables"
   ]
  },
  {
   "cell_type": "code",
   "execution_count": 14,
   "id": "e861f538",
   "metadata": {},
   "outputs": [
    {
     "name": "stdout",
     "output_type": "stream",
     "text": [
      "Categorical and Continuous variables appended\n"
     ]
    }
   ],
   "source": [
    "from PM3 import catcon\n",
    "cat, con = catcon(training)"
   ]
  },
  {
   "cell_type": "markdown",
   "id": "610dd38a",
   "metadata": {},
   "source": [
    "#### Performing Anova of Loan Status with Continuous columns"
   ]
  },
  {
   "cell_type": "code",
   "execution_count": 15,
   "id": "4dfc7f08",
   "metadata": {},
   "outputs": [],
   "source": [
    "from PM3 import ANOVA\n",
    "q = []\n",
    "for i in con:\n",
    "    q.append(ANOVA(training,'Loan_Status',i))"
   ]
  },
  {
   "cell_type": "code",
   "execution_count": 16,
   "id": "7cf39db6",
   "metadata": {},
   "outputs": [
    {
     "data": {
      "text/html": [
       "<div>\n",
       "<style scoped>\n",
       "    .dataframe tbody tr th:only-of-type {\n",
       "        vertical-align: middle;\n",
       "    }\n",
       "\n",
       "    .dataframe tbody tr th {\n",
       "        vertical-align: top;\n",
       "    }\n",
       "\n",
       "    .dataframe thead th {\n",
       "        text-align: right;\n",
       "    }\n",
       "</style>\n",
       "<table border=\"1\" class=\"dataframe\">\n",
       "  <thead>\n",
       "    <tr style=\"text-align: right;\">\n",
       "      <th></th>\n",
       "      <th>Column</th>\n",
       "      <th>pval</th>\n",
       "    </tr>\n",
       "  </thead>\n",
       "  <tbody>\n",
       "    <tr>\n",
       "      <th>0</th>\n",
       "      <td>ApplicantIncome</td>\n",
       "      <td>0.90252</td>\n",
       "    </tr>\n",
       "    <tr>\n",
       "      <th>1</th>\n",
       "      <td>CoapplicantIncome</td>\n",
       "      <td>0.14239</td>\n",
       "    </tr>\n",
       "    <tr>\n",
       "      <th>2</th>\n",
       "      <td>LoanAmount</td>\n",
       "      <td>0.36769</td>\n",
       "    </tr>\n",
       "    <tr>\n",
       "      <th>3</th>\n",
       "      <td>Loan_Amount_Term</td>\n",
       "      <td>0.60396</td>\n",
       "    </tr>\n",
       "  </tbody>\n",
       "</table>\n",
       "</div>"
      ],
      "text/plain": [
       "              Column     pval\n",
       "0    ApplicantIncome  0.90252\n",
       "1  CoapplicantIncome  0.14239\n",
       "2         LoanAmount  0.36769\n",
       "3   Loan_Amount_Term  0.60396"
      ]
     },
     "execution_count": 16,
     "metadata": {},
     "output_type": "execute_result"
    }
   ],
   "source": [
    "pd.DataFrame({'Column':con,'pval':q})"
   ]
  },
  {
   "cell_type": "markdown",
   "id": "92169fe3",
   "metadata": {},
   "source": [
    "#### Performing ChiSquare Test of Loan Status with Categorical columns"
   ]
  },
  {
   "cell_type": "code",
   "execution_count": 17,
   "id": "5453590d",
   "metadata": {},
   "outputs": [],
   "source": [
    "def chisquare(df,cat1,cat2):\n",
    "    import pandas as pd\n",
    "    from scipy.stats import chi2_contingency\n",
    "    a,b,c,d = chi2_contingency(pd.crosstab(df[cat1],df[cat2]))\n",
    "    return b"
   ]
  },
  {
   "cell_type": "code",
   "execution_count": 18,
   "id": "c3ea1ffd",
   "metadata": {},
   "outputs": [],
   "source": [
    "Q = []\n",
    "for i in cat:\n",
    "    Q.append(chisquare(training,'Loan_Status',i))"
   ]
  },
  {
   "cell_type": "code",
   "execution_count": 19,
   "id": "a807c119",
   "metadata": {},
   "outputs": [
    {
     "data": {
      "text/html": [
       "<div>\n",
       "<style scoped>\n",
       "    .dataframe tbody tr th:only-of-type {\n",
       "        vertical-align: middle;\n",
       "    }\n",
       "\n",
       "    .dataframe tbody tr th {\n",
       "        vertical-align: top;\n",
       "    }\n",
       "\n",
       "    .dataframe thead th {\n",
       "        text-align: right;\n",
       "    }\n",
       "</style>\n",
       "<table border=\"1\" class=\"dataframe\">\n",
       "  <thead>\n",
       "    <tr style=\"text-align: right;\">\n",
       "      <th></th>\n",
       "      <th>Columns</th>\n",
       "      <th>Pval</th>\n",
       "    </tr>\n",
       "  </thead>\n",
       "  <tbody>\n",
       "    <tr>\n",
       "      <th>0</th>\n",
       "      <td>Gender</td>\n",
       "      <td>7.391461e-01</td>\n",
       "    </tr>\n",
       "    <tr>\n",
       "      <th>1</th>\n",
       "      <td>Married</td>\n",
       "      <td>2.960858e-02</td>\n",
       "    </tr>\n",
       "    <tr>\n",
       "      <th>2</th>\n",
       "      <td>Dependents</td>\n",
       "      <td>3.688663e-01</td>\n",
       "    </tr>\n",
       "    <tr>\n",
       "      <th>3</th>\n",
       "      <td>Education</td>\n",
       "      <td>4.309962e-02</td>\n",
       "    </tr>\n",
       "    <tr>\n",
       "      <th>4</th>\n",
       "      <td>Self_Employed</td>\n",
       "      <td>1.000000e+00</td>\n",
       "    </tr>\n",
       "    <tr>\n",
       "      <th>5</th>\n",
       "      <td>Credit_History</td>\n",
       "      <td>3.418350e-40</td>\n",
       "    </tr>\n",
       "    <tr>\n",
       "      <th>6</th>\n",
       "      <td>Property_Area</td>\n",
       "      <td>2.136019e-03</td>\n",
       "    </tr>\n",
       "    <tr>\n",
       "      <th>7</th>\n",
       "      <td>Loan_Status</td>\n",
       "      <td>1.544676e-134</td>\n",
       "    </tr>\n",
       "  </tbody>\n",
       "</table>\n",
       "</div>"
      ],
      "text/plain": [
       "          Columns           Pval\n",
       "0          Gender   7.391461e-01\n",
       "1         Married   2.960858e-02\n",
       "2      Dependents   3.688663e-01\n",
       "3       Education   4.309962e-02\n",
       "4   Self_Employed   1.000000e+00\n",
       "5  Credit_History   3.418350e-40\n",
       "6   Property_Area   2.136019e-03\n",
       "7     Loan_Status  1.544676e-134"
      ]
     },
     "execution_count": 19,
     "metadata": {},
     "output_type": "execute_result"
    }
   ],
   "source": [
    "dc=pd.DataFrame({'Columns':cat,'Pval':Q})\n",
    "dc"
   ]
  },
  {
   "cell_type": "code",
   "execution_count": 20,
   "id": "5fe0b449",
   "metadata": {},
   "outputs": [],
   "source": [
    "imp_cat = list(dc[dc['Pval']<0.05].sort_values(by='Pval')['Columns'])\n",
    "del imp_cat[0]"
   ]
  },
  {
   "cell_type": "code",
   "execution_count": 21,
   "id": "7101abe3",
   "metadata": {},
   "outputs": [
    {
     "data": {
      "text/plain": [
       "['Credit_History', 'Property_Area', 'Married', 'Education']"
      ]
     },
     "execution_count": 21,
     "metadata": {},
     "output_type": "execute_result"
    }
   ],
   "source": [
    "imp_cat"
   ]
  },
  {
   "cell_type": "markdown",
   "id": "690cf7bb",
   "metadata": {},
   "source": [
    "### Define X and  Y "
   ]
  },
  {
   "cell_type": "code",
   "execution_count": 22,
   "id": "4ef1770c",
   "metadata": {},
   "outputs": [],
   "source": [
    "X = training.drop(labels=['Loan_Status'],axis=1)\n",
    "Y = training[['Loan_Status']]"
   ]
  },
  {
   "cell_type": "markdown",
   "id": "b6b61c09",
   "metadata": {},
   "source": [
    "### Preprocessing"
   ]
  },
  {
   "cell_type": "code",
   "execution_count": 23,
   "id": "d9d046d7",
   "metadata": {},
   "outputs": [
    {
     "name": "stdout",
     "output_type": "stream",
     "text": [
      "Categorical and Continuous variables appended\n"
     ]
    }
   ],
   "source": [
    "cat, con = catcon(X)\n",
    "X1 = X[con]\n",
    "X2 = pd.get_dummies(X[cat])\n",
    "Xnew = X1.join(X2)"
   ]
  },
  {
   "cell_type": "code",
   "execution_count": 24,
   "id": "04537918",
   "metadata": {},
   "outputs": [],
   "source": [
    "from sklearn.preprocessing import LabelEncoder\n",
    "le = LabelEncoder()\n",
    "Y['Loan_Status']=le.fit_transform(Y)"
   ]
  },
  {
   "cell_type": "markdown",
   "id": "f9ebebb2",
   "metadata": {},
   "source": [
    "### Train Test Split"
   ]
  },
  {
   "cell_type": "code",
   "execution_count": 25,
   "id": "1450ce9f",
   "metadata": {},
   "outputs": [],
   "source": [
    "from sklearn.model_selection import train_test_split\n",
    "xtrain,xtest,ytrain,ytest=train_test_split(Xnew,Y,test_size=0.2,random_state=21)"
   ]
  },
  {
   "cell_type": "markdown",
   "id": "19fa9135",
   "metadata": {},
   "source": [
    "# Model 1 : Decesion Tree"
   ]
  },
  {
   "cell_type": "code",
   "execution_count": 26,
   "id": "6d4fa5e7",
   "metadata": {},
   "outputs": [
    {
     "name": "stdout",
     "output_type": "stream",
     "text": [
      "Training Accuracy :  1.0\n",
      "Testing Accuracy  :  0.6911\n",
      "Training Recall   :  1.0\n",
      "Testing Recall    :  0.7059\n"
     ]
    }
   ],
   "source": [
    "from sklearn.tree import DecisionTreeClassifier\n",
    "dtc = DecisionTreeClassifier(random_state=21,criterion=\"entropy\")\n",
    "model = dtc.fit(xtrain,ytrain)\n",
    "tr_pred = model.predict(xtrain)\n",
    "ts_pred = model.predict(xtest)\n",
    "from sklearn.metrics import accuracy_score, recall_score\n",
    "tr_acc = accuracy_score(ytrain,tr_pred)\n",
    "ts_acc = accuracy_score(ytest,ts_pred)\n",
    "tr_rec = recall_score(ytrain,tr_pred)\n",
    "ts_rec = recall_score(ytest,ts_pred)\n",
    "print('Training Accuracy : ',round(tr_acc,4))\n",
    "print('Testing Accuracy  : ',round(ts_acc,4))\n",
    "print('Training Recall   : ',round(tr_rec,4))\n",
    "print('Testing Recall    : ',round(ts_rec,4))"
   ]
  },
  {
   "cell_type": "markdown",
   "id": "fad4035e",
   "metadata": {},
   "source": [
    "### Pruning"
   ]
  },
  {
   "cell_type": "code",
   "execution_count": 27,
   "id": "06a61a89",
   "metadata": {},
   "outputs": [],
   "source": [
    "tr = []\n",
    "ts = []\n",
    "for i in range(2,20,1):\n",
    "    from sklearn.tree import DecisionTreeClassifier\n",
    "    dtc = DecisionTreeClassifier(random_state=31,criterion=\"entropy\",max_depth=i)\n",
    "    model = dtc.fit(xtrain,ytrain)\n",
    "    tr_pred = model.predict(xtrain)\n",
    "    ts_pred = model.predict(xtest)\n",
    "    from sklearn.metrics import accuracy_score\n",
    "    tr_acc = accuracy_score(ytrain,tr_pred)\n",
    "    ts_acc = accuracy_score(ytest,ts_pred)\n",
    "    tr.append(round(tr_acc,2))\n",
    "    ts.append(round(ts_acc,2))"
   ]
  },
  {
   "cell_type": "code",
   "execution_count": 28,
   "id": "fab4af19",
   "metadata": {},
   "outputs": [
    {
     "data": {
      "image/png": "[encoded data removed]",
      "text/plain": [
       "<Figure size 432x288 with 1 Axes>"
      ]
     },
     "metadata": {
      "needs_background": "light"
     },
     "output_type": "display_data"
    }
   ],
   "source": [
    "import matplotlib.pyplot as plt\n",
    "r = range(2,20,1)\n",
    "plt.plot(r,tr,c=\"blue\")\n",
    "plt.plot(r,ts,c=\"red\")\n",
    "plt.xticks(r)\n",
    "plt.show()"
   ]
  },
  {
   "cell_type": "markdown",
   "id": "05340c64",
   "metadata": {},
   "source": [
    "### Creating optimum model which has max_depth = 4"
   ]
  },
  {
   "cell_type": "code",
   "execution_count": 29,
   "id": "1efc7c61",
   "metadata": {},
   "outputs": [
    {
     "name": "stdout",
     "output_type": "stream",
     "text": [
      "Training Accuracy :  0.8228\n",
      "Testing Accuracy  :  0.8211\n",
      "Training Recall   :  0.9941\n",
      "Testing Recall    :  0.9647\n"
     ]
    }
   ],
   "source": [
    "from sklearn.tree import DecisionTreeClassifier\n",
    "dtc = DecisionTreeClassifier(random_state=21,criterion=\"entropy\",max_depth=4)\n",
    "model = dtc.fit(xtrain,ytrain)\n",
    "tr_pred = model.predict(xtrain)\n",
    "ts_pred = model.predict(xtest)\n",
    "from sklearn.metrics import accuracy_score, recall_score\n",
    "tr_acc = accuracy_score(ytrain,tr_pred)\n",
    "ts_acc = accuracy_score(ytest,ts_pred)\n",
    "tr_rec = recall_score(ytrain,tr_pred)\n",
    "ts_rec = recall_score(ytest,ts_pred)\n",
    "print('Training Accuracy : ',round(tr_acc,4))\n",
    "print('Testing Accuracy  : ',round(ts_acc,4))\n",
    "print('Training Recall   : ',round(tr_rec,4))\n",
    "print('Testing Recall    : ',round(ts_rec,4))"
   ]
  },
  {
   "cell_type": "code",
   "execution_count": 30,
   "id": "7ab2b23c",
   "metadata": {},
   "outputs": [
    {
     "name": "stdout",
     "output_type": "stream",
     "text": [
      "[[19 19]\n",
      " [ 3 82]]\n"
     ]
    }
   ],
   "source": [
    "from sklearn.metrics import confusion_matrix\n",
    "print(confusion_matrix(ytest,ts_pred))"
   ]
  },
  {
   "cell_type": "markdown",
   "id": "e6cfa786",
   "metadata": {},
   "source": [
    "### Cross Validation (Gridsearchcv) for Model 1"
   ]
  },
  {
   "cell_type": "code",
   "execution_count": 31,
   "id": "a93274d4",
   "metadata": {},
   "outputs": [
    {
     "data": {
      "text/plain": [
       "{'criterion': 'gini', 'max_depth': 3}"
      ]
     },
     "execution_count": 31,
     "metadata": {},
     "output_type": "execute_result"
    }
   ],
   "source": [
    "tg = {\"max_depth\":range(2,20,1),\"criterion\":['gini','entropy']}\n",
    "from sklearn.tree import DecisionTreeClassifier\n",
    "dtc = DecisionTreeClassifier(random_state=21)\n",
    "from sklearn.model_selection import GridSearchCV\n",
    "cv = GridSearchCV(dtc,tg,scoring=\"accuracy\",cv=20)\n",
    "cvmodel = cv.fit(Xnew,Y)\n",
    "cvmodel.best_params_"
   ]
  },
  {
   "cell_type": "code",
   "execution_count": 32,
   "id": "5d8b92ae",
   "metadata": {},
   "outputs": [
    {
     "name": "stdout",
     "output_type": "stream",
     "text": [
      "Accuracy :  0.816\n",
      "Recall   :  0.7965\n"
     ]
    }
   ],
   "source": [
    "model1 = cvmodel.best_estimator_\n",
    "pred = model1.predict(Xnew)\n",
    "acc1 = accuracy_score(pred,Y)\n",
    "rec1 = recall_score(pred,Y)\n",
    "print('Accuracy : ',round(acc1,4))\n",
    "print('Recall   : ',round(rec1,4))"
   ]
  },
  {
   "cell_type": "code",
   "execution_count": 33,
   "id": "1e76b102",
   "metadata": {},
   "outputs": [
    {
     "name": "stdout",
     "output_type": "stream",
     "text": [
      "[[ 86   7]\n",
      " [106 415]]\n"
     ]
    }
   ],
   "source": [
    "print(confusion_matrix(pred,Y))"
   ]
  },
  {
   "cell_type": "code",
   "execution_count": 34,
   "id": "eb6aad2c",
   "metadata": {},
   "outputs": [],
   "source": [
    "Q = pd.DataFrame(Xnew.columns,columns=[\"col\"])\n",
    "Q['imp']=model1.feature_importances_"
   ]
  },
  {
   "cell_type": "code",
   "execution_count": 35,
   "id": "86a8f804",
   "metadata": {},
   "outputs": [
    {
     "data": {
      "text/html": [
       "<div>\n",
       "<style scoped>\n",
       "    .dataframe tbody tr th:only-of-type {\n",
       "        vertical-align: middle;\n",
       "    }\n",
       "\n",
       "    .dataframe tbody tr th {\n",
       "        vertical-align: top;\n",
       "    }\n",
       "\n",
       "    .dataframe thead th {\n",
       "        text-align: right;\n",
       "    }\n",
       "</style>\n",
       "<table border=\"1\" class=\"dataframe\">\n",
       "  <thead>\n",
       "    <tr style=\"text-align: right;\">\n",
       "      <th></th>\n",
       "      <th>col</th>\n",
       "      <th>imp</th>\n",
       "    </tr>\n",
       "  </thead>\n",
       "  <tbody>\n",
       "    <tr>\n",
       "      <th>17</th>\n",
       "      <td>Credit_History_Yes</td>\n",
       "      <td>0.887584</td>\n",
       "    </tr>\n",
       "    <tr>\n",
       "      <th>1</th>\n",
       "      <td>CoapplicantIncome</td>\n",
       "      <td>0.049299</td>\n",
       "    </tr>\n",
       "    <tr>\n",
       "      <th>19</th>\n",
       "      <td>Property_Area_Semiurban</td>\n",
       "      <td>0.036449</td>\n",
       "    </tr>\n",
       "    <tr>\n",
       "      <th>2</th>\n",
       "      <td>LoanAmount</td>\n",
       "      <td>0.019762</td>\n",
       "    </tr>\n",
       "    <tr>\n",
       "      <th>0</th>\n",
       "      <td>ApplicantIncome</td>\n",
       "      <td>0.006906</td>\n",
       "    </tr>\n",
       "    <tr>\n",
       "      <th>12</th>\n",
       "      <td>Education_Graduate</td>\n",
       "      <td>0.000000</td>\n",
       "    </tr>\n",
       "    <tr>\n",
       "      <th>18</th>\n",
       "      <td>Property_Area_Rural</td>\n",
       "      <td>0.000000</td>\n",
       "    </tr>\n",
       "    <tr>\n",
       "      <th>16</th>\n",
       "      <td>Credit_History_No</td>\n",
       "      <td>0.000000</td>\n",
       "    </tr>\n",
       "    <tr>\n",
       "      <th>15</th>\n",
       "      <td>Self_Employed_Yes</td>\n",
       "      <td>0.000000</td>\n",
       "    </tr>\n",
       "    <tr>\n",
       "      <th>14</th>\n",
       "      <td>Self_Employed_No</td>\n",
       "      <td>0.000000</td>\n",
       "    </tr>\n",
       "    <tr>\n",
       "      <th>13</th>\n",
       "      <td>Education_Not Graduate</td>\n",
       "      <td>0.000000</td>\n",
       "    </tr>\n",
       "    <tr>\n",
       "      <th>10</th>\n",
       "      <td>Dependents_2</td>\n",
       "      <td>0.000000</td>\n",
       "    </tr>\n",
       "    <tr>\n",
       "      <th>11</th>\n",
       "      <td>Dependents_3+</td>\n",
       "      <td>0.000000</td>\n",
       "    </tr>\n",
       "    <tr>\n",
       "      <th>9</th>\n",
       "      <td>Dependents_1</td>\n",
       "      <td>0.000000</td>\n",
       "    </tr>\n",
       "    <tr>\n",
       "      <th>8</th>\n",
       "      <td>Dependents_0</td>\n",
       "      <td>0.000000</td>\n",
       "    </tr>\n",
       "    <tr>\n",
       "      <th>7</th>\n",
       "      <td>Married_Yes</td>\n",
       "      <td>0.000000</td>\n",
       "    </tr>\n",
       "    <tr>\n",
       "      <th>6</th>\n",
       "      <td>Married_No</td>\n",
       "      <td>0.000000</td>\n",
       "    </tr>\n",
       "    <tr>\n",
       "      <th>5</th>\n",
       "      <td>Gender_Male</td>\n",
       "      <td>0.000000</td>\n",
       "    </tr>\n",
       "    <tr>\n",
       "      <th>4</th>\n",
       "      <td>Gender_Female</td>\n",
       "      <td>0.000000</td>\n",
       "    </tr>\n",
       "    <tr>\n",
       "      <th>3</th>\n",
       "      <td>Loan_Amount_Term</td>\n",
       "      <td>0.000000</td>\n",
       "    </tr>\n",
       "    <tr>\n",
       "      <th>20</th>\n",
       "      <td>Property_Area_Urban</td>\n",
       "      <td>0.000000</td>\n",
       "    </tr>\n",
       "  </tbody>\n",
       "</table>\n",
       "</div>"
      ],
      "text/plain": [
       "                        col       imp\n",
       "17       Credit_History_Yes  0.887584\n",
       "1         CoapplicantIncome  0.049299\n",
       "19  Property_Area_Semiurban  0.036449\n",
       "2                LoanAmount  0.019762\n",
       "0           ApplicantIncome  0.006906\n",
       "12       Education_Graduate  0.000000\n",
       "18      Property_Area_Rural  0.000000\n",
       "16        Credit_History_No  0.000000\n",
       "15        Self_Employed_Yes  0.000000\n",
       "14         Self_Employed_No  0.000000\n",
       "13   Education_Not Graduate  0.000000\n",
       "10             Dependents_2  0.000000\n",
       "11            Dependents_3+  0.000000\n",
       "9              Dependents_1  0.000000\n",
       "8              Dependents_0  0.000000\n",
       "7               Married_Yes  0.000000\n",
       "6                Married_No  0.000000\n",
       "5               Gender_Male  0.000000\n",
       "4             Gender_Female  0.000000\n",
       "3          Loan_Amount_Term  0.000000\n",
       "20      Property_Area_Urban  0.000000"
      ]
     },
     "execution_count": 35,
     "metadata": {},
     "output_type": "execute_result"
    }
   ],
   "source": [
    "Q.sort_values(by=[\"imp\"],ascending=False)"
   ]
  },
  {
   "cell_type": "markdown",
   "id": "dd2f25d7",
   "metadata": {},
   "source": [
    "# Model 2 : Random Forest "
   ]
  },
  {
   "cell_type": "markdown",
   "id": "b0fe5120",
   "metadata": {},
   "source": [
    "### Test Train Split"
   ]
  },
  {
   "cell_type": "code",
   "execution_count": 36,
   "id": "a3c18bc0",
   "metadata": {},
   "outputs": [],
   "source": [
    "from sklearn.model_selection import train_test_split\n",
    "xtrain,xtest,ytrain,ytest=train_test_split(Xnew,Y,test_size=0.2,random_state=21)"
   ]
  },
  {
   "cell_type": "markdown",
   "id": "7bccbccb",
   "metadata": {},
   "source": [
    "### Model Creation"
   ]
  },
  {
   "cell_type": "code",
   "execution_count": 37,
   "id": "a1ad1d3f",
   "metadata": {},
   "outputs": [],
   "source": [
    "from sklearn.ensemble import RandomForestClassifier\n",
    "tr = []\n",
    "ts = []\n",
    "for i in range(2,40,1):\n",
    "    rfc = RandomForestClassifier(random_state=21,n_estimators=i)\n",
    "    model = rfc.fit(xtrain,ytrain)\n",
    "    tr_pred = model.predict(xtrain)\n",
    "    ts_pred = model.predict(xtest)\n",
    "    from sklearn.metrics import accuracy_score\n",
    "    tr_acc = accuracy_score(ytrain,tr_pred)\n",
    "    ts_acc = accuracy_score(ytest,ts_pred)\n",
    "    tr.append(tr_acc)\n",
    "    ts.append(ts_acc)"
   ]
  },
  {
   "cell_type": "code",
   "execution_count": 38,
   "id": "cad3bec6",
   "metadata": {},
   "outputs": [
    {
     "data": {
      "image/png": "[encoded data removed]",
      "text/plain": [
       "<Figure size 432x288 with 1 Axes>"
      ]
     },
     "metadata": {
      "needs_background": "light"
     },
     "output_type": "display_data"
    }
   ],
   "source": [
    "import matplotlib.pyplot as plt\n",
    "r = range(2,40,1)\n",
    "plt.plot(r,tr,c=\"blue\")\n",
    "plt.plot(r,ts,c=\"red\")\n",
    "plt.xticks(r)\n",
    "plt.show()"
   ]
  },
  {
   "cell_type": "markdown",
   "id": "82f00113",
   "metadata": {},
   "source": [
    "### Creating Model with highest testing accurcy estimators=29 "
   ]
  },
  {
   "cell_type": "code",
   "execution_count": 39,
   "id": "604c7507",
   "metadata": {},
   "outputs": [
    {
     "name": "stdout",
     "output_type": "stream",
     "text": [
      "Training Accuracy :  0.9898\n",
      "Testing Accuracy  :  0.8211\n",
      "Training Recall   :  1.0\n",
      "Testing Recall    :  0.9059\n"
     ]
    }
   ],
   "source": [
    "rfc = RandomForestClassifier(random_state=21,n_estimators=29)\n",
    "model = rfc.fit(xtrain,ytrain)\n",
    "tr_pred = model.predict(xtrain)\n",
    "ts_pred = model.predict(xtest)\n",
    "from sklearn.metrics import accuracy_score, recall_score\n",
    "tr_acc = accuracy_score(ytrain,tr_pred)\n",
    "ts_acc = accuracy_score(ytest,ts_pred)\n",
    "tr_rec = recall_score(ytrain,tr_pred)\n",
    "ts_rec = recall_score(ytest,ts_pred)\n",
    "print('Training Accuracy : ',round(tr_acc,4))\n",
    "print('Testing Accuracy  : ',round(ts_acc,4))\n",
    "print('Training Recall   : ',round(tr_rec,4))\n",
    "print('Testing Recall    : ',round(ts_rec,4))"
   ]
  },
  {
   "cell_type": "code",
   "execution_count": 40,
   "id": "db9b2a00",
   "metadata": {},
   "outputs": [
    {
     "name": "stdout",
     "output_type": "stream",
     "text": [
      "[[24  8]\n",
      " [14 77]]\n"
     ]
    }
   ],
   "source": [
    "print(confusion_matrix(ts_pred,ytest))"
   ]
  },
  {
   "cell_type": "markdown",
   "id": "5e868015",
   "metadata": {},
   "source": [
    "### Cross Validation for Random Forest"
   ]
  },
  {
   "cell_type": "code",
   "execution_count": 41,
   "id": "bbe53698",
   "metadata": {},
   "outputs": [
    {
     "data": {
      "text/plain": [
       "{'criterion': 'entropy', 'max_depth': 5, 'n_estimators': 8}"
      ]
     },
     "execution_count": 41,
     "metadata": {},
     "output_type": "execute_result"
    }
   ],
   "source": [
    "from sklearn.model_selection import GridSearchCV\n",
    "rfc = RandomForestClassifier(random_state=21)\n",
    "tg = {\"n_estimators\":range(2,31,1),\"max_depth\":range(2,20),\"criterion\":['gini','entropy']}\n",
    "cv = GridSearchCV(rfc,tg,scoring='accuracy',cv=4)\n",
    "cvmodel = cv.fit(Xnew,Y)\n",
    "cvmodel.best_params_"
   ]
  },
  {
   "cell_type": "code",
   "execution_count": 42,
   "id": "ef515f9e",
   "metadata": {},
   "outputs": [
    {
     "name": "stdout",
     "output_type": "stream",
     "text": [
      "Accuracy :  0.8208\n",
      "Recall   :  0.8\n"
     ]
    }
   ],
   "source": [
    "model2 = cvmodel.best_estimator_\n",
    "pred = model2.predict(Xnew)\n",
    "acc2 = accuracy_score(pred,Y)\n",
    "rec2 = recall_score(pred,Y)\n",
    "print('Accuracy : ',round(acc2,4))\n",
    "print('Recall   : ',round(rec2,4))"
   ]
  },
  {
   "cell_type": "code",
   "execution_count": 43,
   "id": "edac696e",
   "metadata": {},
   "outputs": [
    {
     "name": "stdout",
     "output_type": "stream",
     "text": [
      "[[ 88   6]\n",
      " [104 416]]\n"
     ]
    }
   ],
   "source": [
    "print(confusion_matrix(pred,Y))"
   ]
  },
  {
   "cell_type": "code",
   "execution_count": 44,
   "id": "4feb6479",
   "metadata": {},
   "outputs": [],
   "source": [
    "Q = pd.DataFrame(Xnew.columns,columns=[\"col\"])\n",
    "Q['imp']=model2.feature_importances_"
   ]
  },
  {
   "cell_type": "code",
   "execution_count": 45,
   "id": "06672911",
   "metadata": {},
   "outputs": [
    {
     "data": {
      "text/html": [
       "<div>\n",
       "<style scoped>\n",
       "    .dataframe tbody tr th:only-of-type {\n",
       "        vertical-align: middle;\n",
       "    }\n",
       "\n",
       "    .dataframe tbody tr th {\n",
       "        vertical-align: top;\n",
       "    }\n",
       "\n",
       "    .dataframe thead th {\n",
       "        text-align: right;\n",
       "    }\n",
       "</style>\n",
       "<table border=\"1\" class=\"dataframe\">\n",
       "  <thead>\n",
       "    <tr style=\"text-align: right;\">\n",
       "      <th></th>\n",
       "      <th>col</th>\n",
       "      <th>imp</th>\n",
       "    </tr>\n",
       "  </thead>\n",
       "  <tbody>\n",
       "    <tr>\n",
       "      <th>16</th>\n",
       "      <td>Credit_History_No</td>\n",
       "      <td>0.353017</td>\n",
       "    </tr>\n",
       "    <tr>\n",
       "      <th>17</th>\n",
       "      <td>Credit_History_Yes</td>\n",
       "      <td>0.258027</td>\n",
       "    </tr>\n",
       "    <tr>\n",
       "      <th>2</th>\n",
       "      <td>LoanAmount</td>\n",
       "      <td>0.087557</td>\n",
       "    </tr>\n",
       "    <tr>\n",
       "      <th>0</th>\n",
       "      <td>ApplicantIncome</td>\n",
       "      <td>0.071386</td>\n",
       "    </tr>\n",
       "    <tr>\n",
       "      <th>3</th>\n",
       "      <td>Loan_Amount_Term</td>\n",
       "      <td>0.041107</td>\n",
       "    </tr>\n",
       "    <tr>\n",
       "      <th>9</th>\n",
       "      <td>Dependents_1</td>\n",
       "      <td>0.028049</td>\n",
       "    </tr>\n",
       "    <tr>\n",
       "      <th>1</th>\n",
       "      <td>CoapplicantIncome</td>\n",
       "      <td>0.026510</td>\n",
       "    </tr>\n",
       "    <tr>\n",
       "      <th>6</th>\n",
       "      <td>Married_No</td>\n",
       "      <td>0.016991</td>\n",
       "    </tr>\n",
       "    <tr>\n",
       "      <th>19</th>\n",
       "      <td>Property_Area_Semiurban</td>\n",
       "      <td>0.015363</td>\n",
       "    </tr>\n",
       "    <tr>\n",
       "      <th>13</th>\n",
       "      <td>Education_Not Graduate</td>\n",
       "      <td>0.014270</td>\n",
       "    </tr>\n",
       "    <tr>\n",
       "      <th>10</th>\n",
       "      <td>Dependents_2</td>\n",
       "      <td>0.014074</td>\n",
       "    </tr>\n",
       "    <tr>\n",
       "      <th>7</th>\n",
       "      <td>Married_Yes</td>\n",
       "      <td>0.011449</td>\n",
       "    </tr>\n",
       "    <tr>\n",
       "      <th>14</th>\n",
       "      <td>Self_Employed_No</td>\n",
       "      <td>0.010455</td>\n",
       "    </tr>\n",
       "    <tr>\n",
       "      <th>5</th>\n",
       "      <td>Gender_Male</td>\n",
       "      <td>0.009621</td>\n",
       "    </tr>\n",
       "    <tr>\n",
       "      <th>15</th>\n",
       "      <td>Self_Employed_Yes</td>\n",
       "      <td>0.008675</td>\n",
       "    </tr>\n",
       "    <tr>\n",
       "      <th>18</th>\n",
       "      <td>Property_Area_Rural</td>\n",
       "      <td>0.007119</td>\n",
       "    </tr>\n",
       "    <tr>\n",
       "      <th>12</th>\n",
       "      <td>Education_Graduate</td>\n",
       "      <td>0.005988</td>\n",
       "    </tr>\n",
       "    <tr>\n",
       "      <th>11</th>\n",
       "      <td>Dependents_3+</td>\n",
       "      <td>0.005834</td>\n",
       "    </tr>\n",
       "    <tr>\n",
       "      <th>4</th>\n",
       "      <td>Gender_Female</td>\n",
       "      <td>0.005414</td>\n",
       "    </tr>\n",
       "    <tr>\n",
       "      <th>20</th>\n",
       "      <td>Property_Area_Urban</td>\n",
       "      <td>0.004718</td>\n",
       "    </tr>\n",
       "    <tr>\n",
       "      <th>8</th>\n",
       "      <td>Dependents_0</td>\n",
       "      <td>0.004374</td>\n",
       "    </tr>\n",
       "  </tbody>\n",
       "</table>\n",
       "</div>"
      ],
      "text/plain": [
       "                        col       imp\n",
       "16        Credit_History_No  0.353017\n",
       "17       Credit_History_Yes  0.258027\n",
       "2                LoanAmount  0.087557\n",
       "0           ApplicantIncome  0.071386\n",
       "3          Loan_Amount_Term  0.041107\n",
       "9              Dependents_1  0.028049\n",
       "1         CoapplicantIncome  0.026510\n",
       "6                Married_No  0.016991\n",
       "19  Property_Area_Semiurban  0.015363\n",
       "13   Education_Not Graduate  0.014270\n",
       "10             Dependents_2  0.014074\n",
       "7               Married_Yes  0.011449\n",
       "14         Self_Employed_No  0.010455\n",
       "5               Gender_Male  0.009621\n",
       "15        Self_Employed_Yes  0.008675\n",
       "18      Property_Area_Rural  0.007119\n",
       "12       Education_Graduate  0.005988\n",
       "11            Dependents_3+  0.005834\n",
       "4             Gender_Female  0.005414\n",
       "20      Property_Area_Urban  0.004718\n",
       "8              Dependents_0  0.004374"
      ]
     },
     "execution_count": 45,
     "metadata": {},
     "output_type": "execute_result"
    }
   ],
   "source": [
    "Q.sort_values(by=[\"imp\"],ascending=False)"
   ]
  },
  {
   "cell_type": "markdown",
   "id": "a49c7a4e",
   "metadata": {},
   "source": [
    "### Cross Validation for Random Forest Min_Sample_Leaf Model a2"
   ]
  },
  {
   "cell_type": "code",
   "execution_count": 46,
   "id": "bcfaf0df",
   "metadata": {},
   "outputs": [
    {
     "data": {
      "text/plain": [
       "{'criterion': 'entropy', 'min_samples_leaf': 9, 'n_estimators': 4}"
      ]
     },
     "execution_count": 46,
     "metadata": {},
     "output_type": "execute_result"
    }
   ],
   "source": [
    "from sklearn.model_selection import GridSearchCV\n",
    "rfc = RandomForestClassifier(random_state=21)\n",
    "tg = {\"n_estimators\":range(2,31,1),\"min_samples_leaf\":range(2,20,1),\"criterion\":['gini','entropy']}\n",
    "cv = GridSearchCV(rfc,tg,scoring='accuracy',cv=4)\n",
    "cvmodel = cv.fit(Xnew,Y)\n",
    "cvmodel.best_params_"
   ]
  },
  {
   "cell_type": "code",
   "execution_count": 47,
   "id": "f5892c4f",
   "metadata": {},
   "outputs": [
    {
     "name": "stdout",
     "output_type": "stream",
     "text": [
      "Accuracy :  0.8208\n",
      "Recall   :  0.8023\n"
     ]
    }
   ],
   "source": [
    "model_a2 = cvmodel.best_estimator_\n",
    "pred = model_a2.predict(Xnew)\n",
    "acc_a2 = accuracy_score(pred,Y)\n",
    "rec_a2 = recall_score(pred,Y)\n",
    "print('Accuracy : ',round(acc_a2,4))\n",
    "print('Recall   : ',round(rec_a2,4))"
   ]
  },
  {
   "cell_type": "markdown",
   "id": "9a1dedc9",
   "metadata": {},
   "source": [
    "### Cross Validation for Random Forest Min_Sample_Split Model b2"
   ]
  },
  {
   "cell_type": "code",
   "execution_count": 48,
   "id": "06e4fae4",
   "metadata": {},
   "outputs": [
    {
     "data": {
      "text/plain": [
       "{'criterion': 'gini', 'min_samples_split': 16, 'n_estimators': 7}"
      ]
     },
     "execution_count": 48,
     "metadata": {},
     "output_type": "execute_result"
    }
   ],
   "source": [
    "from sklearn.model_selection import GridSearchCV\n",
    "rfc = RandomForestClassifier(random_state=21)\n",
    "tg = {\"n_estimators\":range(2,31,1),\"min_samples_split\":range(2,20,1),\"criterion\":['gini','entropy']}\n",
    "cv = GridSearchCV(rfc,tg,scoring='accuracy',cv=4)\n",
    "cvmodel = cv.fit(Xnew,Y)\n",
    "cvmodel.best_params_"
   ]
  },
  {
   "cell_type": "code",
   "execution_count": 49,
   "id": "3cda691e",
   "metadata": {},
   "outputs": [
    {
     "name": "stdout",
     "output_type": "stream",
     "text": [
      "Accuracy :  0.855\n",
      "Recall   :  0.8433\n"
     ]
    }
   ],
   "source": [
    "model_b2= cvmodel.best_estimator_\n",
    "pred = model_b2.predict(Xnew)\n",
    "acc_b2 = accuracy_score(pred,Y)\n",
    "rec_b2 = recall_score(pred,Y)\n",
    "print('Accuracy : ',round(acc_b2,4))\n",
    "print('Recall   : ',round(rec_b2,4))"
   ]
  },
  {
   "cell_type": "code",
   "execution_count": 50,
   "id": "c30472b8",
   "metadata": {},
   "outputs": [],
   "source": [
    "Q = pd.DataFrame(Xnew.columns,columns=[\"col\"])\n",
    "Q['imp']=model_b2.feature_importances_"
   ]
  },
  {
   "cell_type": "code",
   "execution_count": 51,
   "id": "de3d3fbd",
   "metadata": {},
   "outputs": [
    {
     "data": {
      "text/html": [
       "<div>\n",
       "<style scoped>\n",
       "    .dataframe tbody tr th:only-of-type {\n",
       "        vertical-align: middle;\n",
       "    }\n",
       "\n",
       "    .dataframe tbody tr th {\n",
       "        vertical-align: top;\n",
       "    }\n",
       "\n",
       "    .dataframe thead th {\n",
       "        text-align: right;\n",
       "    }\n",
       "</style>\n",
       "<table border=\"1\" class=\"dataframe\">\n",
       "  <thead>\n",
       "    <tr style=\"text-align: right;\">\n",
       "      <th></th>\n",
       "      <th>col</th>\n",
       "      <th>imp</th>\n",
       "    </tr>\n",
       "  </thead>\n",
       "  <tbody>\n",
       "    <tr>\n",
       "      <th>16</th>\n",
       "      <td>Credit_History_No</td>\n",
       "      <td>0.327826</td>\n",
       "    </tr>\n",
       "    <tr>\n",
       "      <th>17</th>\n",
       "      <td>Credit_History_Yes</td>\n",
       "      <td>0.158441</td>\n",
       "    </tr>\n",
       "    <tr>\n",
       "      <th>0</th>\n",
       "      <td>ApplicantIncome</td>\n",
       "      <td>0.132284</td>\n",
       "    </tr>\n",
       "    <tr>\n",
       "      <th>2</th>\n",
       "      <td>LoanAmount</td>\n",
       "      <td>0.107462</td>\n",
       "    </tr>\n",
       "    <tr>\n",
       "      <th>1</th>\n",
       "      <td>CoapplicantIncome</td>\n",
       "      <td>0.056706</td>\n",
       "    </tr>\n",
       "    <tr>\n",
       "      <th>3</th>\n",
       "      <td>Loan_Amount_Term</td>\n",
       "      <td>0.040993</td>\n",
       "    </tr>\n",
       "    <tr>\n",
       "      <th>19</th>\n",
       "      <td>Property_Area_Semiurban</td>\n",
       "      <td>0.025011</td>\n",
       "    </tr>\n",
       "    <tr>\n",
       "      <th>8</th>\n",
       "      <td>Dependents_0</td>\n",
       "      <td>0.019732</td>\n",
       "    </tr>\n",
       "    <tr>\n",
       "      <th>7</th>\n",
       "      <td>Married_Yes</td>\n",
       "      <td>0.019198</td>\n",
       "    </tr>\n",
       "    <tr>\n",
       "      <th>12</th>\n",
       "      <td>Education_Graduate</td>\n",
       "      <td>0.018202</td>\n",
       "    </tr>\n",
       "    <tr>\n",
       "      <th>5</th>\n",
       "      <td>Gender_Male</td>\n",
       "      <td>0.014468</td>\n",
       "    </tr>\n",
       "    <tr>\n",
       "      <th>18</th>\n",
       "      <td>Property_Area_Rural</td>\n",
       "      <td>0.012772</td>\n",
       "    </tr>\n",
       "    <tr>\n",
       "      <th>10</th>\n",
       "      <td>Dependents_2</td>\n",
       "      <td>0.012143</td>\n",
       "    </tr>\n",
       "    <tr>\n",
       "      <th>15</th>\n",
       "      <td>Self_Employed_Yes</td>\n",
       "      <td>0.009755</td>\n",
       "    </tr>\n",
       "    <tr>\n",
       "      <th>6</th>\n",
       "      <td>Married_No</td>\n",
       "      <td>0.008526</td>\n",
       "    </tr>\n",
       "    <tr>\n",
       "      <th>11</th>\n",
       "      <td>Dependents_3+</td>\n",
       "      <td>0.008411</td>\n",
       "    </tr>\n",
       "    <tr>\n",
       "      <th>13</th>\n",
       "      <td>Education_Not Graduate</td>\n",
       "      <td>0.006956</td>\n",
       "    </tr>\n",
       "    <tr>\n",
       "      <th>9</th>\n",
       "      <td>Dependents_1</td>\n",
       "      <td>0.006409</td>\n",
       "    </tr>\n",
       "    <tr>\n",
       "      <th>20</th>\n",
       "      <td>Property_Area_Urban</td>\n",
       "      <td>0.006397</td>\n",
       "    </tr>\n",
       "    <tr>\n",
       "      <th>4</th>\n",
       "      <td>Gender_Female</td>\n",
       "      <td>0.004266</td>\n",
       "    </tr>\n",
       "    <tr>\n",
       "      <th>14</th>\n",
       "      <td>Self_Employed_No</td>\n",
       "      <td>0.004043</td>\n",
       "    </tr>\n",
       "  </tbody>\n",
       "</table>\n",
       "</div>"
      ],
      "text/plain": [
       "                        col       imp\n",
       "16        Credit_History_No  0.327826\n",
       "17       Credit_History_Yes  0.158441\n",
       "0           ApplicantIncome  0.132284\n",
       "2                LoanAmount  0.107462\n",
       "1         CoapplicantIncome  0.056706\n",
       "3          Loan_Amount_Term  0.040993\n",
       "19  Property_Area_Semiurban  0.025011\n",
       "8              Dependents_0  0.019732\n",
       "7               Married_Yes  0.019198\n",
       "12       Education_Graduate  0.018202\n",
       "5               Gender_Male  0.014468\n",
       "18      Property_Area_Rural  0.012772\n",
       "10             Dependents_2  0.012143\n",
       "15        Self_Employed_Yes  0.009755\n",
       "6                Married_No  0.008526\n",
       "11            Dependents_3+  0.008411\n",
       "13   Education_Not Graduate  0.006956\n",
       "9              Dependents_1  0.006409\n",
       "20      Property_Area_Urban  0.006397\n",
       "4             Gender_Female  0.004266\n",
       "14         Self_Employed_No  0.004043"
      ]
     },
     "execution_count": 51,
     "metadata": {},
     "output_type": "execute_result"
    }
   ],
   "source": [
    "Q.sort_values(by=[\"imp\"],ascending=False)"
   ]
  },
  {
   "cell_type": "markdown",
   "id": "4d56ead4",
   "metadata": {},
   "source": [
    "# Model 3 Adaboost"
   ]
  },
  {
   "cell_type": "markdown",
   "id": "41ec79af",
   "metadata": {},
   "source": [
    "### Test Train Split "
   ]
  },
  {
   "cell_type": "code",
   "execution_count": 52,
   "id": "e567ed42",
   "metadata": {},
   "outputs": [],
   "source": [
    "from sklearn.model_selection import train_test_split\n",
    "xtrain,xtest,ytrain,ytest=train_test_split(Xnew,Y,test_size=0.2,random_state=21)"
   ]
  },
  {
   "cell_type": "markdown",
   "id": "e9112a5a",
   "metadata": {},
   "source": [
    "### Model Creation"
   ]
  },
  {
   "cell_type": "code",
   "execution_count": 53,
   "id": "5314b852",
   "metadata": {},
   "outputs": [],
   "source": [
    "from sklearn.ensemble import AdaBoostClassifier\n",
    "from sklearn.tree import DecisionTreeClassifier\n",
    "dtc = DecisionTreeClassifier(max_depth=2)\n",
    "tr = []\n",
    "ts = []\n",
    "for i in range(2,40):\n",
    "    abc = AdaBoostClassifier(dtc,n_estimators=i)\n",
    "    model = abc.fit(xtrain,ytrain)\n",
    "    tr_pred = model.predict(xtrain)\n",
    "    ts_pred = model.predict(xtest)\n",
    "    from sklearn.metrics import accuracy_score\n",
    "    tr_acc = accuracy_score(ytrain,tr_pred)\n",
    "    ts_acc = accuracy_score(ytest,ts_pred)\n",
    "    tr.append(tr_acc)\n",
    "    ts.append(ts_acc)"
   ]
  },
  {
   "cell_type": "code",
   "execution_count": 54,
   "id": "adfca6c8",
   "metadata": {},
   "outputs": [
    {
     "data": {
      "image/png": "[encoded data removed]",
      "text/plain": [
       "<Figure size 432x288 with 1 Axes>"
      ]
     },
     "metadata": {
      "needs_background": "light"
     },
     "output_type": "display_data"
    }
   ],
   "source": [
    "import matplotlib.pyplot as plt\n",
    "r = range(2,40,1)\n",
    "plt.plot(r,tr,c=\"blue\")\n",
    "plt.plot(r,ts,c=\"red\")\n",
    "plt.xticks(r)\n",
    "plt.show()"
   ]
  },
  {
   "cell_type": "markdown",
   "id": "25ebc88a",
   "metadata": {},
   "source": [
    "### creating best model with estimators = 2"
   ]
  },
  {
   "cell_type": "code",
   "execution_count": 55,
   "id": "93a4cc0c",
   "metadata": {},
   "outputs": [
    {
     "name": "stdout",
     "output_type": "stream",
     "text": [
      "Training Accuracy :  0.8147\n",
      "Testing Accuracy  :  0.8211\n",
      "Training Recall   :  0.9881\n",
      "Testing Recall    :  0.9647\n"
     ]
    }
   ],
   "source": [
    "abc = AdaBoostClassifier(dtc,n_estimators=2)\n",
    "model = abc.fit(xtrain,ytrain)\n",
    "tr_pred = model.predict(xtrain)\n",
    "ts_pred = model.predict(xtest)\n",
    "from sklearn.metrics import accuracy_score, recall_score\n",
    "tr_acc = accuracy_score(ytrain,tr_pred)\n",
    "ts_acc = accuracy_score(ytest,ts_pred)\n",
    "tr_rec = recall_score(ytrain,tr_pred)\n",
    "ts_rec = recall_score(ytest,ts_pred)\n",
    "print('Training Accuracy : ',round(tr_acc,4))\n",
    "print('Testing Accuracy  : ',round(ts_acc,4))\n",
    "print('Training Recall   : ',round(tr_rec,4))\n",
    "print('Testing Recall    : ',round(ts_rec,4))"
   ]
  },
  {
   "cell_type": "code",
   "execution_count": 56,
   "id": "04aaa348",
   "metadata": {},
   "outputs": [
    {
     "name": "stdout",
     "output_type": "stream",
     "text": [
      "[[19  3]\n",
      " [19 82]]\n"
     ]
    }
   ],
   "source": [
    "print(confusion_matrix(ts_pred,ytest))"
   ]
  },
  {
   "cell_type": "markdown",
   "id": "f0f97ae5",
   "metadata": {},
   "source": [
    "### Cross Validation for Adaboost"
   ]
  },
  {
   "cell_type": "code",
   "execution_count": 57,
   "id": "7a87ecb2",
   "metadata": {},
   "outputs": [
    {
     "data": {
      "text/plain": [
       "{'n_estimators': 2}"
      ]
     },
     "execution_count": 57,
     "metadata": {},
     "output_type": "execute_result"
    }
   ],
   "source": [
    "from sklearn.model_selection import GridSearchCV\n",
    "abc = AdaBoostClassifier(dtc)\n",
    "\n",
    "tg = {'n_estimators':range(2,41,1)}\n",
    "cv = GridSearchCV(abc,tg,scoring='accuracy',cv=20)\n",
    "cvmodel = cv.fit(Xnew,Y)\n",
    "cvmodel.best_params_"
   ]
  },
  {
   "cell_type": "code",
   "execution_count": 58,
   "id": "640c2b98",
   "metadata": {},
   "outputs": [
    {
     "name": "stdout",
     "output_type": "stream",
     "text": [
      "Accuracy :  0.816\n",
      "Recall   :  0.7965\n"
     ]
    }
   ],
   "source": [
    "model3 = cvmodel.best_estimator_\n",
    "pred = model3.predict(Xnew)\n",
    "acc3 = accuracy_score(pred,Y)\n",
    "rec3 = recall_score(pred,Y)\n",
    "print('Accuracy : ',round(acc3,4))\n",
    "print('Recall   : ',round(rec3,4))"
   ]
  },
  {
   "cell_type": "code",
   "execution_count": 59,
   "id": "ef39613c",
   "metadata": {},
   "outputs": [],
   "source": [
    "Q = pd.DataFrame(Xnew.columns,columns=[\"col\"])\n",
    "Q['imp']=model3.feature_importances_"
   ]
  },
  {
   "cell_type": "code",
   "execution_count": 60,
   "id": "9ca60620",
   "metadata": {},
   "outputs": [
    {
     "data": {
      "text/html": [
       "<div>\n",
       "<style scoped>\n",
       "    .dataframe tbody tr th:only-of-type {\n",
       "        vertical-align: middle;\n",
       "    }\n",
       "\n",
       "    .dataframe tbody tr th {\n",
       "        vertical-align: top;\n",
       "    }\n",
       "\n",
       "    .dataframe thead th {\n",
       "        text-align: right;\n",
       "    }\n",
       "</style>\n",
       "<table border=\"1\" class=\"dataframe\">\n",
       "  <thead>\n",
       "    <tr style=\"text-align: right;\">\n",
       "      <th></th>\n",
       "      <th>col</th>\n",
       "      <th>imp</th>\n",
       "    </tr>\n",
       "  </thead>\n",
       "  <tbody>\n",
       "    <tr>\n",
       "      <th>17</th>\n",
       "      <td>Credit_History_Yes</td>\n",
       "      <td>0.468204</td>\n",
       "    </tr>\n",
       "    <tr>\n",
       "      <th>19</th>\n",
       "      <td>Property_Area_Semiurban</td>\n",
       "      <td>0.273382</td>\n",
       "    </tr>\n",
       "    <tr>\n",
       "      <th>2</th>\n",
       "      <td>LoanAmount</td>\n",
       "      <td>0.156440</td>\n",
       "    </tr>\n",
       "    <tr>\n",
       "      <th>1</th>\n",
       "      <td>CoapplicantIncome</td>\n",
       "      <td>0.101975</td>\n",
       "    </tr>\n",
       "    <tr>\n",
       "      <th>0</th>\n",
       "      <td>ApplicantIncome</td>\n",
       "      <td>0.000000</td>\n",
       "    </tr>\n",
       "    <tr>\n",
       "      <th>12</th>\n",
       "      <td>Education_Graduate</td>\n",
       "      <td>0.000000</td>\n",
       "    </tr>\n",
       "    <tr>\n",
       "      <th>18</th>\n",
       "      <td>Property_Area_Rural</td>\n",
       "      <td>0.000000</td>\n",
       "    </tr>\n",
       "    <tr>\n",
       "      <th>16</th>\n",
       "      <td>Credit_History_No</td>\n",
       "      <td>0.000000</td>\n",
       "    </tr>\n",
       "    <tr>\n",
       "      <th>15</th>\n",
       "      <td>Self_Employed_Yes</td>\n",
       "      <td>0.000000</td>\n",
       "    </tr>\n",
       "    <tr>\n",
       "      <th>14</th>\n",
       "      <td>Self_Employed_No</td>\n",
       "      <td>0.000000</td>\n",
       "    </tr>\n",
       "    <tr>\n",
       "      <th>13</th>\n",
       "      <td>Education_Not Graduate</td>\n",
       "      <td>0.000000</td>\n",
       "    </tr>\n",
       "    <tr>\n",
       "      <th>10</th>\n",
       "      <td>Dependents_2</td>\n",
       "      <td>0.000000</td>\n",
       "    </tr>\n",
       "    <tr>\n",
       "      <th>11</th>\n",
       "      <td>Dependents_3+</td>\n",
       "      <td>0.000000</td>\n",
       "    </tr>\n",
       "    <tr>\n",
       "      <th>9</th>\n",
       "      <td>Dependents_1</td>\n",
       "      <td>0.000000</td>\n",
       "    </tr>\n",
       "    <tr>\n",
       "      <th>8</th>\n",
       "      <td>Dependents_0</td>\n",
       "      <td>0.000000</td>\n",
       "    </tr>\n",
       "    <tr>\n",
       "      <th>7</th>\n",
       "      <td>Married_Yes</td>\n",
       "      <td>0.000000</td>\n",
       "    </tr>\n",
       "    <tr>\n",
       "      <th>6</th>\n",
       "      <td>Married_No</td>\n",
       "      <td>0.000000</td>\n",
       "    </tr>\n",
       "    <tr>\n",
       "      <th>5</th>\n",
       "      <td>Gender_Male</td>\n",
       "      <td>0.000000</td>\n",
       "    </tr>\n",
       "    <tr>\n",
       "      <th>4</th>\n",
       "      <td>Gender_Female</td>\n",
       "      <td>0.000000</td>\n",
       "    </tr>\n",
       "    <tr>\n",
       "      <th>3</th>\n",
       "      <td>Loan_Amount_Term</td>\n",
       "      <td>0.000000</td>\n",
       "    </tr>\n",
       "    <tr>\n",
       "      <th>20</th>\n",
       "      <td>Property_Area_Urban</td>\n",
       "      <td>0.000000</td>\n",
       "    </tr>\n",
       "  </tbody>\n",
       "</table>\n",
       "</div>"
      ],
      "text/plain": [
       "                        col       imp\n",
       "17       Credit_History_Yes  0.468204\n",
       "19  Property_Area_Semiurban  0.273382\n",
       "2                LoanAmount  0.156440\n",
       "1         CoapplicantIncome  0.101975\n",
       "0           ApplicantIncome  0.000000\n",
       "12       Education_Graduate  0.000000\n",
       "18      Property_Area_Rural  0.000000\n",
       "16        Credit_History_No  0.000000\n",
       "15        Self_Employed_Yes  0.000000\n",
       "14         Self_Employed_No  0.000000\n",
       "13   Education_Not Graduate  0.000000\n",
       "10             Dependents_2  0.000000\n",
       "11            Dependents_3+  0.000000\n",
       "9              Dependents_1  0.000000\n",
       "8              Dependents_0  0.000000\n",
       "7               Married_Yes  0.000000\n",
       "6                Married_No  0.000000\n",
       "5               Gender_Male  0.000000\n",
       "4             Gender_Female  0.000000\n",
       "3          Loan_Amount_Term  0.000000\n",
       "20      Property_Area_Urban  0.000000"
      ]
     },
     "execution_count": 60,
     "metadata": {},
     "output_type": "execute_result"
    }
   ],
   "source": [
    "Q.sort_values(by=[\"imp\"],ascending=False)"
   ]
  },
  {
   "cell_type": "markdown",
   "id": "3b7e65c8",
   "metadata": {},
   "source": [
    "# Model 4 : KNN"
   ]
  },
  {
   "cell_type": "markdown",
   "id": "d8e55efa",
   "metadata": {},
   "source": [
    "### Scaling the data with Standard Scaler"
   ]
  },
  {
   "cell_type": "code",
   "execution_count": 61,
   "id": "d68c4b46",
   "metadata": {},
   "outputs": [],
   "source": [
    "from sklearn.preprocessing import StandardScaler\n",
    "ss = StandardScaler()\n",
    "X11 = pd.DataFrame(ss.fit_transform(X[con]),columns=con)"
   ]
  },
  {
   "cell_type": "code",
   "execution_count": 62,
   "id": "0f8b09ff",
   "metadata": {},
   "outputs": [],
   "source": [
    "X21= pd.get_dummies(X[cat])\n",
    "Xnew2 = X11.join(X21)"
   ]
  },
  {
   "cell_type": "markdown",
   "id": "4a654a12",
   "metadata": {},
   "source": [
    "### Test Train Split"
   ]
  },
  {
   "cell_type": "code",
   "execution_count": 63,
   "id": "bf54ce1a",
   "metadata": {},
   "outputs": [],
   "source": [
    "from sklearn.model_selection import train_test_split\n",
    "xtrain,xtest,ytrain,ytest=train_test_split(Xnew2,Y,test_size=0.2,random_state=21)"
   ]
  },
  {
   "cell_type": "markdown",
   "id": "9dd90144",
   "metadata": {},
   "source": [
    "### Model Creation "
   ]
  },
  {
   "cell_type": "code",
   "execution_count": 64,
   "id": "604f7315",
   "metadata": {},
   "outputs": [],
   "source": [
    "from sklearn.neighbors import KNeighborsClassifier\n",
    "tr = []\n",
    "ts = []\n",
    "for i in range(2,31):\n",
    "    knn = KNeighborsClassifier(n_neighbors=i)\n",
    "    model = knn.fit(xtrain,ytrain)\n",
    "    tr_pred = model.predict(xtrain)\n",
    "    ts_pred = model.predict(xtest)\n",
    "    from sklearn.metrics import accuracy_score\n",
    "    tr_acc = accuracy_score(ytrain,tr_pred)\n",
    "    ts_acc = accuracy_score(ytest,ts_pred)\n",
    "    tr.append(tr_acc)\n",
    "    ts.append(ts_acc)"
   ]
  },
  {
   "cell_type": "code",
   "execution_count": 65,
   "id": "b44081ad",
   "metadata": {},
   "outputs": [
    {
     "data": {
      "image/png": "[encoded data removed]",
      "text/plain": [
       "<Figure size 432x288 with 1 Axes>"
      ]
     },
     "metadata": {
      "needs_background": "light"
     },
     "output_type": "display_data"
    }
   ],
   "source": [
    "import matplotlib.pyplot as plt\n",
    "r = range(2,31,1)\n",
    "plt.plot(r,tr,c=\"blue\")\n",
    "plt.plot(r,ts,c=\"red\")\n",
    "plt.xticks(r)\n",
    "plt.show()"
   ]
  },
  {
   "cell_type": "code",
   "execution_count": 66,
   "id": "f02c36ad",
   "metadata": {},
   "outputs": [
    {
     "data": {
      "text/plain": [
       "0.7967479674796748"
      ]
     },
     "execution_count": 66,
     "metadata": {},
     "output_type": "execute_result"
    }
   ],
   "source": [
    "max(ts)"
   ]
  },
  {
   "cell_type": "markdown",
   "id": "27336999",
   "metadata": {},
   "source": [
    "### Creating model with 18 neighbours"
   ]
  },
  {
   "cell_type": "code",
   "execution_count": 67,
   "id": "95099d50",
   "metadata": {},
   "outputs": [
    {
     "name": "stdout",
     "output_type": "stream",
     "text": [
      "Training Accuracy :  0.778\n",
      "Testing Accuracy  :  0.7967\n",
      "Training Recall   :  0.9941\n",
      "Testing Recall    :  0.9765\n"
     ]
    }
   ],
   "source": [
    "knn = KNeighborsClassifier(n_neighbors=18)\n",
    "model = knn.fit(xtrain,ytrain)\n",
    "tr_pred = model.predict(xtrain)\n",
    "ts_pred = model.predict(xtest)\n",
    "from sklearn.metrics import accuracy_score, recall_score\n",
    "tr_acc = accuracy_score(ytrain,tr_pred)\n",
    "ts_acc = accuracy_score(ytest,ts_pred)\n",
    "tr_rec = recall_score(ytrain,tr_pred)\n",
    "ts_rec = recall_score(ytest,ts_pred)\n",
    "print('Training Accuracy : ',round(tr_acc,4))\n",
    "print('Testing Accuracy  : ',round(ts_acc,4))\n",
    "print('Training Recall   : ',round(tr_rec,4))\n",
    "print('Testing Recall    : ',round(ts_rec,4))"
   ]
  },
  {
   "cell_type": "markdown",
   "id": "cc42941c",
   "metadata": {},
   "source": [
    "### KNN Crossvalidation"
   ]
  },
  {
   "cell_type": "code",
   "execution_count": 68,
   "id": "0e7c9947",
   "metadata": {},
   "outputs": [
    {
     "data": {
      "text/plain": [
       "{'n_neighbors': 16}"
      ]
     },
     "execution_count": 68,
     "metadata": {},
     "output_type": "execute_result"
    }
   ],
   "source": [
    "from sklearn.model_selection import GridSearchCV\n",
    "knn = KNeighborsClassifier()\n",
    "\n",
    "tg = {\"n_neighbors\":range(2,31,1)}\n",
    "cv = GridSearchCV(knn,tg,scoring='accuracy',cv=20)\n",
    "cvmodel = cv.fit(Xnew2,Y)\n",
    "cvmodel.best_params_"
   ]
  },
  {
   "cell_type": "code",
   "execution_count": 69,
   "id": "b52c0498",
   "metadata": {},
   "outputs": [
    {
     "name": "stdout",
     "output_type": "stream",
     "text": [
      "Accuracy :  0.8094\n",
      "Recall   :  0.7905\n"
     ]
    }
   ],
   "source": [
    "model4 = cvmodel.best_estimator_\n",
    "pred = model3.predict(Xnew2)\n",
    "acc4 = accuracy_score(pred,Y)\n",
    "rec4 = recall_score(pred,Y)\n",
    "print('Accuracy : ',round(acc4,4))\n",
    "print('Recall   : ',round(rec4,4))"
   ]
  },
  {
   "cell_type": "markdown",
   "id": "321e3e54",
   "metadata": {},
   "source": [
    "# Checking Accuracy Score and Recall for each cross validated model "
   ]
  },
  {
   "cell_type": "code",
   "execution_count": 70,
   "id": "4928a3d7",
   "metadata": {},
   "outputs": [
    {
     "data": {
      "text/html": [
       "<div>\n",
       "<style scoped>\n",
       "    .dataframe tbody tr th:only-of-type {\n",
       "        vertical-align: middle;\n",
       "    }\n",
       "\n",
       "    .dataframe tbody tr th {\n",
       "        vertical-align: top;\n",
       "    }\n",
       "\n",
       "    .dataframe thead th {\n",
       "        text-align: right;\n",
       "    }\n",
       "</style>\n",
       "<table border=\"1\" class=\"dataframe\">\n",
       "  <thead>\n",
       "    <tr style=\"text-align: right;\">\n",
       "      <th></th>\n",
       "      <th>Algorithm</th>\n",
       "      <th>Accuracy</th>\n",
       "      <th>Recall</th>\n",
       "      <th>Model Number</th>\n",
       "    </tr>\n",
       "  </thead>\n",
       "  <tbody>\n",
       "    <tr>\n",
       "      <th>0</th>\n",
       "      <td>Decision Tree</td>\n",
       "      <td>0.815961</td>\n",
       "      <td>0.796545</td>\n",
       "      <td>1</td>\n",
       "    </tr>\n",
       "    <tr>\n",
       "      <th>1</th>\n",
       "      <td>Random Forest Max Depth</td>\n",
       "      <td>0.820847</td>\n",
       "      <td>0.800000</td>\n",
       "      <td>2</td>\n",
       "    </tr>\n",
       "    <tr>\n",
       "      <th>2</th>\n",
       "      <td>Random Forest Min Sample Leaf</td>\n",
       "      <td>0.820847</td>\n",
       "      <td>0.802326</td>\n",
       "      <td>a2</td>\n",
       "    </tr>\n",
       "    <tr>\n",
       "      <th>3</th>\n",
       "      <td>Random Forest Min Sample Split</td>\n",
       "      <td>0.855049</td>\n",
       "      <td>0.843299</td>\n",
       "      <td>b2</td>\n",
       "    </tr>\n",
       "    <tr>\n",
       "      <th>4</th>\n",
       "      <td>Adaboost</td>\n",
       "      <td>0.815961</td>\n",
       "      <td>0.796545</td>\n",
       "      <td>3</td>\n",
       "    </tr>\n",
       "    <tr>\n",
       "      <th>5</th>\n",
       "      <td>KNN</td>\n",
       "      <td>0.809446</td>\n",
       "      <td>0.790476</td>\n",
       "      <td>4</td>\n",
       "    </tr>\n",
       "  </tbody>\n",
       "</table>\n",
       "</div>"
      ],
      "text/plain": [
       "                        Algorithm  Accuracy    Recall Model Number\n",
       "0                   Decision Tree  0.815961  0.796545            1\n",
       "1         Random Forest Max Depth  0.820847  0.800000            2\n",
       "2   Random Forest Min Sample Leaf  0.820847  0.802326           a2\n",
       "3  Random Forest Min Sample Split  0.855049  0.843299           b2\n",
       "4                        Adaboost  0.815961  0.796545            3\n",
       "5                             KNN  0.809446  0.790476            4"
      ]
     },
     "execution_count": 70,
     "metadata": {},
     "output_type": "execute_result"
    }
   ],
   "source": [
    "score = {'Algorithm':['Decision Tree','Random Forest Max Depth','Random Forest Min Sample Leaf','Random Forest Min Sample Split','Adaboost','KNN'],\n",
    "         'Accuracy':[acc1,acc2,acc_a2,acc_b2,acc3,acc4],\n",
    "         'Recall':[rec1,rec2,rec_a2,rec_b2,rec3,rec4],\n",
    "         'Model Number':['1','2','a2','b2','3','4']}\n",
    "s = pd.DataFrame(score)\n",
    "s"
   ]
  },
  {
   "cell_type": "markdown",
   "id": "3ff523eb",
   "metadata": {},
   "source": [
    "# Above Results Show that Random Forest with Max Split is best than other models"
   ]
  },
  {
   "cell_type": "markdown",
   "id": "42eb2e3c",
   "metadata": {},
   "source": [
    "# Using random forest Max Split to predict Testing sheet"
   ]
  },
  {
   "cell_type": "code",
   "execution_count": 71,
   "id": "917888c5",
   "metadata": {},
   "outputs": [
    {
     "name": "stdout",
     "output_type": "stream",
     "text": [
      "Categorical and Continuous variables appended\n"
     ]
    }
   ],
   "source": [
    "testing2 = testing.drop(labels='Loan_ID',axis=1)\n",
    "cat2, con2 =catcon(testing2) "
   ]
  },
  {
   "cell_type": "code",
   "execution_count": 72,
   "id": "0ed7dc42",
   "metadata": {},
   "outputs": [],
   "source": [
    "Xts1 = testing2[con2]\n",
    "Xts2 = pd.get_dummies(testing2[cat2])\n",
    "XtsNew = Xts1.join(Xts2)"
   ]
  },
  {
   "cell_type": "code",
   "execution_count": 73,
   "id": "ef65b1e5",
   "metadata": {},
   "outputs": [
    {
     "data": {
      "text/plain": [
       "(367, 21)"
      ]
     },
     "execution_count": 73,
     "metadata": {},
     "output_type": "execute_result"
    }
   ],
   "source": [
    "XtsNew.shape"
   ]
  },
  {
   "cell_type": "code",
   "execution_count": 74,
   "id": "be0876e8",
   "metadata": {},
   "outputs": [
    {
     "data": {
      "text/plain": [
       "(614, 21)"
      ]
     },
     "execution_count": 74,
     "metadata": {},
     "output_type": "execute_result"
    }
   ],
   "source": [
    "Xnew.shape"
   ]
  },
  {
   "cell_type": "code",
   "execution_count": 75,
   "id": "1349ee42",
   "metadata": {},
   "outputs": [],
   "source": [
    "TestPredictions = model_b2.predict(XtsNew)"
   ]
  },
  {
   "cell_type": "code",
   "execution_count": 76,
   "id": "c6b77d0b",
   "metadata": {},
   "outputs": [],
   "source": [
    "TestPredictions = le.inverse_transform(TestPredictions)"
   ]
  },
  {
   "cell_type": "code",
   "execution_count": 77,
   "id": "6ae8637a",
   "metadata": {},
   "outputs": [],
   "source": [
    "TestPredictionsDF = pd.DataFrame({'Loan_ID':testing['Loan_ID'],'Loan_Status_Predicted':TestPredictions})"
   ]
  },
  {
   "cell_type": "code",
   "execution_count": 78,
   "id": "de9e9632",
   "metadata": {},
   "outputs": [
    {
     "data": {
      "text/html": [
       "<div>\n",
       "<style scoped>\n",
       "    .dataframe tbody tr th:only-of-type {\n",
       "        vertical-align: middle;\n",
       "    }\n",
       "\n",
       "    .dataframe tbody tr th {\n",
       "        vertical-align: top;\n",
       "    }\n",
       "\n",
       "    .dataframe thead th {\n",
       "        text-align: right;\n",
       "    }\n",
       "</style>\n",
       "<table border=\"1\" class=\"dataframe\">\n",
       "  <thead>\n",
       "    <tr style=\"text-align: right;\">\n",
       "      <th></th>\n",
       "      <th>Loan_ID</th>\n",
       "      <th>Loan_Status_Predicted</th>\n",
       "    </tr>\n",
       "  </thead>\n",
       "  <tbody>\n",
       "    <tr>\n",
       "      <th>0</th>\n",
       "      <td>LP001015</td>\n",
       "      <td>Y</td>\n",
       "    </tr>\n",
       "    <tr>\n",
       "      <th>1</th>\n",
       "      <td>LP001022</td>\n",
       "      <td>Y</td>\n",
       "    </tr>\n",
       "    <tr>\n",
       "      <th>2</th>\n",
       "      <td>LP001031</td>\n",
       "      <td>Y</td>\n",
       "    </tr>\n",
       "    <tr>\n",
       "      <th>3</th>\n",
       "      <td>LP001035</td>\n",
       "      <td>Y</td>\n",
       "    </tr>\n",
       "    <tr>\n",
       "      <th>4</th>\n",
       "      <td>LP001051</td>\n",
       "      <td>Y</td>\n",
       "    </tr>\n",
       "    <tr>\n",
       "      <th>...</th>\n",
       "      <td>...</td>\n",
       "      <td>...</td>\n",
       "    </tr>\n",
       "    <tr>\n",
       "      <th>362</th>\n",
       "      <td>LP002971</td>\n",
       "      <td>Y</td>\n",
       "    </tr>\n",
       "    <tr>\n",
       "      <th>363</th>\n",
       "      <td>LP002975</td>\n",
       "      <td>Y</td>\n",
       "    </tr>\n",
       "    <tr>\n",
       "      <th>364</th>\n",
       "      <td>LP002980</td>\n",
       "      <td>Y</td>\n",
       "    </tr>\n",
       "    <tr>\n",
       "      <th>365</th>\n",
       "      <td>LP002986</td>\n",
       "      <td>Y</td>\n",
       "    </tr>\n",
       "    <tr>\n",
       "      <th>366</th>\n",
       "      <td>LP002989</td>\n",
       "      <td>Y</td>\n",
       "    </tr>\n",
       "  </tbody>\n",
       "</table>\n",
       "<p>367 rows × 2 columns</p>\n",
       "</div>"
      ],
      "text/plain": [
       "      Loan_ID Loan_Status_Predicted\n",
       "0    LP001015                     Y\n",
       "1    LP001022                     Y\n",
       "2    LP001031                     Y\n",
       "3    LP001035                     Y\n",
       "4    LP001051                     Y\n",
       "..        ...                   ...\n",
       "362  LP002971                     Y\n",
       "363  LP002975                     Y\n",
       "364  LP002980                     Y\n",
       "365  LP002986                     Y\n",
       "366  LP002989                     Y\n",
       "\n",
       "[367 rows x 2 columns]"
      ]
     },
     "execution_count": 78,
     "metadata": {},
     "output_type": "execute_result"
    }
   ],
   "source": [
    "TestPredictionsDF"
   ]
  },
  {
   "cell_type": "code",
   "execution_count": 79,
   "id": "2d3ee258",
   "metadata": {},
   "outputs": [
    {
     "data": {
      "text/html": [
       "<div>\n",
       "<style scoped>\n",
       "    .dataframe tbody tr th:only-of-type {\n",
       "        vertical-align: middle;\n",
       "    }\n",
       "\n",
       "    .dataframe tbody tr th {\n",
       "        vertical-align: top;\n",
       "    }\n",
       "\n",
       "    .dataframe thead th {\n",
       "        text-align: right;\n",
       "    }\n",
       "</style>\n",
       "<table border=\"1\" class=\"dataframe\">\n",
       "  <thead>\n",
       "    <tr style=\"text-align: right;\">\n",
       "      <th></th>\n",
       "      <th>Loan_ID</th>\n",
       "    </tr>\n",
       "    <tr>\n",
       "      <th>Loan_Status_Predicted</th>\n",
       "      <th></th>\n",
       "    </tr>\n",
       "  </thead>\n",
       "  <tbody>\n",
       "    <tr>\n",
       "      <th>N</th>\n",
       "      <td>70</td>\n",
       "    </tr>\n",
       "    <tr>\n",
       "      <th>Y</th>\n",
       "      <td>297</td>\n",
       "    </tr>\n",
       "  </tbody>\n",
       "</table>\n",
       "</div>"
      ],
      "text/plain": [
       "                       Loan_ID\n",
       "Loan_Status_Predicted         \n",
       "N                           70\n",
       "Y                          297"
      ]
     },
     "execution_count": 79,
     "metadata": {},
     "output_type": "execute_result"
    }
   ],
   "source": [
    "TestPredictionsDF.groupby(by='Loan_Status_Predicted').count()"
   ]
  },
  {
   "cell_type": "code",
   "execution_count": 80,
   "id": "a409d170",
   "metadata": {},
   "outputs": [],
   "source": [
    "TestPredictionsDF.to_csv('D:/Etlhive class data/Project Loan 280822 Classification and Regression/Output/TestPredictions.csv')"
   ]
  },
  {
   "cell_type": "markdown",
   "id": "b1060a14",
   "metadata": {},
   "source": [
    "# Problem 2 : Calculate Eligible loan amount for given duration"
   ]
  },
  {
   "cell_type": "markdown",
   "id": "acc1838c",
   "metadata": {},
   "source": [
    "#### In this problem training data should consist only of accepted Loan Status then we can predict the eligible loan amount"
   ]
  },
  {
   "cell_type": "code",
   "execution_count": 81,
   "id": "ec7d7a57",
   "metadata": {},
   "outputs": [
    {
     "data": {
      "text/html": [
       "<div>\n",
       "<style scoped>\n",
       "    .dataframe tbody tr th:only-of-type {\n",
       "        vertical-align: middle;\n",
       "    }\n",
       "\n",
       "    .dataframe tbody tr th {\n",
       "        vertical-align: top;\n",
       "    }\n",
       "\n",
       "    .dataframe thead th {\n",
       "        text-align: right;\n",
       "    }\n",
       "</style>\n",
       "<table border=\"1\" class=\"dataframe\">\n",
       "  <thead>\n",
       "    <tr style=\"text-align: right;\">\n",
       "      <th></th>\n",
       "      <th>Gender</th>\n",
       "      <th>Married</th>\n",
       "      <th>Dependents</th>\n",
       "      <th>Education</th>\n",
       "      <th>Self_Employed</th>\n",
       "      <th>ApplicantIncome</th>\n",
       "      <th>CoapplicantIncome</th>\n",
       "      <th>LoanAmount</th>\n",
       "      <th>Loan_Amount_Term</th>\n",
       "      <th>Credit_History</th>\n",
       "      <th>Property_Area</th>\n",
       "    </tr>\n",
       "  </thead>\n",
       "  <tbody>\n",
       "    <tr>\n",
       "      <th>0</th>\n",
       "      <td>Male</td>\n",
       "      <td>No</td>\n",
       "      <td>0</td>\n",
       "      <td>Graduate</td>\n",
       "      <td>No</td>\n",
       "      <td>5849.0</td>\n",
       "      <td>0.0</td>\n",
       "      <td>146.412162</td>\n",
       "      <td>360.0</td>\n",
       "      <td>Yes</td>\n",
       "      <td>Urban</td>\n",
       "    </tr>\n",
       "    <tr>\n",
       "      <th>1</th>\n",
       "      <td>Male</td>\n",
       "      <td>Yes</td>\n",
       "      <td>0</td>\n",
       "      <td>Graduate</td>\n",
       "      <td>Yes</td>\n",
       "      <td>3000.0</td>\n",
       "      <td>0.0</td>\n",
       "      <td>66.000000</td>\n",
       "      <td>360.0</td>\n",
       "      <td>Yes</td>\n",
       "      <td>Urban</td>\n",
       "    </tr>\n",
       "    <tr>\n",
       "      <th>2</th>\n",
       "      <td>Male</td>\n",
       "      <td>Yes</td>\n",
       "      <td>0</td>\n",
       "      <td>Not Graduate</td>\n",
       "      <td>No</td>\n",
       "      <td>2583.0</td>\n",
       "      <td>2358.0</td>\n",
       "      <td>120.000000</td>\n",
       "      <td>360.0</td>\n",
       "      <td>Yes</td>\n",
       "      <td>Urban</td>\n",
       "    </tr>\n",
       "    <tr>\n",
       "      <th>3</th>\n",
       "      <td>Male</td>\n",
       "      <td>No</td>\n",
       "      <td>0</td>\n",
       "      <td>Graduate</td>\n",
       "      <td>No</td>\n",
       "      <td>6000.0</td>\n",
       "      <td>0.0</td>\n",
       "      <td>141.000000</td>\n",
       "      <td>360.0</td>\n",
       "      <td>Yes</td>\n",
       "      <td>Urban</td>\n",
       "    </tr>\n",
       "    <tr>\n",
       "      <th>4</th>\n",
       "      <td>Male</td>\n",
       "      <td>Yes</td>\n",
       "      <td>2</td>\n",
       "      <td>Graduate</td>\n",
       "      <td>Yes</td>\n",
       "      <td>5417.0</td>\n",
       "      <td>4196.0</td>\n",
       "      <td>267.000000</td>\n",
       "      <td>360.0</td>\n",
       "      <td>Yes</td>\n",
       "      <td>Urban</td>\n",
       "    </tr>\n",
       "  </tbody>\n",
       "</table>\n",
       "</div>"
      ],
      "text/plain": [
       "  Gender Married Dependents     Education Self_Employed  ApplicantIncome  \\\n",
       "0   Male      No          0      Graduate            No           5849.0   \n",
       "1   Male     Yes          0      Graduate           Yes           3000.0   \n",
       "2   Male     Yes          0  Not Graduate            No           2583.0   \n",
       "3   Male      No          0      Graduate            No           6000.0   \n",
       "4   Male     Yes          2      Graduate           Yes           5417.0   \n",
       "\n",
       "   CoapplicantIncome  LoanAmount  Loan_Amount_Term Credit_History  \\\n",
       "0                0.0  146.412162             360.0            Yes   \n",
       "1                0.0   66.000000             360.0            Yes   \n",
       "2             2358.0  120.000000             360.0            Yes   \n",
       "3                0.0  141.000000             360.0            Yes   \n",
       "4             4196.0  267.000000             360.0            Yes   \n",
       "\n",
       "  Property_Area  \n",
       "0         Urban  \n",
       "1         Urban  \n",
       "2         Urban  \n",
       "3         Urban  \n",
       "4         Urban  "
      ]
     },
     "execution_count": 81,
     "metadata": {},
     "output_type": "execute_result"
    }
   ],
   "source": [
    "training2 = training[training['Loan_Status']=='Y']\n",
    "training2.index = range(len(training2))\n",
    "training2 = training2.drop(labels=['Loan_Status'],axis=1)\n",
    "training2.head()"
   ]
  },
  {
   "cell_type": "code",
   "execution_count": 82,
   "id": "c4e5774d",
   "metadata": {},
   "outputs": [
    {
     "data": {
      "text/plain": [
       "ApplicantIncome      0.613727\n",
       "CoapplicantIncome    0.122415\n",
       "LoanAmount           1.000000\n",
       "Loan_Amount_Term     0.039909\n",
       "Name: LoanAmount, dtype: float64"
      ]
     },
     "execution_count": 82,
     "metadata": {},
     "output_type": "execute_result"
    }
   ],
   "source": [
    "training2.corr()['LoanAmount']"
   ]
  },
  {
   "cell_type": "code",
   "execution_count": 83,
   "id": "8567bb6f",
   "metadata": {},
   "outputs": [
    {
     "name": "stdout",
     "output_type": "stream",
     "text": [
      "Categorical and Continuous variables appended\n"
     ]
    }
   ],
   "source": [
    "from PM3 import ANOVA\n",
    "cat, con = catcon(training2)\n",
    "q2 = []\n",
    "for i in cat:\n",
    "    q2.append(ANOVA(training,i,'LoanAmount'))"
   ]
  },
  {
   "cell_type": "code",
   "execution_count": 84,
   "id": "e98448c5",
   "metadata": {},
   "outputs": [
    {
     "data": {
      "text/html": [
       "<div>\n",
       "<style scoped>\n",
       "    .dataframe tbody tr th:only-of-type {\n",
       "        vertical-align: middle;\n",
       "    }\n",
       "\n",
       "    .dataframe tbody tr th {\n",
       "        vertical-align: top;\n",
       "    }\n",
       "\n",
       "    .dataframe thead th {\n",
       "        text-align: right;\n",
       "    }\n",
       "</style>\n",
       "<table border=\"1\" class=\"dataframe\">\n",
       "  <thead>\n",
       "    <tr style=\"text-align: right;\">\n",
       "      <th></th>\n",
       "      <th>Column</th>\n",
       "      <th>pval</th>\n",
       "    </tr>\n",
       "  </thead>\n",
       "  <tbody>\n",
       "    <tr>\n",
       "      <th>3</th>\n",
       "      <td>Education</td>\n",
       "      <td>0.00003</td>\n",
       "    </tr>\n",
       "    <tr>\n",
       "      <th>2</th>\n",
       "      <td>Dependents</td>\n",
       "      <td>0.00010</td>\n",
       "    </tr>\n",
       "    <tr>\n",
       "      <th>1</th>\n",
       "      <td>Married</td>\n",
       "      <td>0.00025</td>\n",
       "    </tr>\n",
       "    <tr>\n",
       "      <th>4</th>\n",
       "      <td>Self_Employed</td>\n",
       "      <td>0.00424</td>\n",
       "    </tr>\n",
       "    <tr>\n",
       "      <th>0</th>\n",
       "      <td>Gender</td>\n",
       "      <td>0.00743</td>\n",
       "    </tr>\n",
       "    <tr>\n",
       "      <th>6</th>\n",
       "      <td>Property_Area</td>\n",
       "      <td>0.52551</td>\n",
       "    </tr>\n",
       "    <tr>\n",
       "      <th>5</th>\n",
       "      <td>Credit_History</td>\n",
       "      <td>0.97178</td>\n",
       "    </tr>\n",
       "  </tbody>\n",
       "</table>\n",
       "</div>"
      ],
      "text/plain": [
       "           Column     pval\n",
       "3       Education  0.00003\n",
       "2      Dependents  0.00010\n",
       "1         Married  0.00025\n",
       "4   Self_Employed  0.00424\n",
       "0          Gender  0.00743\n",
       "6   Property_Area  0.52551\n",
       "5  Credit_History  0.97178"
      ]
     },
     "execution_count": 84,
     "metadata": {},
     "output_type": "execute_result"
    }
   ],
   "source": [
    "c = pd.DataFrame({'Column':cat,'pval':q2}).sort_values(by='pval')\n",
    "c"
   ]
  },
  {
   "cell_type": "code",
   "execution_count": 85,
   "id": "8b38a921",
   "metadata": {},
   "outputs": [],
   "source": [
    "imp_cat_col = list(c[c['pval']<0.05].Column)"
   ]
  },
  {
   "cell_type": "code",
   "execution_count": 86,
   "id": "a195c472",
   "metadata": {},
   "outputs": [
    {
     "data": {
      "text/plain": [
       "['Education', 'Dependents', 'Married', 'Self_Employed', 'Gender']"
      ]
     },
     "execution_count": 86,
     "metadata": {},
     "output_type": "execute_result"
    }
   ],
   "source": [
    "imp_cat_col"
   ]
  },
  {
   "cell_type": "markdown",
   "id": "8186827e",
   "metadata": {},
   "source": [
    "### X, Y, Split"
   ]
  },
  {
   "cell_type": "code",
   "execution_count": 87,
   "id": "e80a8b05",
   "metadata": {},
   "outputs": [
    {
     "name": "stdout",
     "output_type": "stream",
     "text": [
      "Categorical and Continuous variables appended\n"
     ]
    }
   ],
   "source": [
    "X = training2.drop(labels=['LoanAmount'],axis=1)\n",
    "Y = training2[['LoanAmount']]\n",
    "cat, con = catcon(X)\n",
    "X1 = X[con]\n",
    "X2 = pd.get_dummies(X[cat])\n",
    "Xnew = X1.join(X2)\n",
    "from sklearn.model_selection import train_test_split\n",
    "xtrain,xtest,ytrain,ytest=train_test_split(Xnew,Y,test_size=0.2,random_state=21)"
   ]
  },
  {
   "cell_type": "markdown",
   "id": "9e85e628",
   "metadata": {},
   "source": [
    "# Model 1a : Random Forest Regressor"
   ]
  },
  {
   "cell_type": "code",
   "execution_count": 88,
   "id": "450c88b9",
   "metadata": {},
   "outputs": [],
   "source": [
    "from sklearn.ensemble import RandomForestRegressor\n",
    "tr = []\n",
    "ts = []\n",
    "for i in range(2,60):\n",
    "    rfr = RandomForestRegressor(random_state=21,n_estimators=i)\n",
    "    model = rfr.fit(xtrain,ytrain)\n",
    "    tr_pred = model.predict(xtrain)\n",
    "    ts_pred = model.predict(xtest)\n",
    "    from sklearn.metrics import mean_absolute_error\n",
    "    tr_err = mean_absolute_error(ytrain,tr_pred)\n",
    "    ts_err = mean_absolute_error(ytest,ts_pred)\n",
    "    tr.append(tr_err)\n",
    "    ts.append(ts_err)"
   ]
  },
  {
   "cell_type": "code",
   "execution_count": 89,
   "id": "10aa229a",
   "metadata": {},
   "outputs": [
    {
     "data": {
      "image/png": "[encoded data removed]",
      "text/plain": [
       "<Figure size 432x288 with 1 Axes>"
      ]
     },
     "metadata": {
      "needs_background": "light"
     },
     "output_type": "display_data"
    }
   ],
   "source": [
    "import matplotlib.pyplot as plt\n",
    "r = range(2,60)\n",
    "plt.plot(r,tr)\n",
    "plt.plot(r,ts)\n",
    "plt.xticks(r)\n",
    "plt.show()"
   ]
  },
  {
   "cell_type": "markdown",
   "id": "281b6f2a",
   "metadata": {},
   "source": [
    "### Cross Validation"
   ]
  },
  {
   "cell_type": "code",
   "execution_count": 90,
   "id": "1d3bae04",
   "metadata": {},
   "outputs": [
    {
     "data": {
      "text/plain": [
       "{'criterion': 'mae', 'max_depth': 5, 'n_estimators': 16}"
      ]
     },
     "execution_count": 90,
     "metadata": {},
     "output_type": "execute_result"
    }
   ],
   "source": [
    "from sklearn.model_selection import GridSearchCV\n",
    "rfr = RandomForestRegressor(random_state=21)\n",
    "\n",
    "tg = {\"n_estimators\":range(2,30,1),\"max_depth\":range(2,20),\"criterion\":['mae','mse']}\n",
    "cv = GridSearchCV(rfr,tg,scoring='neg_mean_squared_error',cv=4)\n",
    "cvmodel = cv.fit(Xnew,Y)\n",
    "cvmodel.best_params_"
   ]
  },
  {
   "cell_type": "code",
   "execution_count": 91,
   "id": "da0ef88a",
   "metadata": {},
   "outputs": [
    {
     "name": "stdout",
     "output_type": "stream",
     "text": [
      "Mean Squared Error is      :  2114.57\n",
      "Root Mean Squared Error is :  45.98\n",
      "R2 Score is                :  0.4127\n"
     ]
    }
   ],
   "source": [
    "model1a = cvmodel.best_estimator_\n",
    "pred = model1a.predict(Xnew)\n",
    "from sklearn.metrics import mean_squared_error, r2_score\n",
    "err = mean_squared_error(pred,Y)\n",
    "r2 = r2_score(pred,Y)\n",
    "print('Mean Squared Error is      : ',round(err,2))\n",
    "print('Root Mean Squared Error is : ',round(err**0.5,2))\n",
    "print('R2 Score is                : ',round(r2,4))"
   ]
  },
  {
   "cell_type": "markdown",
   "id": "564cf4c8",
   "metadata": {},
   "source": [
    "# Model 2a : KNN"
   ]
  },
  {
   "cell_type": "markdown",
   "id": "152cd502",
   "metadata": {},
   "source": [
    "### Preprocessing"
   ]
  },
  {
   "cell_type": "code",
   "execution_count": 92,
   "id": "1463378d",
   "metadata": {},
   "outputs": [
    {
     "name": "stdout",
     "output_type": "stream",
     "text": [
      "Categorical and Continuous variables appended\n"
     ]
    }
   ],
   "source": [
    "X = training2.drop(labels=['LoanAmount'],axis=1)\n",
    "Y = training2[['LoanAmount']]\n",
    "cat, con = catcon(X)"
   ]
  },
  {
   "cell_type": "code",
   "execution_count": 93,
   "id": "cd98dcf0",
   "metadata": {},
   "outputs": [],
   "source": [
    "from sklearn.preprocessing import StandardScaler\n",
    "ss = StandardScaler()\n",
    "X11 = pd.DataFrame(ss.fit_transform(X[con]),columns=con)"
   ]
  },
  {
   "cell_type": "code",
   "execution_count": 94,
   "id": "d21c8180",
   "metadata": {},
   "outputs": [],
   "source": [
    "X21 = pd.get_dummies(X[cat])\n",
    "Xnew2 = X11.join(X21)"
   ]
  },
  {
   "cell_type": "markdown",
   "id": "444170c5",
   "metadata": {},
   "source": [
    "### Train Test Split"
   ]
  },
  {
   "cell_type": "code",
   "execution_count": 95,
   "id": "a117d5cb",
   "metadata": {},
   "outputs": [],
   "source": [
    "from sklearn.model_selection import train_test_split\n",
    "xtrain,xtest,ytrain,ytest=train_test_split(Xnew2,Y,test_size=0.2,random_state=21)"
   ]
  },
  {
   "cell_type": "markdown",
   "id": "abd4bffa",
   "metadata": {},
   "source": [
    "### Model Creation"
   ]
  },
  {
   "cell_type": "code",
   "execution_count": 96,
   "id": "7d430ae4",
   "metadata": {},
   "outputs": [],
   "source": [
    "from sklearn.neighbors import KNeighborsRegressor\n",
    "tr = []\n",
    "ts = []\n",
    "for i in range(2,51):\n",
    "    knn = KNeighborsRegressor(n_neighbors=i)\n",
    "    model = knn.fit(xtrain,ytrain)\n",
    "    tr_pred = model.predict(xtrain)\n",
    "    ts_pred = model.predict(xtest)\n",
    "    from sklearn.metrics import mean_absolute_error\n",
    "    tr_err = mean_absolute_error(ytrain,tr_pred)\n",
    "    ts_err = mean_absolute_error(ytest,ts_pred)\n",
    "    tr.append(tr_err)\n",
    "    ts.append(ts_err)"
   ]
  },
  {
   "cell_type": "code",
   "execution_count": 97,
   "id": "fb32ac4a",
   "metadata": {},
   "outputs": [
    {
     "data": {
      "image/png": "[encoded data removed]",
      "text/plain": [
       "<Figure size 432x288 with 1 Axes>"
      ]
     },
     "metadata": {
      "needs_background": "light"
     },
     "output_type": "display_data"
    }
   ],
   "source": [
    "import matplotlib.pyplot as plt\n",
    "r = range(2,51)\n",
    "plt.plot(r,tr)\n",
    "plt.plot(r,ts)\n",
    "plt.xticks(r)\n",
    "plt.show()"
   ]
  },
  {
   "cell_type": "code",
   "execution_count": 98,
   "id": "db284d51",
   "metadata": {},
   "outputs": [
    {
     "data": {
      "text/plain": [
       "47.935024730612966"
      ]
     },
     "execution_count": 98,
     "metadata": {},
     "output_type": "execute_result"
    }
   ],
   "source": [
    "min(ts)"
   ]
  },
  {
   "cell_type": "markdown",
   "id": "c39eef03",
   "metadata": {},
   "source": [
    "### Cross Validation"
   ]
  },
  {
   "cell_type": "code",
   "execution_count": 99,
   "id": "0b023178",
   "metadata": {},
   "outputs": [
    {
     "data": {
      "text/plain": [
       "{'n_neighbors': 7}"
      ]
     },
     "execution_count": 99,
     "metadata": {},
     "output_type": "execute_result"
    }
   ],
   "source": [
    "from sklearn.model_selection import GridSearchCV\n",
    "knn = KNeighborsRegressor()\n",
    "\n",
    "tg = {\"n_neighbors\":range(2,51,1)}\n",
    "cv = GridSearchCV(knn,tg,scoring='neg_mean_squared_error',cv=20)\n",
    "cvmodel = cv.fit(Xnew2,Y)\n",
    "cvmodel.best_params_"
   ]
  },
  {
   "cell_type": "code",
   "execution_count": 100,
   "id": "101db68c",
   "metadata": {},
   "outputs": [
    {
     "name": "stdout",
     "output_type": "stream",
     "text": [
      "Mean Squared Error is      :  3748.83\n",
      "Root Mean Squared Error is :  61.23\n",
      "R2 Score is                :  -0.7309\n"
     ]
    }
   ],
   "source": [
    "model2a = cvmodel.best_estimator_\n",
    "pred = model2a.predict(Xnew2)\n",
    "from sklearn.metrics import mean_squared_error, r2_score\n",
    "err = mean_squared_error(pred,Y)\n",
    "r2 = r2_score(pred,Y)\n",
    "print('Mean Squared Error is      : ',round(err,2))\n",
    "print('Root Mean Squared Error is : ',round(err**0.5,2))\n",
    "print('R2 Score is                : ',round(r2,4))"
   ]
  },
  {
   "cell_type": "markdown",
   "id": "bc81dd16",
   "metadata": {},
   "source": [
    "# Both above models fail to get a good R2 Score hence check for MLR model"
   ]
  },
  {
   "cell_type": "markdown",
   "id": "c63c6368",
   "metadata": {},
   "source": [
    "# Model 3a : MLR "
   ]
  },
  {
   "cell_type": "code",
   "execution_count": 101,
   "id": "ccfb118c",
   "metadata": {},
   "outputs": [
    {
     "data": {
      "text/plain": [
       "ApplicantIncome      0.613727\n",
       "CoapplicantIncome    0.122415\n",
       "LoanAmount           1.000000\n",
       "Loan_Amount_Term     0.039909\n",
       "Name: LoanAmount, dtype: float64"
      ]
     },
     "execution_count": 101,
     "metadata": {},
     "output_type": "execute_result"
    }
   ],
   "source": [
    "training2.corr()['LoanAmount']"
   ]
  },
  {
   "cell_type": "code",
   "execution_count": 102,
   "id": "d090f214",
   "metadata": {},
   "outputs": [],
   "source": [
    "imp_con_col = ['ApplicantIncome','CoapplicantIncome']"
   ]
  },
  {
   "cell_type": "code",
   "execution_count": 103,
   "id": "850fdd56",
   "metadata": {},
   "outputs": [
    {
     "data": {
      "text/html": [
       "<div>\n",
       "<style scoped>\n",
       "    .dataframe tbody tr th:only-of-type {\n",
       "        vertical-align: middle;\n",
       "    }\n",
       "\n",
       "    .dataframe tbody tr th {\n",
       "        vertical-align: top;\n",
       "    }\n",
       "\n",
       "    .dataframe thead th {\n",
       "        text-align: right;\n",
       "    }\n",
       "</style>\n",
       "<table border=\"1\" class=\"dataframe\">\n",
       "  <thead>\n",
       "    <tr style=\"text-align: right;\">\n",
       "      <th></th>\n",
       "      <th>Column</th>\n",
       "      <th>pval</th>\n",
       "    </tr>\n",
       "  </thead>\n",
       "  <tbody>\n",
       "    <tr>\n",
       "      <th>3</th>\n",
       "      <td>Education</td>\n",
       "      <td>0.00003</td>\n",
       "    </tr>\n",
       "    <tr>\n",
       "      <th>2</th>\n",
       "      <td>Dependents</td>\n",
       "      <td>0.00010</td>\n",
       "    </tr>\n",
       "    <tr>\n",
       "      <th>1</th>\n",
       "      <td>Married</td>\n",
       "      <td>0.00025</td>\n",
       "    </tr>\n",
       "    <tr>\n",
       "      <th>4</th>\n",
       "      <td>Self_Employed</td>\n",
       "      <td>0.00424</td>\n",
       "    </tr>\n",
       "    <tr>\n",
       "      <th>0</th>\n",
       "      <td>Gender</td>\n",
       "      <td>0.00743</td>\n",
       "    </tr>\n",
       "    <tr>\n",
       "      <th>6</th>\n",
       "      <td>Property_Area</td>\n",
       "      <td>0.52551</td>\n",
       "    </tr>\n",
       "    <tr>\n",
       "      <th>5</th>\n",
       "      <td>Credit_History</td>\n",
       "      <td>0.97178</td>\n",
       "    </tr>\n",
       "  </tbody>\n",
       "</table>\n",
       "</div>"
      ],
      "text/plain": [
       "           Column     pval\n",
       "3       Education  0.00003\n",
       "2      Dependents  0.00010\n",
       "1         Married  0.00025\n",
       "4   Self_Employed  0.00424\n",
       "0          Gender  0.00743\n",
       "6   Property_Area  0.52551\n",
       "5  Credit_History  0.97178"
      ]
     },
     "execution_count": 103,
     "metadata": {},
     "output_type": "execute_result"
    }
   ],
   "source": [
    "c"
   ]
  },
  {
   "cell_type": "code",
   "execution_count": 104,
   "id": "2f6e673f",
   "metadata": {},
   "outputs": [
    {
     "data": {
      "text/plain": [
       "['Education', 'Dependents', 'Married', 'Self_Employed', 'Gender']"
      ]
     },
     "execution_count": 104,
     "metadata": {},
     "output_type": "execute_result"
    }
   ],
   "source": [
    "imp_cat_col"
   ]
  },
  {
   "cell_type": "markdown",
   "id": "07833cc1",
   "metadata": {},
   "source": [
    "### Checking for Outliers"
   ]
  },
  {
   "cell_type": "code",
   "execution_count": 105,
   "id": "eb99e33c",
   "metadata": {},
   "outputs": [
    {
     "name": "stdout",
     "output_type": "stream",
     "text": [
      "Categorical and Continuous variables appended\n"
     ]
    }
   ],
   "source": [
    "cat, con = catcon(training2)"
   ]
  },
  {
   "cell_type": "code",
   "execution_count": 106,
   "id": "2c58650b",
   "metadata": {},
   "outputs": [],
   "source": [
    "from sklearn.preprocessing import StandardScaler\n",
    "ss = StandardScaler()\n",
    "Xt = pd.DataFrame(ss.fit_transform(training2[con]),columns=con)"
   ]
  },
  {
   "cell_type": "code",
   "execution_count": 107,
   "id": "50c30b97",
   "metadata": {},
   "outputs": [],
   "source": [
    "outliers = []\n",
    "for i in con:\n",
    "    outliers.extend(list(Xt[(Xt[i]>3)|(Xt[i]<-3)].index))\n",
    "    \n",
    "from numpy import unique\n",
    "outliers = unique(outliers)"
   ]
  },
  {
   "cell_type": "code",
   "execution_count": 108,
   "id": "c12f00cd",
   "metadata": {},
   "outputs": [],
   "source": [
    "training2 = training2.drop(index=outliers,axis=0)\n",
    "training2.index = range(0,training2.shape[0])"
   ]
  },
  {
   "cell_type": "markdown",
   "id": "fc4a652d",
   "metadata": {},
   "source": [
    "### Defining X, Y"
   ]
  },
  {
   "cell_type": "code",
   "execution_count": 109,
   "id": "e11e0aa8",
   "metadata": {},
   "outputs": [],
   "source": [
    "X = training2.drop(labels=['LoanAmount'],axis=1)\n",
    "Y = training2[['LoanAmount']]"
   ]
  },
  {
   "cell_type": "markdown",
   "id": "1513d15f",
   "metadata": {},
   "source": [
    "### Preprocessing"
   ]
  },
  {
   "cell_type": "code",
   "execution_count": 110,
   "id": "e68c9984",
   "metadata": {},
   "outputs": [],
   "source": [
    "X1 = pd.DataFrame(ss.fit_transform(X[imp_con_col]),columns=imp_con_col)\n",
    "X2 = pd.get_dummies(X[imp_cat_col])\n",
    "Xnew3 = X1.join(X2)"
   ]
  },
  {
   "cell_type": "markdown",
   "id": "c67ec6c0",
   "metadata": {},
   "source": [
    "### Train Test Split"
   ]
  },
  {
   "cell_type": "code",
   "execution_count": 111,
   "id": "0a5e33a9",
   "metadata": {},
   "outputs": [],
   "source": [
    "from sklearn.model_selection import train_test_split\n",
    "xtrain,xtest,ytrain,ytest=train_test_split(Xnew3,Y,test_size=0.2,random_state=31)"
   ]
  },
  {
   "cell_type": "markdown",
   "id": "6a7462c0",
   "metadata": {},
   "source": [
    "### Statsmodel for Backward Elimination"
   ]
  },
  {
   "cell_type": "code",
   "execution_count": 112,
   "id": "fda5d517",
   "metadata": {},
   "outputs": [
    {
     "name": "stdout",
     "output_type": "stream",
     "text": [
      "0.3478 \n",
      "\n",
      "\n",
      "Dependents_0\n"
     ]
    }
   ],
   "source": [
    "from statsmodels.api import OLS,add_constant\n",
    "xconst = add_constant(xtrain)\n",
    "ols = OLS(ytrain,xconst)\n",
    "model = ols.fit()\n",
    "print(round(model.rsquared_adj,4),\"\\n\\n\")\n",
    "col_to_drop = model.pvalues.sort_values().index[-1]\n",
    "print(col_to_drop)"
   ]
  },
  {
   "cell_type": "code",
   "execution_count": 113,
   "id": "85b5a464",
   "metadata": {},
   "outputs": [
    {
     "data": {
      "text/html": [
       "<table class=\"simpletable\">\n",
       "<caption>OLS Regression Results</caption>\n",
       "<tr>\n",
       "  <th>Dep. Variable:</th>       <td>LoanAmount</td>    <th>  R-squared:         </th> <td>   0.367</td>\n",
       "</tr>\n",
       "<tr>\n",
       "  <th>Model:</th>                   <td>OLS</td>       <th>  Adj. R-squared:    </th> <td>   0.348</td>\n",
       "</tr>\n",
       "<tr>\n",
       "  <th>Method:</th>             <td>Least Squares</td>  <th>  F-statistic:       </th> <td>   19.61</td>\n",
       "</tr>\n",
       "<tr>\n",
       "  <th>Date:</th>             <td>Wed, 31 Aug 2022</td> <th>  Prob (F-statistic):</th> <td>7.13e-26</td>\n",
       "</tr>\n",
       "<tr>\n",
       "  <th>Time:</th>                 <td>22:10:37</td>     <th>  Log-Likelihood:    </th> <td> -1624.8</td>\n",
       "</tr>\n",
       "<tr>\n",
       "  <th>No. Observations:</th>      <td>   315</td>      <th>  AIC:               </th> <td>   3270.</td>\n",
       "</tr>\n",
       "<tr>\n",
       "  <th>Df Residuals:</th>          <td>   305</td>      <th>  BIC:               </th> <td>   3307.</td>\n",
       "</tr>\n",
       "<tr>\n",
       "  <th>Df Model:</th>              <td>     9</td>      <th>                     </th>     <td> </td>   \n",
       "</tr>\n",
       "<tr>\n",
       "  <th>Covariance Type:</th>      <td>nonrobust</td>    <th>                     </th>     <td> </td>   \n",
       "</tr>\n",
       "</table>\n",
       "<table class=\"simpletable\">\n",
       "<tr>\n",
       "             <td></td>               <th>coef</th>     <th>std err</th>      <th>t</th>      <th>P>|t|</th>  <th>[0.025</th>    <th>0.975]</th>  \n",
       "</tr>\n",
       "<tr>\n",
       "  <th>const</th>                  <td>   40.1863</td> <td>    1.634</td> <td>   24.590</td> <td> 0.000</td> <td>   36.970</td> <td>   43.402</td>\n",
       "</tr>\n",
       "<tr>\n",
       "  <th>ApplicantIncome</th>        <td>   29.0588</td> <td>    2.911</td> <td>    9.981</td> <td> 0.000</td> <td>   23.330</td> <td>   34.788</td>\n",
       "</tr>\n",
       "<tr>\n",
       "  <th>CoapplicantIncome</th>      <td>   21.8319</td> <td>    2.614</td> <td>    8.351</td> <td> 0.000</td> <td>   16.688</td> <td>   26.976</td>\n",
       "</tr>\n",
       "<tr>\n",
       "  <th>Education_Graduate</th>     <td>   23.8954</td> <td>    2.908</td> <td>    8.217</td> <td> 0.000</td> <td>   18.173</td> <td>   29.618</td>\n",
       "</tr>\n",
       "<tr>\n",
       "  <th>Education_Not Graduate</th> <td>   16.2909</td> <td>    3.344</td> <td>    4.872</td> <td> 0.000</td> <td>    9.711</td> <td>   22.871</td>\n",
       "</tr>\n",
       "<tr>\n",
       "  <th>Dependents_0</th>           <td>    2.9584</td> <td>    4.073</td> <td>    0.726</td> <td> 0.468</td> <td>   -5.056</td> <td>   10.972</td>\n",
       "</tr>\n",
       "<tr>\n",
       "  <th>Dependents_1</th>           <td>   13.8924</td> <td>    5.564</td> <td>    2.497</td> <td> 0.013</td> <td>    2.943</td> <td>   24.842</td>\n",
       "</tr>\n",
       "<tr>\n",
       "  <th>Dependents_2</th>           <td>    8.3934</td> <td>    5.274</td> <td>    1.592</td> <td> 0.113</td> <td>   -1.984</td> <td>   18.771</td>\n",
       "</tr>\n",
       "<tr>\n",
       "  <th>Dependents_3+</th>          <td>   14.9421</td> <td>    7.786</td> <td>    1.919</td> <td> 0.056</td> <td>   -0.380</td> <td>   30.264</td>\n",
       "</tr>\n",
       "<tr>\n",
       "  <th>Married_No</th>             <td>   19.6965</td> <td>    3.202</td> <td>    6.152</td> <td> 0.000</td> <td>   13.397</td> <td>   25.996</td>\n",
       "</tr>\n",
       "<tr>\n",
       "  <th>Married_Yes</th>            <td>   20.4898</td> <td>    3.002</td> <td>    6.826</td> <td> 0.000</td> <td>   14.583</td> <td>   26.396</td>\n",
       "</tr>\n",
       "<tr>\n",
       "  <th>Self_Employed_No</th>       <td>   20.8061</td> <td>    3.522</td> <td>    5.908</td> <td> 0.000</td> <td>   13.876</td> <td>   27.737</td>\n",
       "</tr>\n",
       "<tr>\n",
       "  <th>Self_Employed_Yes</th>      <td>   19.3802</td> <td>    4.370</td> <td>    4.435</td> <td> 0.000</td> <td>   10.782</td> <td>   27.979</td>\n",
       "</tr>\n",
       "<tr>\n",
       "  <th>Gender_Female</th>          <td>   15.3436</td> <td>    3.932</td> <td>    3.902</td> <td> 0.000</td> <td>    7.607</td> <td>   23.081</td>\n",
       "</tr>\n",
       "<tr>\n",
       "  <th>Gender_Male</th>            <td>   24.8427</td> <td>    3.289</td> <td>    7.552</td> <td> 0.000</td> <td>   18.370</td> <td>   31.315</td>\n",
       "</tr>\n",
       "</table>\n",
       "<table class=\"simpletable\">\n",
       "<tr>\n",
       "  <th>Omnibus:</th>       <td>35.396</td> <th>  Durbin-Watson:     </th> <td>   1.984</td>\n",
       "</tr>\n",
       "<tr>\n",
       "  <th>Prob(Omnibus):</th> <td> 0.000</td> <th>  Jarque-Bera (JB):  </th> <td> 114.468</td>\n",
       "</tr>\n",
       "<tr>\n",
       "  <th>Skew:</th>          <td>-0.436</td> <th>  Prob(JB):          </th> <td>1.39e-25</td>\n",
       "</tr>\n",
       "<tr>\n",
       "  <th>Kurtosis:</th>      <td> 5.822</td> <th>  Cond. No.          </th> <td>2.29e+17</td>\n",
       "</tr>\n",
       "</table><br/><br/>Notes:<br/>[1] Standard Errors assume that the covariance matrix of the errors is correctly specified.<br/>[2] The smallest eigenvalue is 2.54e-32. This might indicate that there are<br/>strong multicollinearity problems or that the design matrix is singular."
      ],
      "text/plain": [
       "<class 'statsmodels.iolib.summary.Summary'>\n",
       "\"\"\"\n",
       "                            OLS Regression Results                            \n",
       "==============================================================================\n",
       "Dep. Variable:             LoanAmount   R-squared:                       0.367\n",
       "Model:                            OLS   Adj. R-squared:                  0.348\n",
       "Method:                 Least Squares   F-statistic:                     19.61\n",
       "Date:                Wed, 31 Aug 2022   Prob (F-statistic):           7.13e-26\n",
       "Time:                        22:10:37   Log-Likelihood:                -1624.8\n",
       "No. Observations:                 315   AIC:                             3270.\n",
       "Df Residuals:                     305   BIC:                             3307.\n",
       "Df Model:                           9                                         \n",
       "Covariance Type:            nonrobust                                         \n",
       "==========================================================================================\n",
       "                             coef    std err          t      P>|t|      [0.025      0.975]\n",
       "------------------------------------------------------------------------------------------\n",
       "const                     40.1863      1.634     24.590      0.000      36.970      43.402\n",
       "ApplicantIncome           29.0588      2.911      9.981      0.000      23.330      34.788\n",
       "CoapplicantIncome         21.8319      2.614      8.351      0.000      16.688      26.976\n",
       "Education_Graduate        23.8954      2.908      8.217      0.000      18.173      29.618\n",
       "Education_Not Graduate    16.2909      3.344      4.872      0.000       9.711      22.871\n",
       "Dependents_0               2.9584      4.073      0.726      0.468      -5.056      10.972\n",
       "Dependents_1              13.8924      5.564      2.497      0.013       2.943      24.842\n",
       "Dependents_2               8.3934      5.274      1.592      0.113      -1.984      18.771\n",
       "Dependents_3+             14.9421      7.786      1.919      0.056      -0.380      30.264\n",
       "Married_No                19.6965      3.202      6.152      0.000      13.397      25.996\n",
       "Married_Yes               20.4898      3.002      6.826      0.000      14.583      26.396\n",
       "Self_Employed_No          20.8061      3.522      5.908      0.000      13.876      27.737\n",
       "Self_Employed_Yes         19.3802      4.370      4.435      0.000      10.782      27.979\n",
       "Gender_Female             15.3436      3.932      3.902      0.000       7.607      23.081\n",
       "Gender_Male               24.8427      3.289      7.552      0.000      18.370      31.315\n",
       "==============================================================================\n",
       "Omnibus:                       35.396   Durbin-Watson:                   1.984\n",
       "Prob(Omnibus):                  0.000   Jarque-Bera (JB):              114.468\n",
       "Skew:                          -0.436   Prob(JB):                     1.39e-25\n",
       "Kurtosis:                       5.822   Cond. No.                     2.29e+17\n",
       "==============================================================================\n",
       "\n",
       "Notes:\n",
       "[1] Standard Errors assume that the covariance matrix of the errors is correctly specified.\n",
       "[2] The smallest eigenvalue is 2.54e-32. This might indicate that there are\n",
       "strong multicollinearity problems or that the design matrix is singular.\n",
       "\"\"\""
      ]
     },
     "execution_count": 113,
     "metadata": {},
     "output_type": "execute_result"
    }
   ],
   "source": [
    "model.summary()"
   ]
  },
  {
   "cell_type": "code",
   "execution_count": 114,
   "id": "f43c3c6f",
   "metadata": {},
   "outputs": [],
   "source": [
    "rsq = []\n",
    "dropped_columns = []\n",
    "Q = range(1,2)\n",
    "for i in Q:\n",
    "    Xnew3 = Xnew3.drop(labels=col_to_drop,axis=1)\n",
    "    xtrain,xtest,ytrain,ytest=train_test_split(Xnew3,Y,test_size=0.2,random_state=31)\n",
    "    xconst = add_constant(xtrain)\n",
    "    ols = OLS(ytrain,xconst)\n",
    "    model = ols.fit()\n",
    "    rsq.append(round(model.rsquared_adj,4))\n",
    "    dropped_columns.append(col_to_drop)\n",
    "    col_to_drop = model.pvalues.sort_values().index[-1]    "
   ]
  },
  {
   "cell_type": "code",
   "execution_count": 115,
   "id": "0a47d3d0",
   "metadata": {},
   "outputs": [
    {
     "data": {
      "text/plain": [
       "0.3478"
      ]
     },
     "execution_count": 115,
     "metadata": {},
     "output_type": "execute_result"
    }
   ],
   "source": [
    "max(rsq)"
   ]
  },
  {
   "cell_type": "markdown",
   "id": "f508be34",
   "metadata": {},
   "source": [
    "### Creating a Linear Model"
   ]
  },
  {
   "cell_type": "code",
   "execution_count": 116,
   "id": "859ad85b",
   "metadata": {},
   "outputs": [],
   "source": [
    "from sklearn.linear_model import LinearRegression\n",
    "lm = LinearRegression()\n",
    "model = lm.fit(xtrain,ytrain)\n",
    "pred_tr = model.predict(xtrain)\n",
    "pred_ts = model.predict(xtest)\n",
    "from sklearn.metrics import mean_squared_error\n",
    "tr_err = mean_squared_error(ytrain,pred_tr)\n",
    "ts_err = mean_squared_error(ytest,pred_ts)"
   ]
  },
  {
   "cell_type": "code",
   "execution_count": 117,
   "id": "19cfc70a",
   "metadata": {},
   "outputs": [
    {
     "data": {
      "text/plain": [
       "1769.2312885467393"
      ]
     },
     "execution_count": 117,
     "metadata": {},
     "output_type": "execute_result"
    }
   ],
   "source": [
    "tr_err"
   ]
  },
  {
   "cell_type": "code",
   "execution_count": 118,
   "id": "34f04a36",
   "metadata": {},
   "outputs": [
    {
     "data": {
      "text/plain": [
       "2288.9044420267755"
      ]
     },
     "execution_count": 118,
     "metadata": {},
     "output_type": "execute_result"
    }
   ],
   "source": [
    "ts_err"
   ]
  },
  {
   "cell_type": "markdown",
   "id": "fb2a5f30",
   "metadata": {},
   "source": [
    "### Regularisation"
   ]
  },
  {
   "cell_type": "code",
   "execution_count": 119,
   "id": "ae09074b",
   "metadata": {},
   "outputs": [],
   "source": [
    "lambdas = []\n",
    "q = 0.00\n",
    "for i in range(0,1000):\n",
    "    q = round(q + 0.01,2)\n",
    "    lambdas.append(q)"
   ]
  },
  {
   "cell_type": "code",
   "execution_count": 120,
   "id": "369344c4",
   "metadata": {},
   "outputs": [],
   "source": [
    "tr = []\n",
    "ts = []\n",
    "ge = []\n",
    "counter = 0\n",
    "for i in lambdas:\n",
    "    from sklearn.linear_model import Lasso\n",
    "    ls = Lasso(alpha=i)\n",
    "    model = ls.fit(xtrain,ytrain)\n",
    "    pred_tr = model.predict(xtrain)\n",
    "    pred_ts = model.predict(xtest)\n",
    "    from sklearn.metrics import mean_squared_error\n",
    "    tr_err = mean_squared_error(ytrain,pred_tr)\n",
    "    ts_err = mean_squared_error(ytest,pred_ts)\n",
    "    tr.append(tr_err)\n",
    "    ts.append(ts_err)\n",
    "    ge.append(ts_err-tr_err)\n",
    "    if (counter>= 1) and (ge[counter-1]>0 and ge[counter]<0):\n",
    "        print('Optimum value of alpha is:',i)\n",
    "    counter = counter+1"
   ]
  },
  {
   "cell_type": "code",
   "execution_count": 121,
   "id": "420e40cc",
   "metadata": {},
   "outputs": [
    {
     "data": {
      "text/plain": [
       "[<matplotlib.lines.Line2D at 0x2a6a33a3100>]"
      ]
     },
     "execution_count": 121,
     "metadata": {},
     "output_type": "execute_result"
    },
    {
     "data": {
      "image/png": "[encoded data removed]",
      "text/plain": [
       "<Figure size 432x288 with 1 Axes>"
      ]
     },
     "metadata": {
      "needs_background": "light"
     },
     "output_type": "display_data"
    }
   ],
   "source": [
    "plt.plot(lambdas,tr,c=\"blue\")\n",
    "plt.plot(lambdas,ts,c=\"red\")"
   ]
  },
  {
   "cell_type": "code",
   "execution_count": 122,
   "id": "677b5774",
   "metadata": {},
   "outputs": [
    {
     "data": {
      "text/plain": [
       "{'alpha': 0.21}"
      ]
     },
     "execution_count": 122,
     "metadata": {},
     "output_type": "execute_result"
    }
   ],
   "source": [
    "tuning_grid = {\"alpha\":lambdas}\n",
    "ls = Lasso()\n",
    "from sklearn.model_selection import GridSearchCV\n",
    "cv = GridSearchCV(ls,tuning_grid,scoring=\"neg_mean_squared_error\",cv=20)\n",
    "cvmodel = cv.fit(Xnew3,Y)\n",
    "cvmodel.best_params_"
   ]
  },
  {
   "cell_type": "code",
   "execution_count": 123,
   "id": "f203de89",
   "metadata": {},
   "outputs": [],
   "source": [
    "model3a = cvmodel.best_estimator_\n",
    "pred = model3a.predict(Xnew3)"
   ]
  },
  {
   "cell_type": "code",
   "execution_count": 124,
   "id": "612e5702",
   "metadata": {},
   "outputs": [
    {
     "name": "stdout",
     "output_type": "stream",
     "text": [
      "Mean Squared Error is      :  1866.81\n",
      "Root Mean Squared Error is :  43.21\n",
      "R2 Score is                :  -0.9737\n"
     ]
    }
   ],
   "source": [
    "from sklearn.metrics import mean_squared_error, r2_score\n",
    "err = mean_squared_error(pred,Y)\n",
    "r2 = r2_score(pred,Y)\n",
    "print('Mean Squared Error is      : ',round(err,2))\n",
    "print('Root Mean Squared Error is : ',round(err**0.5,2))\n",
    "print('R2 Score is                : ',round(r2,4))"
   ]
  },
  {
   "cell_type": "markdown",
   "id": "a868cdd3",
   "metadata": {},
   "source": [
    "# R2 Score of MLR is also negative hence model fails"
   ]
  },
  {
   "cell_type": "markdown",
   "id": "69a42988",
   "metadata": {},
   "source": [
    "# Model with best r2 score here is random forest"
   ]
  },
  {
   "cell_type": "markdown",
   "id": "30fa17d6",
   "metadata": {},
   "source": [
    "# No Models are very good at Predicting the Loan Amount in this Dataset"
   ]
  },
  {
   "cell_type": "markdown",
   "id": "1ff45399",
   "metadata": {},
   "source": [
    "# Preffered Method to calculate Max Loan value should be - FOIR(Fixed Obligations to Income Ratio) banking method "
   ]
  },
  {
   "cell_type": "markdown",
   "id": "1e750aac",
   "metadata": {},
   "source": [
    "# FOIR method suggests that Max EMI = 0.5*Monthly Income"
   ]
  },
  {
   "attachments": {
    "emi-calculator-example-1.png": {
     "image/png": "[encoded data removed]"
    }
   },
   "cell_type": "markdown",
   "id": "c331f7fb",
   "metadata": {},
   "source": [
    "![emi-calculator-example-1.png](attachment:emi-calculator-example-1.png)"
   ]
  },
  {
   "cell_type": "markdown",
   "id": "864a32b3",
   "metadata": {},
   "source": [
    "# Rewriting Above Equation to get principal Amount"
   ]
  },
  {
   "cell_type": "markdown",
   "id": "e679b670",
   "metadata": {},
   "source": [
    "# P = E*((1+r)^n-1)/((1+r)^n)*r)"
   ]
  },
  {
   "cell_type": "markdown",
   "id": "82a4d34a",
   "metadata": {},
   "source": [
    "#### E = 0.5*Income"
   ]
  },
  {
   "cell_type": "markdown",
   "id": "026da278",
   "metadata": {},
   "source": [
    "# P(Max Loan Amount) = 0.5*Income*((1+r)^n-1)/((1+r)^n)*r)"
   ]
  },
  {
   "cell_type": "markdown",
   "id": "297e5097",
   "metadata": {},
   "source": [
    "# Example Calculation Below"
   ]
  },
  {
   "cell_type": "code",
   "execution_count": 125,
   "id": "053c9c41",
   "metadata": {},
   "outputs": [
    {
     "data": {
      "text/plain": [
       "41666.666666666664"
      ]
     },
     "execution_count": 125,
     "metadata": {},
     "output_type": "execute_result"
    }
   ],
   "source": [
    "Annual_Income = 500000\n",
    "Monthly_Income = Annual_Income/12\n",
    "Monthly_Income"
   ]
  },
  {
   "cell_type": "code",
   "execution_count": 126,
   "id": "f04cd09f",
   "metadata": {},
   "outputs": [],
   "source": [
    "#Assuming Rate of interest of 15% per Annum and Loan Tenure of 5 years"
   ]
  },
  {
   "cell_type": "code",
   "execution_count": 127,
   "id": "26b4bac1",
   "metadata": {},
   "outputs": [],
   "source": [
    "roi = 0.15\n",
    "r = roi/12 #Percent per month\n",
    "n = 5*12 #Period in month"
   ]
  },
  {
   "cell_type": "code",
   "execution_count": 128,
   "id": "af89383e",
   "metadata": {},
   "outputs": [],
   "source": [
    "Emax = 0.5*Monthly_Income "
   ]
  },
  {
   "cell_type": "code",
   "execution_count": 129,
   "id": "34bfb5b0",
   "metadata": {},
   "outputs": [],
   "source": [
    "Max_Loan_Amount = Emax*((1+r)**n-1)/(((1+r)**n)*r)"
   ]
  },
  {
   "cell_type": "code",
   "execution_count": 130,
   "id": "5c5e6405",
   "metadata": {},
   "outputs": [
    {
     "data": {
      "text/plain": [
       "875720.66"
      ]
     },
     "execution_count": 130,
     "metadata": {},
     "output_type": "execute_result"
    }
   ],
   "source": [
    "round(Max_Loan_Amount,2)"
   ]
  },
  {
   "cell_type": "markdown",
   "id": "7a698f53",
   "metadata": {},
   "source": [
    "# Using Above method shows Max Loan Amount will be approx 8.75 lakh for person with annual income of 5 lakhs for period of 5 years"
   ]
  },
  {
   "cell_type": "markdown",
   "id": "a8b45113",
   "metadata": {},
   "source": [
    "# If there is any existing EMI then it should be subtracted from monthly income and then max amount should be calculated"
   ]
  },
  {
   "cell_type": "markdown",
   "id": "d668f271",
   "metadata": {},
   "source": [
    "# Example 2 : Person having Annual Income of 10 Lakhs currently pays an EMI of 20000 INR . Calculate max loan amount he can get for 5 year period."
   ]
  },
  {
   "cell_type": "code",
   "execution_count": 131,
   "id": "bc9d51c7",
   "metadata": {},
   "outputs": [
    {
     "data": {
      "text/plain": [
       "63333.33333333333"
      ]
     },
     "execution_count": 131,
     "metadata": {},
     "output_type": "execute_result"
    }
   ],
   "source": [
    "Annual_Income = 1000000\n",
    "EMI_Current = 20000\n",
    "Monthly_Income = Annual_Income/12 - EMI_Current\n",
    "Monthly_Income"
   ]
  },
  {
   "cell_type": "code",
   "execution_count": 132,
   "id": "88e1680d",
   "metadata": {},
   "outputs": [],
   "source": [
    "#Assuming Rate of interest of 15% per Annum"
   ]
  },
  {
   "cell_type": "code",
   "execution_count": 133,
   "id": "a58ff2be",
   "metadata": {},
   "outputs": [],
   "source": [
    "roi = 0.15\n",
    "r = roi/12 #Percent per month\n",
    "n = 5*12 #Period in month"
   ]
  },
  {
   "cell_type": "code",
   "execution_count": 134,
   "id": "edccb85d",
   "metadata": {},
   "outputs": [],
   "source": [
    "Emax = 0.5*Monthly_Income"
   ]
  },
  {
   "cell_type": "code",
   "execution_count": 135,
   "id": "0e87b00c",
   "metadata": {},
   "outputs": [],
   "source": [
    "Max_Loan_Amount = Emax*((1+r)**n-1)/(((1+r)**n)*r)"
   ]
  },
  {
   "cell_type": "code",
   "execution_count": 136,
   "id": "f9f81777",
   "metadata": {},
   "outputs": [
    {
     "data": {
      "text/plain": [
       "1331095.41"
      ]
     },
     "execution_count": 136,
     "metadata": {},
     "output_type": "execute_result"
    }
   ],
   "source": [
    "round(Max_Loan_Amount,2)"
   ]
  },
  {
   "cell_type": "markdown",
   "id": "828bc8ad",
   "metadata": {},
   "source": [
    "# Max Loan Amount for above person will be 13.31 Lakhs for period of 5 years at 15% p.a."
   ]
  },
  {
   "cell_type": "markdown",
   "id": "f2a8f76d",
   "metadata": {},
   "source": [
    "# Using Above Method to calculate Max Loan Amount in our datasets"
   ]
  },
  {
   "cell_type": "code",
   "execution_count": 137,
   "id": "5394e0b3",
   "metadata": {},
   "outputs": [
    {
     "data": {
      "text/html": [
       "<div>\n",
       "<style scoped>\n",
       "    .dataframe tbody tr th:only-of-type {\n",
       "        vertical-align: middle;\n",
       "    }\n",
       "\n",
       "    .dataframe tbody tr th {\n",
       "        vertical-align: top;\n",
       "    }\n",
       "\n",
       "    .dataframe thead th {\n",
       "        text-align: right;\n",
       "    }\n",
       "</style>\n",
       "<table border=\"1\" class=\"dataframe\">\n",
       "  <thead>\n",
       "    <tr style=\"text-align: right;\">\n",
       "      <th></th>\n",
       "      <th>Gender</th>\n",
       "      <th>Married</th>\n",
       "      <th>Dependents</th>\n",
       "      <th>Education</th>\n",
       "      <th>Self_Employed</th>\n",
       "      <th>ApplicantIncome</th>\n",
       "      <th>CoapplicantIncome</th>\n",
       "      <th>LoanAmount</th>\n",
       "      <th>Loan_Amount_Term</th>\n",
       "      <th>Credit_History</th>\n",
       "      <th>Property_Area</th>\n",
       "      <th>Loan_Status</th>\n",
       "    </tr>\n",
       "  </thead>\n",
       "  <tbody>\n",
       "    <tr>\n",
       "      <th>0</th>\n",
       "      <td>Male</td>\n",
       "      <td>No</td>\n",
       "      <td>0</td>\n",
       "      <td>Graduate</td>\n",
       "      <td>No</td>\n",
       "      <td>5849.00000</td>\n",
       "      <td>0.0</td>\n",
       "      <td>146.412162</td>\n",
       "      <td>360.0</td>\n",
       "      <td>Yes</td>\n",
       "      <td>Urban</td>\n",
       "      <td>Y</td>\n",
       "    </tr>\n",
       "    <tr>\n",
       "      <th>1</th>\n",
       "      <td>Male</td>\n",
       "      <td>Yes</td>\n",
       "      <td>1</td>\n",
       "      <td>Graduate</td>\n",
       "      <td>No</td>\n",
       "      <td>5405.54085</td>\n",
       "      <td>1508.0</td>\n",
       "      <td>128.000000</td>\n",
       "      <td>360.0</td>\n",
       "      <td>Yes</td>\n",
       "      <td>Rural</td>\n",
       "      <td>N</td>\n",
       "    </tr>\n",
       "    <tr>\n",
       "      <th>2</th>\n",
       "      <td>Male</td>\n",
       "      <td>Yes</td>\n",
       "      <td>0</td>\n",
       "      <td>Graduate</td>\n",
       "      <td>Yes</td>\n",
       "      <td>3000.00000</td>\n",
       "      <td>0.0</td>\n",
       "      <td>66.000000</td>\n",
       "      <td>360.0</td>\n",
       "      <td>Yes</td>\n",
       "      <td>Urban</td>\n",
       "      <td>Y</td>\n",
       "    </tr>\n",
       "    <tr>\n",
       "      <th>3</th>\n",
       "      <td>Male</td>\n",
       "      <td>Yes</td>\n",
       "      <td>0</td>\n",
       "      <td>Not Graduate</td>\n",
       "      <td>No</td>\n",
       "      <td>2583.00000</td>\n",
       "      <td>2358.0</td>\n",
       "      <td>120.000000</td>\n",
       "      <td>360.0</td>\n",
       "      <td>Yes</td>\n",
       "      <td>Urban</td>\n",
       "      <td>Y</td>\n",
       "    </tr>\n",
       "    <tr>\n",
       "      <th>4</th>\n",
       "      <td>Male</td>\n",
       "      <td>No</td>\n",
       "      <td>0</td>\n",
       "      <td>Graduate</td>\n",
       "      <td>No</td>\n",
       "      <td>6000.00000</td>\n",
       "      <td>0.0</td>\n",
       "      <td>141.000000</td>\n",
       "      <td>360.0</td>\n",
       "      <td>Yes</td>\n",
       "      <td>Urban</td>\n",
       "      <td>Y</td>\n",
       "    </tr>\n",
       "  </tbody>\n",
       "</table>\n",
       "</div>"
      ],
      "text/plain": [
       "  Gender Married Dependents     Education Self_Employed  ApplicantIncome  \\\n",
       "0   Male      No          0      Graduate            No       5849.00000   \n",
       "1   Male     Yes          1      Graduate            No       5405.54085   \n",
       "2   Male     Yes          0      Graduate           Yes       3000.00000   \n",
       "3   Male     Yes          0  Not Graduate            No       2583.00000   \n",
       "4   Male      No          0      Graduate            No       6000.00000   \n",
       "\n",
       "   CoapplicantIncome  LoanAmount  Loan_Amount_Term Credit_History  \\\n",
       "0                0.0  146.412162             360.0            Yes   \n",
       "1             1508.0  128.000000             360.0            Yes   \n",
       "2                0.0   66.000000             360.0            Yes   \n",
       "3             2358.0  120.000000             360.0            Yes   \n",
       "4                0.0  141.000000             360.0            Yes   \n",
       "\n",
       "  Property_Area Loan_Status  \n",
       "0         Urban           Y  \n",
       "1         Rural           N  \n",
       "2         Urban           Y  \n",
       "3         Urban           Y  \n",
       "4         Urban           Y  "
      ]
     },
     "execution_count": 137,
     "metadata": {},
     "output_type": "execute_result"
    }
   ],
   "source": [
    "training.head()"
   ]
  },
  {
   "cell_type": "code",
   "execution_count": 138,
   "id": "3c62b1c6",
   "metadata": {},
   "outputs": [],
   "source": [
    "training3 = pd.read_csv(\"D:/Etlhive class data/Project Loan 280822 Classification and Regression/Input/training_set.csv\")"
   ]
  },
  {
   "cell_type": "code",
   "execution_count": 139,
   "id": "9ee0224e",
   "metadata": {},
   "outputs": [],
   "source": [
    "crd_hst = []\n",
    "for i in range(len(training3)):\n",
    "    if training3['Credit_History'][i]==1:\n",
    "        crd_hst.append('Yes')\n",
    "    elif training['Credit_History'][i]==0:\n",
    "        crd_hst.append('No')\n",
    "    else:\n",
    "        crd_hst.append(None)\n",
    "training3['Credit_History']=crd_hst"
   ]
  },
  {
   "cell_type": "code",
   "execution_count": 140,
   "id": "c1ec18d0",
   "metadata": {},
   "outputs": [
    {
     "name": "stdout",
     "output_type": "stream",
     "text": [
      "Missing Values replaced in DataFrame\n"
     ]
    }
   ],
   "source": [
    "replacer(training3)"
   ]
  },
  {
   "cell_type": "code",
   "execution_count": 141,
   "id": "0ab81d1b",
   "metadata": {},
   "outputs": [],
   "source": [
    "# Rate of Interest of 15% p.a. assumed actual can vary\n",
    "r = 0.15/12\n",
    "k = (1+r)**(training3['Loan_Amount_Term'])\n",
    "training3['MaxLoanAmount'] = round(0.5*training3['ApplicantIncome']*(k-1)/(k*r),2)"
   ]
  },
  {
   "cell_type": "code",
   "execution_count": 142,
   "id": "ee945f4f",
   "metadata": {},
   "outputs": [
    {
     "data": {
      "text/html": [
       "<div>\n",
       "<style scoped>\n",
       "    .dataframe tbody tr th:only-of-type {\n",
       "        vertical-align: middle;\n",
       "    }\n",
       "\n",
       "    .dataframe tbody tr th {\n",
       "        vertical-align: top;\n",
       "    }\n",
       "\n",
       "    .dataframe thead th {\n",
       "        text-align: right;\n",
       "    }\n",
       "</style>\n",
       "<table border=\"1\" class=\"dataframe\">\n",
       "  <thead>\n",
       "    <tr style=\"text-align: right;\">\n",
       "      <th></th>\n",
       "      <th>Loan_ID</th>\n",
       "      <th>Gender</th>\n",
       "      <th>Married</th>\n",
       "      <th>Dependents</th>\n",
       "      <th>Education</th>\n",
       "      <th>Self_Employed</th>\n",
       "      <th>ApplicantIncome</th>\n",
       "      <th>CoapplicantIncome</th>\n",
       "      <th>LoanAmount</th>\n",
       "      <th>Loan_Amount_Term</th>\n",
       "      <th>Credit_History</th>\n",
       "      <th>Property_Area</th>\n",
       "      <th>Loan_Status</th>\n",
       "      <th>MaxLoanAmount</th>\n",
       "    </tr>\n",
       "  </thead>\n",
       "  <tbody>\n",
       "    <tr>\n",
       "      <th>0</th>\n",
       "      <td>LP001002</td>\n",
       "      <td>Male</td>\n",
       "      <td>No</td>\n",
       "      <td>0</td>\n",
       "      <td>Graduate</td>\n",
       "      <td>No</td>\n",
       "      <td>5849.00000</td>\n",
       "      <td>0.0</td>\n",
       "      <td>146.412162</td>\n",
       "      <td>360.0</td>\n",
       "      <td>Yes</td>\n",
       "      <td>Urban</td>\n",
       "      <td>Y</td>\n",
       "      <td>231287.42</td>\n",
       "    </tr>\n",
       "    <tr>\n",
       "      <th>1</th>\n",
       "      <td>LP001003</td>\n",
       "      <td>Male</td>\n",
       "      <td>Yes</td>\n",
       "      <td>1</td>\n",
       "      <td>Graduate</td>\n",
       "      <td>No</td>\n",
       "      <td>5405.54085</td>\n",
       "      <td>1508.0</td>\n",
       "      <td>128.000000</td>\n",
       "      <td>360.0</td>\n",
       "      <td>Yes</td>\n",
       "      <td>Rural</td>\n",
       "      <td>N</td>\n",
       "      <td>213751.69</td>\n",
       "    </tr>\n",
       "    <tr>\n",
       "      <th>2</th>\n",
       "      <td>LP001005</td>\n",
       "      <td>Male</td>\n",
       "      <td>Yes</td>\n",
       "      <td>0</td>\n",
       "      <td>Graduate</td>\n",
       "      <td>Yes</td>\n",
       "      <td>3000.00000</td>\n",
       "      <td>0.0</td>\n",
       "      <td>66.000000</td>\n",
       "      <td>360.0</td>\n",
       "      <td>Yes</td>\n",
       "      <td>Urban</td>\n",
       "      <td>Y</td>\n",
       "      <td>118629.21</td>\n",
       "    </tr>\n",
       "    <tr>\n",
       "      <th>3</th>\n",
       "      <td>LP001006</td>\n",
       "      <td>Male</td>\n",
       "      <td>Yes</td>\n",
       "      <td>0</td>\n",
       "      <td>Not Graduate</td>\n",
       "      <td>No</td>\n",
       "      <td>2583.00000</td>\n",
       "      <td>2358.0</td>\n",
       "      <td>120.000000</td>\n",
       "      <td>360.0</td>\n",
       "      <td>Yes</td>\n",
       "      <td>Urban</td>\n",
       "      <td>Y</td>\n",
       "      <td>102139.75</td>\n",
       "    </tr>\n",
       "    <tr>\n",
       "      <th>4</th>\n",
       "      <td>LP001008</td>\n",
       "      <td>Male</td>\n",
       "      <td>No</td>\n",
       "      <td>0</td>\n",
       "      <td>Graduate</td>\n",
       "      <td>No</td>\n",
       "      <td>6000.00000</td>\n",
       "      <td>0.0</td>\n",
       "      <td>141.000000</td>\n",
       "      <td>360.0</td>\n",
       "      <td>Yes</td>\n",
       "      <td>Urban</td>\n",
       "      <td>Y</td>\n",
       "      <td>237258.43</td>\n",
       "    </tr>\n",
       "  </tbody>\n",
       "</table>\n",
       "</div>"
      ],
      "text/plain": [
       "    Loan_ID Gender Married Dependents     Education Self_Employed  \\\n",
       "0  LP001002   Male      No          0      Graduate            No   \n",
       "1  LP001003   Male     Yes          1      Graduate            No   \n",
       "2  LP001005   Male     Yes          0      Graduate           Yes   \n",
       "3  LP001006   Male     Yes          0  Not Graduate            No   \n",
       "4  LP001008   Male      No          0      Graduate            No   \n",
       "\n",
       "   ApplicantIncome  CoapplicantIncome  LoanAmount  Loan_Amount_Term  \\\n",
       "0       5849.00000                0.0  146.412162             360.0   \n",
       "1       5405.54085             1508.0  128.000000             360.0   \n",
       "2       3000.00000                0.0   66.000000             360.0   \n",
       "3       2583.00000             2358.0  120.000000             360.0   \n",
       "4       6000.00000                0.0  141.000000             360.0   \n",
       "\n",
       "  Credit_History Property_Area Loan_Status  MaxLoanAmount  \n",
       "0            Yes         Urban           Y      231287.42  \n",
       "1            Yes         Rural           N      213751.69  \n",
       "2            Yes         Urban           Y      118629.21  \n",
       "3            Yes         Urban           Y      102139.75  \n",
       "4            Yes         Urban           Y      237258.43  "
      ]
     },
     "execution_count": 142,
     "metadata": {},
     "output_type": "execute_result"
    }
   ],
   "source": [
    "training3.head()"
   ]
  },
  {
   "cell_type": "code",
   "execution_count": 143,
   "id": "6535a2d9",
   "metadata": {},
   "outputs": [],
   "source": [
    "training3.to_csv('D:/Etlhive class data/Project Loan 280822 Classification and Regression/Output/MaxLoanAmount.csv')"
   ]
  },
  {
   "cell_type": "markdown",
   "id": "0009e50a",
   "metadata": {},
   "source": [
    "# Method 2 : MLR with continuous variables only"
   ]
  },
  {
   "cell_type": "code",
   "execution_count": 144,
   "id": "610fd3fa",
   "metadata": {},
   "outputs": [],
   "source": [
    "X = training2.drop(labels=['LoanAmount'],axis=1)\n",
    "Y = training2[['LoanAmount']]"
   ]
  },
  {
   "cell_type": "code",
   "execution_count": 145,
   "id": "c39dbeb4",
   "metadata": {},
   "outputs": [
    {
     "name": "stdout",
     "output_type": "stream",
     "text": [
      "Categorical and Continuous variables appended\n"
     ]
    }
   ],
   "source": [
    "cat, con = catcon(X)"
   ]
  },
  {
   "cell_type": "code",
   "execution_count": 146,
   "id": "b555900b",
   "metadata": {},
   "outputs": [],
   "source": [
    "#Considering Only Continuous Variables in new X\n",
    "Xnew4 = X[con]"
   ]
  },
  {
   "cell_type": "code",
   "execution_count": 147,
   "id": "f44d3b2d",
   "metadata": {},
   "outputs": [],
   "source": [
    "Xnew4 = pd.DataFrame(ss.fit_transform(Xnew4),columns=Xnew4.columns)"
   ]
  },
  {
   "cell_type": "code",
   "execution_count": 148,
   "id": "978c8803",
   "metadata": {},
   "outputs": [],
   "source": [
    "outliers = []\n",
    "for i in con:\n",
    "    outliers.extend(list(Xnew4[(Xnew4[i]>3)|(Xnew4[i]<-3)].index))\n",
    "    \n",
    "from numpy import unique\n",
    "outliers = unique(outliers)"
   ]
  },
  {
   "cell_type": "code",
   "execution_count": 149,
   "id": "511dea26",
   "metadata": {},
   "outputs": [],
   "source": [
    "Xnew4 = Xnew4.drop(index=outliers,axis=0)\n",
    "Xnew4.index = range(0,Xnew4.shape[0])\n",
    "Y = Y.drop(index=outliers,axis=0)\n",
    "Y.index = range(0,Y.shape[0])"
   ]
  },
  {
   "cell_type": "code",
   "execution_count": 150,
   "id": "0c4b38ef",
   "metadata": {},
   "outputs": [],
   "source": [
    "from sklearn.model_selection import train_test_split\n",
    "xtrain,xtest,ytrain,ytest=train_test_split(Xnew4,Y,test_size=0.2,random_state=31)"
   ]
  },
  {
   "cell_type": "code",
   "execution_count": 151,
   "id": "6a2302d3",
   "metadata": {},
   "outputs": [],
   "source": [
    "from sklearn.linear_model import LinearRegression\n",
    "lm = LinearRegression()\n",
    "model = lm.fit(xtrain,ytrain)\n",
    "pred_tr = model.predict(xtrain)\n",
    "pred_ts = model.predict(xtest)\n",
    "from sklearn.metrics import mean_squared_error,r2_score\n",
    "tr_err = mean_squared_error(ytrain,pred_tr)\n",
    "ts_err = mean_squared_error(ytest,pred_ts)\n",
    "tr_r2 = r2_score(ytrain,pred_tr) \n",
    "ts_r2 = r2_score(ytest,pred_ts)"
   ]
  },
  {
   "cell_type": "code",
   "execution_count": 152,
   "id": "24273eb2",
   "metadata": {},
   "outputs": [
    {
     "name": "stdout",
     "output_type": "stream",
     "text": [
      "0.433737268906805\n"
     ]
    }
   ],
   "source": [
    "print(tr_r2)"
   ]
  },
  {
   "cell_type": "code",
   "execution_count": 153,
   "id": "5d019a03",
   "metadata": {},
   "outputs": [
    {
     "name": "stdout",
     "output_type": "stream",
     "text": [
      "0.5746791419730211\n"
     ]
    }
   ],
   "source": [
    "print(ts_r2)"
   ]
  },
  {
   "cell_type": "markdown",
   "id": "d678ffa4",
   "metadata": {},
   "source": [
    "# Above Method also has lower R2 Score"
   ]
  },
  {
   "cell_type": "markdown",
   "id": "2673785b",
   "metadata": {},
   "source": [
    "# Problem 3 : Check for eligible loan duration"
   ]
  },
  {
   "cell_type": "markdown",
   "id": "6a5524cf",
   "metadata": {},
   "source": [
    "### Here also we need to filter out approved loans data"
   ]
  },
  {
   "cell_type": "code",
   "execution_count": 154,
   "id": "a969e724",
   "metadata": {
    "scrolled": true
   },
   "outputs": [
    {
     "data": {
      "text/html": [
       "<div>\n",
       "<style scoped>\n",
       "    .dataframe tbody tr th:only-of-type {\n",
       "        vertical-align: middle;\n",
       "    }\n",
       "\n",
       "    .dataframe tbody tr th {\n",
       "        vertical-align: top;\n",
       "    }\n",
       "\n",
       "    .dataframe thead th {\n",
       "        text-align: right;\n",
       "    }\n",
       "</style>\n",
       "<table border=\"1\" class=\"dataframe\">\n",
       "  <thead>\n",
       "    <tr style=\"text-align: right;\">\n",
       "      <th></th>\n",
       "      <th>Gender</th>\n",
       "      <th>Married</th>\n",
       "      <th>Dependents</th>\n",
       "      <th>Education</th>\n",
       "      <th>Self_Employed</th>\n",
       "      <th>ApplicantIncome</th>\n",
       "      <th>CoapplicantIncome</th>\n",
       "      <th>LoanAmount</th>\n",
       "      <th>Loan_Amount_Term</th>\n",
       "      <th>Credit_History</th>\n",
       "      <th>Property_Area</th>\n",
       "    </tr>\n",
       "  </thead>\n",
       "  <tbody>\n",
       "    <tr>\n",
       "      <th>0</th>\n",
       "      <td>Male</td>\n",
       "      <td>No</td>\n",
       "      <td>0</td>\n",
       "      <td>Graduate</td>\n",
       "      <td>No</td>\n",
       "      <td>5849.0</td>\n",
       "      <td>0.0</td>\n",
       "      <td>146.412162</td>\n",
       "      <td>360.0</td>\n",
       "      <td>Yes</td>\n",
       "      <td>Urban</td>\n",
       "    </tr>\n",
       "    <tr>\n",
       "      <th>1</th>\n",
       "      <td>Male</td>\n",
       "      <td>Yes</td>\n",
       "      <td>0</td>\n",
       "      <td>Graduate</td>\n",
       "      <td>Yes</td>\n",
       "      <td>3000.0</td>\n",
       "      <td>0.0</td>\n",
       "      <td>66.000000</td>\n",
       "      <td>360.0</td>\n",
       "      <td>Yes</td>\n",
       "      <td>Urban</td>\n",
       "    </tr>\n",
       "    <tr>\n",
       "      <th>2</th>\n",
       "      <td>Male</td>\n",
       "      <td>Yes</td>\n",
       "      <td>0</td>\n",
       "      <td>Not Graduate</td>\n",
       "      <td>No</td>\n",
       "      <td>2583.0</td>\n",
       "      <td>2358.0</td>\n",
       "      <td>120.000000</td>\n",
       "      <td>360.0</td>\n",
       "      <td>Yes</td>\n",
       "      <td>Urban</td>\n",
       "    </tr>\n",
       "    <tr>\n",
       "      <th>3</th>\n",
       "      <td>Male</td>\n",
       "      <td>No</td>\n",
       "      <td>0</td>\n",
       "      <td>Graduate</td>\n",
       "      <td>No</td>\n",
       "      <td>6000.0</td>\n",
       "      <td>0.0</td>\n",
       "      <td>141.000000</td>\n",
       "      <td>360.0</td>\n",
       "      <td>Yes</td>\n",
       "      <td>Urban</td>\n",
       "    </tr>\n",
       "    <tr>\n",
       "      <th>4</th>\n",
       "      <td>Male</td>\n",
       "      <td>Yes</td>\n",
       "      <td>2</td>\n",
       "      <td>Graduate</td>\n",
       "      <td>Yes</td>\n",
       "      <td>5417.0</td>\n",
       "      <td>4196.0</td>\n",
       "      <td>267.000000</td>\n",
       "      <td>360.0</td>\n",
       "      <td>Yes</td>\n",
       "      <td>Urban</td>\n",
       "    </tr>\n",
       "  </tbody>\n",
       "</table>\n",
       "</div>"
      ],
      "text/plain": [
       "  Gender Married Dependents     Education Self_Employed  ApplicantIncome  \\\n",
       "0   Male      No          0      Graduate            No           5849.0   \n",
       "1   Male     Yes          0      Graduate           Yes           3000.0   \n",
       "2   Male     Yes          0  Not Graduate            No           2583.0   \n",
       "3   Male      No          0      Graduate            No           6000.0   \n",
       "4   Male     Yes          2      Graduate           Yes           5417.0   \n",
       "\n",
       "   CoapplicantIncome  LoanAmount  Loan_Amount_Term Credit_History  \\\n",
       "0                0.0  146.412162             360.0            Yes   \n",
       "1                0.0   66.000000             360.0            Yes   \n",
       "2             2358.0  120.000000             360.0            Yes   \n",
       "3                0.0  141.000000             360.0            Yes   \n",
       "4             4196.0  267.000000             360.0            Yes   \n",
       "\n",
       "  Property_Area  \n",
       "0         Urban  \n",
       "1         Urban  \n",
       "2         Urban  \n",
       "3         Urban  \n",
       "4         Urban  "
      ]
     },
     "execution_count": 154,
     "metadata": {},
     "output_type": "execute_result"
    }
   ],
   "source": [
    "training4 = training[training['Loan_Status']=='Y']\n",
    "training4.index = range(len(training4))\n",
    "training4 = training4.drop(labels=['Loan_Status'],axis=1)\n",
    "training4.head()"
   ]
  },
  {
   "cell_type": "code",
   "execution_count": 155,
   "id": "5e458d89",
   "metadata": {},
   "outputs": [],
   "source": [
    "Y = training4[['Loan_Amount_Term']]\n",
    "X = training4.drop(labels=['Loan_Amount_Term'],axis=1)"
   ]
  },
  {
   "cell_type": "code",
   "execution_count": 156,
   "id": "189a5d65",
   "metadata": {},
   "outputs": [
    {
     "name": "stdout",
     "output_type": "stream",
     "text": [
      "Categorical and Continuous variables appended\n"
     ]
    }
   ],
   "source": [
    "cat, con = catcon(X)"
   ]
  },
  {
   "cell_type": "code",
   "execution_count": 157,
   "id": "74660b58",
   "metadata": {},
   "outputs": [],
   "source": [
    "X1 = X[con]\n",
    "X2 = pd.get_dummies(X[cat])\n",
    "Xnew = X1.join(X2)"
   ]
  },
  {
   "cell_type": "markdown",
   "id": "006c66b0",
   "metadata": {},
   "source": [
    "# Model 1b : Random Forest Regressor"
   ]
  },
  {
   "cell_type": "code",
   "execution_count": 158,
   "id": "98db1c59",
   "metadata": {},
   "outputs": [],
   "source": [
    "from sklearn.ensemble import RandomForestRegressor\n",
    "rfr = RandomForestRegressor(random_state=21,n_estimators=20)"
   ]
  },
  {
   "cell_type": "code",
   "execution_count": 159,
   "id": "90562b9a",
   "metadata": {},
   "outputs": [],
   "source": [
    "from sklearn.model_selection import train_test_split\n",
    "xtrain,xtest,ytrain,ytest=train_test_split(Xnew,Y,test_size=0.2,random_state=21)"
   ]
  },
  {
   "cell_type": "code",
   "execution_count": 160,
   "id": "19998057",
   "metadata": {},
   "outputs": [],
   "source": [
    "tr = []\n",
    "ts = []\n",
    "for i in range(2,30):\n",
    "    rfr = RandomForestRegressor(random_state=21,n_estimators=i)\n",
    "    model = rfr.fit(xtrain,ytrain)\n",
    "    tr_pred = model.predict(xtrain)\n",
    "    ts_pred = model.predict(xtest)\n",
    "    from sklearn.metrics import mean_absolute_error\n",
    "    tr_err = mean_absolute_error(ytrain,tr_pred)\n",
    "    ts_err = mean_absolute_error(ytest,ts_pred)\n",
    "    tr.append(tr_err)\n",
    "    ts.append(ts_err)"
   ]
  },
  {
   "cell_type": "code",
   "execution_count": 161,
   "id": "b55ee7b0",
   "metadata": {},
   "outputs": [
    {
     "data": {
      "image/png": "[encoded data removed]",
      "text/plain": [
       "<Figure size 432x288 with 1 Axes>"
      ]
     },
     "metadata": {
      "needs_background": "light"
     },
     "output_type": "display_data"
    }
   ],
   "source": [
    "import matplotlib.pyplot as plt\n",
    "r = range(2,30)\n",
    "plt.plot(r,tr)\n",
    "plt.plot(r,ts)\n",
    "plt.xticks(r)\n",
    "plt.show()"
   ]
  },
  {
   "cell_type": "markdown",
   "id": "800a9716",
   "metadata": {},
   "source": [
    "### Cross Validating"
   ]
  },
  {
   "cell_type": "code",
   "execution_count": 162,
   "id": "9d3b8a07",
   "metadata": {},
   "outputs": [
    {
     "data": {
      "text/plain": [
       "{'criterion': 'mae', 'max_depth': 3, 'n_estimators': 6}"
      ]
     },
     "execution_count": 162,
     "metadata": {},
     "output_type": "execute_result"
    }
   ],
   "source": [
    "from sklearn.model_selection import GridSearchCV\n",
    "rfr = RandomForestRegressor(random_state=21)\n",
    "\n",
    "tg = {\"n_estimators\":range(2,30,1),\"max_depth\":range(2,20),\"criterion\":['mae','mse']}\n",
    "cv = GridSearchCV(rfr,tg,scoring='neg_mean_absolute_error',cv=4)\n",
    "cvmodel = cv.fit(Xnew,Y)\n",
    "cvmodel.best_params_"
   ]
  },
  {
   "cell_type": "code",
   "execution_count": 163,
   "id": "f1600c99",
   "metadata": {},
   "outputs": [
    {
     "name": "stdout",
     "output_type": "stream",
     "text": [
      "Mean Squared Error is      :  3669.01\n",
      "Root Mean Squared Error is :  60.57\n",
      "R2 Score is                :  -7.1454\n"
     ]
    }
   ],
   "source": [
    "model1b = cvmodel.best_estimator_\n",
    "pred = model1b.predict(Xnew)\n",
    "from sklearn.metrics import mean_squared_error, r2_score\n",
    "err = mean_squared_error(pred,Y)\n",
    "r2 = r2_score(pred,Y)\n",
    "print('Mean Squared Error is      : ',round(err,2))\n",
    "print('Root Mean Squared Error is : ',round(err**0.5,2))\n",
    "print('R2 Score is                : ',round(r2,4))"
   ]
  },
  {
   "cell_type": "markdown",
   "id": "8f285a2c",
   "metadata": {},
   "source": [
    "# Above model shows very bad r2 score"
   ]
  },
  {
   "cell_type": "markdown",
   "id": "6b7908f5",
   "metadata": {},
   "source": [
    "# Checking KNN model"
   ]
  },
  {
   "cell_type": "markdown",
   "id": "c3c25287",
   "metadata": {},
   "source": [
    "#### Preprocessing"
   ]
  },
  {
   "cell_type": "code",
   "execution_count": 164,
   "id": "359686a7",
   "metadata": {},
   "outputs": [
    {
     "name": "stdout",
     "output_type": "stream",
     "text": [
      "Categorical and Continuous variables appended\n"
     ]
    }
   ],
   "source": [
    "Y = training4[['Loan_Amount_Term']]\n",
    "X = training4.drop(labels=['Loan_Amount_Term'],axis=1)\n",
    "cat, con = catcon(X)"
   ]
  },
  {
   "cell_type": "code",
   "execution_count": 165,
   "id": "0c40a349",
   "metadata": {},
   "outputs": [],
   "source": [
    "from sklearn.preprocessing import StandardScaler\n",
    "ss = StandardScaler()\n",
    "X11 = pd.DataFrame(ss.fit_transform(X[con]),columns=con)"
   ]
  },
  {
   "cell_type": "code",
   "execution_count": 166,
   "id": "b1604b95",
   "metadata": {},
   "outputs": [],
   "source": [
    "X21 = pd.get_dummies(X[cat])\n",
    "Xnew2 = X11.join(X21)"
   ]
  },
  {
   "cell_type": "code",
   "execution_count": 167,
   "id": "add184de",
   "metadata": {},
   "outputs": [],
   "source": [
    "from sklearn.model_selection import train_test_split\n",
    "xtrain,xtest,ytrain,ytest=train_test_split(Xnew,Y,test_size=0.2,random_state=21)"
   ]
  },
  {
   "cell_type": "markdown",
   "id": "7a91dedb",
   "metadata": {},
   "source": [
    "### Model Creation"
   ]
  },
  {
   "cell_type": "code",
   "execution_count": 168,
   "id": "5aa75faf",
   "metadata": {},
   "outputs": [],
   "source": [
    "from sklearn.neighbors import KNeighborsRegressor\n",
    "tr = []\n",
    "ts = []\n",
    "for i in range(2,31):\n",
    "    knn = KNeighborsRegressor(n_neighbors=i)\n",
    "    model = knn.fit(xtrain,ytrain)\n",
    "    tr_pred = model.predict(xtrain)\n",
    "    ts_pred = model.predict(xtest)\n",
    "    from sklearn.metrics import mean_absolute_error\n",
    "    tr_err = mean_absolute_error(ytrain,tr_pred)\n",
    "    ts_err = mean_absolute_error(ytest,ts_pred)\n",
    "    tr.append(tr_err)\n",
    "    ts.append(ts_err)"
   ]
  },
  {
   "cell_type": "code",
   "execution_count": 169,
   "id": "f6c974ed",
   "metadata": {},
   "outputs": [
    {
     "data": {
      "image/png": "[encoded data removed]",
      "text/plain": [
       "<Figure size 432x288 with 1 Axes>"
      ]
     },
     "metadata": {
      "needs_background": "light"
     },
     "output_type": "display_data"
    }
   ],
   "source": [
    "import matplotlib.pyplot as plt\n",
    "r = range(2,31)\n",
    "plt.plot(r,tr)\n",
    "plt.plot(r,ts)\n",
    "plt.xticks(range(2,31,1))\n",
    "plt.show()"
   ]
  },
  {
   "cell_type": "code",
   "execution_count": 170,
   "id": "bfe77bf7",
   "metadata": {},
   "outputs": [
    {
     "data": {
      "text/plain": [
       "{'n_neighbors': 2}"
      ]
     },
     "execution_count": 170,
     "metadata": {},
     "output_type": "execute_result"
    }
   ],
   "source": [
    "from sklearn.model_selection import GridSearchCV\n",
    "knn = KNeighborsRegressor()\n",
    "\n",
    "tg = {\"n_neighbors\":range(2,31,1)}\n",
    "cv = GridSearchCV(knn,tg,scoring='neg_mean_absolute_error',cv=20)\n",
    "cvmodel = cv.fit(Xnew2,Y)\n",
    "cvmodel.best_params_"
   ]
  },
  {
   "cell_type": "code",
   "execution_count": 171,
   "id": "ca112acf",
   "metadata": {},
   "outputs": [
    {
     "name": "stdout",
     "output_type": "stream",
     "text": [
      "Mean Squared Error is  :  1654.25\n",
      "Mean Absolute Error is :  17.62\n",
      "R2 Score is            :  0.0938\n"
     ]
    }
   ],
   "source": [
    "model2b = cvmodel.best_estimator_\n",
    "pred = model2b.predict(Xnew2)\n",
    "from sklearn.metrics import mean_squared_error,r2_score, mean_absolute_error\n",
    "mse = mean_squared_error(pred,Y)\n",
    "mae = mean_absolute_error(pred,Y)\n",
    "r2 = r2_score(pred,Y)\n",
    "print('Mean Squared Error is  : ',round(mse,2))\n",
    "print('Mean Absolute Error is : ',round(mae,2))\n",
    "print('R2 Score is            : ',round(r2,4))"
   ]
  },
  {
   "cell_type": "markdown",
   "id": "2c87749e",
   "metadata": {},
   "source": [
    "### KNN Also gives a bad R2 Score"
   ]
  },
  {
   "cell_type": "markdown",
   "id": "1b2580e7",
   "metadata": {},
   "source": [
    "# Checking again with FOIR method for minimum period calculation"
   ]
  },
  {
   "cell_type": "markdown",
   "id": "141355c8",
   "metadata": {},
   "source": [
    "# P = E*((1+r)^n-1)/((1+r)^n)*r)"
   ]
  },
  {
   "cell_type": "markdown",
   "id": "536dcc94",
   "metadata": {},
   "source": [
    "# Pr/E = ((1+r)^n-1)/(1+r)^n"
   ]
  },
  {
   "cell_type": "markdown",
   "id": "79a7fc96",
   "metadata": {},
   "source": [
    "# n = (log(E)-log(E-P*r))/log(1+r)"
   ]
  },
  {
   "cell_type": "markdown",
   "id": "d15b25ba",
   "metadata": {},
   "source": [
    "# E = 0.5*Monthly Income"
   ]
  },
  {
   "cell_type": "markdown",
   "id": "22be140e",
   "metadata": {},
   "source": [
    "# Example a person with 5 lakhs per year income wants to take a loan of 10 lakhs at rate of 15% p.a. what is minimum duration for this loan?"
   ]
  },
  {
   "cell_type": "code",
   "execution_count": 172,
   "id": "d2700ce1",
   "metadata": {},
   "outputs": [],
   "source": [
    "import numpy as np\n",
    "annual_income = 500000\n",
    "monthly_income = annual_income/12\n",
    "E = 0.5*monthly_income\n",
    "loan_amount = 1000000"
   ]
  },
  {
   "cell_type": "code",
   "execution_count": 173,
   "id": "2ea9bac0",
   "metadata": {},
   "outputs": [
    {
     "data": {
      "text/plain": [
       "73.76045536498088"
      ]
     },
     "execution_count": 173,
     "metadata": {},
     "output_type": "execute_result"
    }
   ],
   "source": [
    "#Assuming Rate of interest of 15% p.a.\n",
    "r = 0.15/12\n",
    "n = (np.log(E)-np.log(E-loan_amount*r))/np.log(1+r)\n",
    "n"
   ]
  },
  {
   "cell_type": "markdown",
   "id": "84fe9d7f",
   "metadata": {},
   "source": [
    "##### Above period is in months convert to years by dividing by 12"
   ]
  },
  {
   "cell_type": "code",
   "execution_count": 174,
   "id": "643f2170",
   "metadata": {},
   "outputs": [
    {
     "data": {
      "text/plain": [
       "6.146704613748407"
      ]
     },
     "execution_count": 174,
     "metadata": {},
     "output_type": "execute_result"
    }
   ],
   "source": [
    "n = n/12\n",
    "n "
   ]
  },
  {
   "cell_type": "markdown",
   "id": "1ba5af73",
   "metadata": {},
   "source": [
    "# Hence minimum duration for which person has to take loan is around 6 years at rate of interest of 15% p.a."
   ]
  },
  {
   "cell_type": "markdown",
   "id": "5f66e5c7",
   "metadata": {},
   "source": [
    "# Customer Segmentation using Kmeans clustering "
   ]
  },
  {
   "cell_type": "code",
   "execution_count": 175,
   "id": "68bd802b",
   "metadata": {},
   "outputs": [
    {
     "data": {
      "text/html": [
       "<div>\n",
       "<style scoped>\n",
       "    .dataframe tbody tr th:only-of-type {\n",
       "        vertical-align: middle;\n",
       "    }\n",
       "\n",
       "    .dataframe tbody tr th {\n",
       "        vertical-align: top;\n",
       "    }\n",
       "\n",
       "    .dataframe thead th {\n",
       "        text-align: right;\n",
       "    }\n",
       "</style>\n",
       "<table border=\"1\" class=\"dataframe\">\n",
       "  <thead>\n",
       "    <tr style=\"text-align: right;\">\n",
       "      <th></th>\n",
       "      <th>Gender</th>\n",
       "      <th>Married</th>\n",
       "      <th>Dependents</th>\n",
       "      <th>Education</th>\n",
       "      <th>Self_Employed</th>\n",
       "      <th>ApplicantIncome</th>\n",
       "      <th>CoapplicantIncome</th>\n",
       "      <th>LoanAmount</th>\n",
       "      <th>Loan_Amount_Term</th>\n",
       "      <th>Credit_History</th>\n",
       "      <th>Property_Area</th>\n",
       "      <th>Loan_Status</th>\n",
       "    </tr>\n",
       "  </thead>\n",
       "  <tbody>\n",
       "    <tr>\n",
       "      <th>0</th>\n",
       "      <td>Male</td>\n",
       "      <td>No</td>\n",
       "      <td>0</td>\n",
       "      <td>Graduate</td>\n",
       "      <td>No</td>\n",
       "      <td>5849.00000</td>\n",
       "      <td>0.0</td>\n",
       "      <td>146.412162</td>\n",
       "      <td>360.0</td>\n",
       "      <td>Yes</td>\n",
       "      <td>Urban</td>\n",
       "      <td>Y</td>\n",
       "    </tr>\n",
       "    <tr>\n",
       "      <th>1</th>\n",
       "      <td>Male</td>\n",
       "      <td>Yes</td>\n",
       "      <td>1</td>\n",
       "      <td>Graduate</td>\n",
       "      <td>No</td>\n",
       "      <td>5405.54085</td>\n",
       "      <td>1508.0</td>\n",
       "      <td>128.000000</td>\n",
       "      <td>360.0</td>\n",
       "      <td>Yes</td>\n",
       "      <td>Rural</td>\n",
       "      <td>N</td>\n",
       "    </tr>\n",
       "    <tr>\n",
       "      <th>2</th>\n",
       "      <td>Male</td>\n",
       "      <td>Yes</td>\n",
       "      <td>0</td>\n",
       "      <td>Graduate</td>\n",
       "      <td>Yes</td>\n",
       "      <td>3000.00000</td>\n",
       "      <td>0.0</td>\n",
       "      <td>66.000000</td>\n",
       "      <td>360.0</td>\n",
       "      <td>Yes</td>\n",
       "      <td>Urban</td>\n",
       "      <td>Y</td>\n",
       "    </tr>\n",
       "    <tr>\n",
       "      <th>3</th>\n",
       "      <td>Male</td>\n",
       "      <td>Yes</td>\n",
       "      <td>0</td>\n",
       "      <td>Not Graduate</td>\n",
       "      <td>No</td>\n",
       "      <td>2583.00000</td>\n",
       "      <td>2358.0</td>\n",
       "      <td>120.000000</td>\n",
       "      <td>360.0</td>\n",
       "      <td>Yes</td>\n",
       "      <td>Urban</td>\n",
       "      <td>Y</td>\n",
       "    </tr>\n",
       "    <tr>\n",
       "      <th>4</th>\n",
       "      <td>Male</td>\n",
       "      <td>No</td>\n",
       "      <td>0</td>\n",
       "      <td>Graduate</td>\n",
       "      <td>No</td>\n",
       "      <td>6000.00000</td>\n",
       "      <td>0.0</td>\n",
       "      <td>141.000000</td>\n",
       "      <td>360.0</td>\n",
       "      <td>Yes</td>\n",
       "      <td>Urban</td>\n",
       "      <td>Y</td>\n",
       "    </tr>\n",
       "  </tbody>\n",
       "</table>\n",
       "</div>"
      ],
      "text/plain": [
       "  Gender Married Dependents     Education Self_Employed  ApplicantIncome  \\\n",
       "0   Male      No          0      Graduate            No       5849.00000   \n",
       "1   Male     Yes          1      Graduate            No       5405.54085   \n",
       "2   Male     Yes          0      Graduate           Yes       3000.00000   \n",
       "3   Male     Yes          0  Not Graduate            No       2583.00000   \n",
       "4   Male      No          0      Graduate            No       6000.00000   \n",
       "\n",
       "   CoapplicantIncome  LoanAmount  Loan_Amount_Term Credit_History  \\\n",
       "0                0.0  146.412162             360.0            Yes   \n",
       "1             1508.0  128.000000             360.0            Yes   \n",
       "2                0.0   66.000000             360.0            Yes   \n",
       "3             2358.0  120.000000             360.0            Yes   \n",
       "4                0.0  141.000000             360.0            Yes   \n",
       "\n",
       "  Property_Area Loan_Status  \n",
       "0         Urban           Y  \n",
       "1         Rural           N  \n",
       "2         Urban           Y  \n",
       "3         Urban           Y  \n",
       "4         Urban           Y  "
      ]
     },
     "execution_count": 175,
     "metadata": {},
     "output_type": "execute_result"
    }
   ],
   "source": [
    "training.head()"
   ]
  },
  {
   "cell_type": "markdown",
   "id": "4476d2f0",
   "metadata": {},
   "source": [
    "### Clustering Customers based on ApplicantIncome and LoanAmount"
   ]
  },
  {
   "cell_type": "code",
   "execution_count": 176,
   "id": "bad3744b",
   "metadata": {},
   "outputs": [],
   "source": [
    "X = training[['ApplicantIncome','LoanAmount']]"
   ]
  },
  {
   "cell_type": "markdown",
   "id": "78ac171c",
   "metadata": {},
   "source": [
    "### Scaling data using Standardscaler"
   ]
  },
  {
   "cell_type": "code",
   "execution_count": 177,
   "id": "11d88c32",
   "metadata": {},
   "outputs": [],
   "source": [
    "from sklearn.preprocessing import StandardScaler\n",
    "ss = StandardScaler()\n",
    "Xnew = ss.fit_transform(X)"
   ]
  },
  {
   "cell_type": "markdown",
   "id": "75eac663",
   "metadata": {},
   "source": [
    "### Creating Multiple Kmeans Models for elbow method"
   ]
  },
  {
   "cell_type": "code",
   "execution_count": 178,
   "id": "e01b4e42",
   "metadata": {},
   "outputs": [],
   "source": [
    "from sklearn.cluster import KMeans\n",
    "\n",
    "wcss = []\n",
    "for i in range(1, 11):\n",
    "    km = KMeans(n_clusters = i, init = 'k-means++', random_state = 21)\n",
    "    km.fit(Xnew)\n",
    "    wcss.append(km.inertia_)\n"
   ]
  },
  {
   "cell_type": "code",
   "execution_count": 179,
   "id": "dac71a05",
   "metadata": {},
   "outputs": [
    {
     "data": {
      "image/png": "[encoded data removed]",
      "text/plain": [
       "<Figure size 432x288 with 1 Axes>"
      ]
     },
     "metadata": {
      "needs_background": "light"
     },
     "output_type": "display_data"
    }
   ],
   "source": [
    "plt.plot(range(1, 11), wcss)\n",
    "plt.title('The Elbow Method')\n",
    "plt.xlabel('No. of Clusters')\n",
    "plt.ylabel('Within Clusters Sum of Squares(WCSS)')\n",
    "plt.show()"
   ]
  },
  {
   "cell_type": "markdown",
   "id": "11fef054",
   "metadata": {},
   "source": [
    "# Elbow found at K=4"
   ]
  },
  {
   "cell_type": "code",
   "execution_count": 180,
   "id": "f917392d",
   "metadata": {},
   "outputs": [
    {
     "data": {
      "image/png": "[encoded data removed]",
      "text/plain": [
       "<Figure size 576x396 with 1 Axes>"
      ]
     },
     "metadata": {},
     "output_type": "display_data"
    },
    {
     "data": {
      "text/html": [
       "<style>#sk-container-id-1 {color: black;background-color: white;}#sk-container-id-1 pre{padding: 0;}#sk-container-id-1 div.sk-toggleable {background-color: white;}#sk-container-id-1 label.sk-toggleable__label {cursor: pointer;display: block;width: 100%;margin-bottom: 0;padding: 0.3em;box-sizing: border-box;text-align: center;}#sk-container-id-1 label.sk-toggleable__label-arrow:before {content: \"▸\";float: left;margin-right: 0.25em;color: #696969;}#sk-container-id-1 label.sk-toggleable__label-arrow:hover:before {color: black;}#sk-container-id-1 div.sk-estimator:hover label.sk-toggleable__label-arrow:before {color: black;}#sk-container-id-1 div.sk-toggleable__content {max-height: 0;max-width: 0;overflow: hidden;text-align: left;background-color: #f0f8ff;}#sk-container-id-1 div.sk-toggleable__content pre {margin: 0.2em;color: black;border-radius: 0.25em;background-color: #f0f8ff;}#sk-container-id-1 input.sk-toggleable__control:checked~div.sk-toggleable__content {max-height: 200px;max-width: 100%;overflow: auto;}#sk-container-id-1 input.sk-toggleable__control:checked~label.sk-toggleable__label-arrow:before {content: \"▾\";}#sk-container-id-1 div.sk-estimator input.sk-toggleable__control:checked~label.sk-toggleable__label {background-color: #d4ebff;}#sk-container-id-1 div.sk-label input.sk-toggleable__control:checked~label.sk-toggleable__label {background-color: #d4ebff;}#sk-container-id-1 input.sk-hidden--visually {border: 0;clip: rect(1px 1px 1px 1px);clip: rect(1px, 1px, 1px, 1px);height: 1px;margin: -1px;overflow: hidden;padding: 0;position: absolute;width: 1px;}#sk-container-id-1 div.sk-estimator {font-family: monospace;background-color: #f0f8ff;border: 1px dotted black;border-radius: 0.25em;box-sizing: border-box;margin-bottom: 0.5em;}#sk-container-id-1 div.sk-estimator:hover {background-color: #d4ebff;}#sk-container-id-1 div.sk-parallel-item::after {content: \"\";width: 100%;border-bottom: 1px solid gray;flex-grow: 1;}#sk-container-id-1 div.sk-label:hover label.sk-toggleable__label {background-color: #d4ebff;}#sk-container-id-1 div.sk-serial::before {content: \"\";position: absolute;border-left: 1px solid gray;box-sizing: border-box;top: 0;bottom: 0;left: 50%;z-index: 0;}#sk-container-id-1 div.sk-serial {display: flex;flex-direction: column;align-items: center;background-color: white;padding-right: 0.2em;padding-left: 0.2em;position: relative;}#sk-container-id-1 div.sk-item {position: relative;z-index: 1;}#sk-container-id-1 div.sk-parallel {display: flex;align-items: stretch;justify-content: center;background-color: white;position: relative;}#sk-container-id-1 div.sk-item::before, #sk-container-id-1 div.sk-parallel-item::before {content: \"\";position: absolute;border-left: 1px solid gray;box-sizing: border-box;top: 0;bottom: 0;left: 50%;z-index: -1;}#sk-container-id-1 div.sk-parallel-item {display: flex;flex-direction: column;z-index: 1;position: relative;background-color: white;}#sk-container-id-1 div.sk-parallel-item:first-child::after {align-self: flex-end;width: 50%;}#sk-container-id-1 div.sk-parallel-item:last-child::after {align-self: flex-start;width: 50%;}#sk-container-id-1 div.sk-parallel-item:only-child::after {width: 0;}#sk-container-id-1 div.sk-dashed-wrapped {border: 1px dashed gray;margin: 0 0.4em 0.5em 0.4em;box-sizing: border-box;padding-bottom: 0.4em;background-color: white;}#sk-container-id-1 div.sk-label label {font-family: monospace;font-weight: bold;display: inline-block;line-height: 1.2em;}#sk-container-id-1 div.sk-label-container {text-align: center;}#sk-container-id-1 div.sk-container {/* jupyter's `normalize.less` sets `[hidden] { display: none; }` but bootstrap.min.css set `[hidden] { display: none !important; }` so we also need the `!important` here to be able to override the default hidden behavior on the sphinx rendered scikit-learn.org. See: https://github.com/scikit-learn/scikit-learn/issues/21755 */display: inline-block !important;position: relative;}#sk-container-id-1 div.sk-text-repr-fallback {display: none;}</style><div id=\"sk-container-id-1\" class=\"sk-top-container\"><div class=\"sk-text-repr-fallback\"><pre>KElbowVisualizer(ax=&lt;AxesSubplot:title={&#x27;center&#x27;:&#x27;Distortion Score Elbow for KMeans Clustering&#x27;}, xlabel=&#x27;k&#x27;, ylabel=&#x27;distortion score&#x27;&gt;,\n",
       "                 estimator=KMeans(n_clusters=10, random_state=21), k=(2, 11),\n",
       "                 timings=False)</pre><b>In a Jupyter environment, please rerun this cell to show the HTML representation or trust the notebook. <br />On GitHub, the HTML representation is unable to render, please try loading this page with nbviewer.org.</b></div><div class=\"sk-container\" hidden><div class=\"sk-item sk-dashed-wrapped\"><div class=\"sk-label-container\"><div class=\"sk-label sk-toggleable\"><input class=\"sk-toggleable__control sk-hidden--visually\" id=\"sk-estimator-id-1\" type=\"checkbox\" ><label for=\"sk-estimator-id-1\" class=\"sk-toggleable__label sk-toggleable__label-arrow\">KElbowVisualizer</label><div class=\"sk-toggleable__content\"><pre>KElbowVisualizer(ax=&lt;AxesSubplot:title={&#x27;center&#x27;:&#x27;Distortion Score Elbow for KMeans Clustering&#x27;}, xlabel=&#x27;k&#x27;, ylabel=&#x27;distortion score&#x27;&gt;,\n",
       "                 estimator=KMeans(n_clusters=10, random_state=21), k=(2, 11),\n",
       "                 timings=False)</pre></div></div></div><div class=\"sk-parallel\"><div class=\"sk-parallel-item\"><div class=\"sk-item\"><div class=\"sk-label-container\"><div class=\"sk-label sk-toggleable\"><input class=\"sk-toggleable__control sk-hidden--visually\" id=\"sk-estimator-id-2\" type=\"checkbox\" ><label for=\"sk-estimator-id-2\" class=\"sk-toggleable__label sk-toggleable__label-arrow\">estimator: KMeans</label><div class=\"sk-toggleable__content\"><pre>KMeans(n_clusters=10, random_state=21)</pre></div></div></div><div class=\"sk-serial\"><div class=\"sk-item\"><div class=\"sk-estimator sk-toggleable\"><input class=\"sk-toggleable__control sk-hidden--visually\" id=\"sk-estimator-id-3\" type=\"checkbox\" ><label for=\"sk-estimator-id-3\" class=\"sk-toggleable__label sk-toggleable__label-arrow\">KMeans</label><div class=\"sk-toggleable__content\"><pre>KMeans(n_clusters=10, random_state=21)</pre></div></div></div></div></div></div></div></div></div></div>"
      ],
      "text/plain": [
       "KElbowVisualizer(ax=<AxesSubplot:title={'center':'Distortion Score Elbow for KMeans Clustering'}, xlabel='k', ylabel='distortion score'>,\n",
       "                 estimator=KMeans(n_clusters=10, random_state=21), k=(2, 11),\n",
       "                 timings=False)"
      ]
     },
     "execution_count": 180,
     "metadata": {},
     "output_type": "execute_result"
    }
   ],
   "source": [
    "from yellowbrick.cluster.elbow import kelbow_visualizer\n",
    "\n",
    "kelbow_visualizer(KMeans(random_state=21),\n",
    "                  Xnew,\n",
    "                  k=(2, 11),\n",
    "                  timings=False)"
   ]
  },
  {
   "cell_type": "code",
   "execution_count": 181,
   "id": "2f5bb36d",
   "metadata": {},
   "outputs": [
    {
     "data": {
      "image/png": "[encoded data removed]",
      "text/plain": [
       "<Figure size 576x396 with 1 Axes>"
      ]
     },
     "metadata": {},
     "output_type": "display_data"
    }
   ],
   "source": [
    "km = KMeans(n_clusters = 4, init = 'k-means++',random_state=21)\n",
    "y_means = km.fit_predict(Xnew)\n",
    "\n",
    "plt.scatter(Xnew[y_means == 0, 0], Xnew[y_means == 0, 1], s = 100, c = 'pink')\n",
    "plt.scatter(Xnew[y_means == 1, 0], Xnew[y_means == 1, 1], s = 100, c = 'yellow')\n",
    "plt.scatter(Xnew[y_means == 2, 0], Xnew[y_means == 2, 1], s = 100, c = 'cyan')\n",
    "plt.scatter(Xnew[y_means == 3, 0], Xnew[y_means == 3, 1], s = 100, c = 'magenta')\n",
    "plt.scatter(km.cluster_centers_[:,0], km.cluster_centers_[:, 1], s = 50, c = 'blue' , label = 'centeroid')\n",
    "\n",
    "plt.title('K Means Clustering')\n",
    "plt.xlabel('Applicant Income Scaled')\n",
    "plt.ylabel('Loan Amount Scaled')\n",
    "plt.legend()\n",
    "plt.show()"
   ]
  },
  {
   "cell_type": "markdown",
   "id": "1296dfb0",
   "metadata": {},
   "source": [
    "# Above is scaled data with StandardScaler lets check with actual data plot"
   ]
  },
  {
   "cell_type": "code",
   "execution_count": 182,
   "id": "71ce49d5",
   "metadata": {},
   "outputs": [],
   "source": [
    "X['Cluster']=y_means"
   ]
  },
  {
   "cell_type": "code",
   "execution_count": 183,
   "id": "c856347f",
   "metadata": {},
   "outputs": [],
   "source": [
    "X0 = X[X['Cluster']==0]\n",
    "X1 = X[X['Cluster']==1]\n",
    "X2 = X[X['Cluster']==2]\n",
    "X3 = X[X['Cluster']==3]"
   ]
  },
  {
   "cell_type": "code",
   "execution_count": 184,
   "id": "badd2cbc",
   "metadata": {},
   "outputs": [
    {
     "data": {
      "text/html": [
       "<div>\n",
       "<style scoped>\n",
       "    .dataframe tbody tr th:only-of-type {\n",
       "        vertical-align: middle;\n",
       "    }\n",
       "\n",
       "    .dataframe tbody tr th {\n",
       "        vertical-align: top;\n",
       "    }\n",
       "\n",
       "    .dataframe thead th {\n",
       "        text-align: right;\n",
       "    }\n",
       "</style>\n",
       "<table border=\"1\" class=\"dataframe\">\n",
       "  <thead>\n",
       "    <tr style=\"text-align: right;\">\n",
       "      <th></th>\n",
       "      <th>ApplicantIncome</th>\n",
       "      <th>LoanAmount</th>\n",
       "    </tr>\n",
       "    <tr>\n",
       "      <th>Cluster</th>\n",
       "      <th></th>\n",
       "      <th></th>\n",
       "    </tr>\n",
       "  </thead>\n",
       "  <tbody>\n",
       "    <tr>\n",
       "      <th>0</th>\n",
       "      <td>3684.153193</td>\n",
       "      <td>113.820757</td>\n",
       "    </tr>\n",
       "    <tr>\n",
       "      <th>1</th>\n",
       "      <td>15239.687500</td>\n",
       "      <td>466.687500</td>\n",
       "    </tr>\n",
       "    <tr>\n",
       "      <th>2</th>\n",
       "      <td>49544.428571</td>\n",
       "      <td>383.142857</td>\n",
       "    </tr>\n",
       "    <tr>\n",
       "      <th>3</th>\n",
       "      <td>8022.905512</td>\n",
       "      <td>212.088476</td>\n",
       "    </tr>\n",
       "  </tbody>\n",
       "</table>\n",
       "</div>"
      ],
      "text/plain": [
       "         ApplicantIncome  LoanAmount\n",
       "Cluster                             \n",
       "0            3684.153193  113.820757\n",
       "1           15239.687500  466.687500\n",
       "2           49544.428571  383.142857\n",
       "3            8022.905512  212.088476"
      ]
     },
     "execution_count": 184,
     "metadata": {},
     "output_type": "execute_result"
    }
   ],
   "source": [
    "centroid = X.groupby(by='Cluster').mean()\n",
    "centroid"
   ]
  },
  {
   "cell_type": "code",
   "execution_count": 185,
   "id": "3e9ac56c",
   "metadata": {},
   "outputs": [
    {
     "data": {
      "image/png": "[encoded data removed]",
      "text/plain": [
       "<Figure size 576x396 with 1 Axes>"
      ]
     },
     "metadata": {},
     "output_type": "display_data"
    }
   ],
   "source": [
    "plt.scatter(X0['ApplicantIncome'],X0['LoanAmount'],c = 'pink',s=100)\n",
    "plt.scatter(X1['ApplicantIncome'],X1['LoanAmount'],c = 'yellow',s=100)\n",
    "plt.scatter(X2['ApplicantIncome'],X2['LoanAmount'],c = 'cyan',s=100)\n",
    "plt.scatter(X3['ApplicantIncome'],X3['LoanAmount'],c = 'magenta',s=100)\n",
    "plt.scatter(centroid['ApplicantIncome'],centroid['LoanAmount'],c='blue',s=50,label = 'centeroid')\n",
    "plt.title('K Means Clustering Actual')\n",
    "plt.xlabel('Applicant Income Actual')\n",
    "plt.ylabel('Loan Amount Actual')\n",
    "plt.legend()\n",
    "plt.show()"
   ]
  },
  {
   "cell_type": "markdown",
   "id": "5cf11f44",
   "metadata": {},
   "source": [
    "### Checking with intercluster distance"
   ]
  },
  {
   "cell_type": "code",
   "execution_count": 186,
   "id": "94589b35",
   "metadata": {},
   "outputs": [
    {
     "data": {
      "image/png": "[encoded data removed]",
      "text/plain": [
       "<Figure size 576x396 with 2 Axes>"
      ]
     },
     "metadata": {},
     "output_type": "display_data"
    },
    {
     "data": {
      "text/html": [
       "<style>#sk-container-id-2 {color: black;background-color: white;}#sk-container-id-2 pre{padding: 0;}#sk-container-id-2 div.sk-toggleable {background-color: white;}#sk-container-id-2 label.sk-toggleable__label {cursor: pointer;display: block;width: 100%;margin-bottom: 0;padding: 0.3em;box-sizing: border-box;text-align: center;}#sk-container-id-2 label.sk-toggleable__label-arrow:before {content: \"▸\";float: left;margin-right: 0.25em;color: #696969;}#sk-container-id-2 label.sk-toggleable__label-arrow:hover:before {color: black;}#sk-container-id-2 div.sk-estimator:hover label.sk-toggleable__label-arrow:before {color: black;}#sk-container-id-2 div.sk-toggleable__content {max-height: 0;max-width: 0;overflow: hidden;text-align: left;background-color: #f0f8ff;}#sk-container-id-2 div.sk-toggleable__content pre {margin: 0.2em;color: black;border-radius: 0.25em;background-color: #f0f8ff;}#sk-container-id-2 input.sk-toggleable__control:checked~div.sk-toggleable__content {max-height: 200px;max-width: 100%;overflow: auto;}#sk-container-id-2 input.sk-toggleable__control:checked~label.sk-toggleable__label-arrow:before {content: \"▾\";}#sk-container-id-2 div.sk-estimator input.sk-toggleable__control:checked~label.sk-toggleable__label {background-color: #d4ebff;}#sk-container-id-2 div.sk-label input.sk-toggleable__control:checked~label.sk-toggleable__label {background-color: #d4ebff;}#sk-container-id-2 input.sk-hidden--visually {border: 0;clip: rect(1px 1px 1px 1px);clip: rect(1px, 1px, 1px, 1px);height: 1px;margin: -1px;overflow: hidden;padding: 0;position: absolute;width: 1px;}#sk-container-id-2 div.sk-estimator {font-family: monospace;background-color: #f0f8ff;border: 1px dotted black;border-radius: 0.25em;box-sizing: border-box;margin-bottom: 0.5em;}#sk-container-id-2 div.sk-estimator:hover {background-color: #d4ebff;}#sk-container-id-2 div.sk-parallel-item::after {content: \"\";width: 100%;border-bottom: 1px solid gray;flex-grow: 1;}#sk-container-id-2 div.sk-label:hover label.sk-toggleable__label {background-color: #d4ebff;}#sk-container-id-2 div.sk-serial::before {content: \"\";position: absolute;border-left: 1px solid gray;box-sizing: border-box;top: 0;bottom: 0;left: 50%;z-index: 0;}#sk-container-id-2 div.sk-serial {display: flex;flex-direction: column;align-items: center;background-color: white;padding-right: 0.2em;padding-left: 0.2em;position: relative;}#sk-container-id-2 div.sk-item {position: relative;z-index: 1;}#sk-container-id-2 div.sk-parallel {display: flex;align-items: stretch;justify-content: center;background-color: white;position: relative;}#sk-container-id-2 div.sk-item::before, #sk-container-id-2 div.sk-parallel-item::before {content: \"\";position: absolute;border-left: 1px solid gray;box-sizing: border-box;top: 0;bottom: 0;left: 50%;z-index: -1;}#sk-container-id-2 div.sk-parallel-item {display: flex;flex-direction: column;z-index: 1;position: relative;background-color: white;}#sk-container-id-2 div.sk-parallel-item:first-child::after {align-self: flex-end;width: 50%;}#sk-container-id-2 div.sk-parallel-item:last-child::after {align-self: flex-start;width: 50%;}#sk-container-id-2 div.sk-parallel-item:only-child::after {width: 0;}#sk-container-id-2 div.sk-dashed-wrapped {border: 1px dashed gray;margin: 0 0.4em 0.5em 0.4em;box-sizing: border-box;padding-bottom: 0.4em;background-color: white;}#sk-container-id-2 div.sk-label label {font-family: monospace;font-weight: bold;display: inline-block;line-height: 1.2em;}#sk-container-id-2 div.sk-label-container {text-align: center;}#sk-container-id-2 div.sk-container {/* jupyter's `normalize.less` sets `[hidden] { display: none; }` but bootstrap.min.css set `[hidden] { display: none !important; }` so we also need the `!important` here to be able to override the default hidden behavior on the sphinx rendered scikit-learn.org. See: https://github.com/scikit-learn/scikit-learn/issues/21755 */display: inline-block !important;position: relative;}#sk-container-id-2 div.sk-text-repr-fallback {display: none;}</style><div id=\"sk-container-id-2\" class=\"sk-top-container\"><div class=\"sk-text-repr-fallback\"><pre>InterclusterDistance(ax=&lt;AxesSubplot:title={&#x27;center&#x27;:&#x27;KMeans Intercluster Distance Map (via MDS)&#x27;}, xlabel=&#x27;PC2&#x27;, ylabel=&#x27;PC1&#x27;&gt;,\n",
       "                     estimator=KMeans(n_clusters=4, random_state=21),\n",
       "                     random_state=21)</pre><b>In a Jupyter environment, please rerun this cell to show the HTML representation or trust the notebook. <br />On GitHub, the HTML representation is unable to render, please try loading this page with nbviewer.org.</b></div><div class=\"sk-container\" hidden><div class=\"sk-item sk-dashed-wrapped\"><div class=\"sk-label-container\"><div class=\"sk-label sk-toggleable\"><input class=\"sk-toggleable__control sk-hidden--visually\" id=\"sk-estimator-id-4\" type=\"checkbox\" ><label for=\"sk-estimator-id-4\" class=\"sk-toggleable__label sk-toggleable__label-arrow\">InterclusterDistance</label><div class=\"sk-toggleable__content\"><pre>InterclusterDistance(ax=&lt;AxesSubplot:title={&#x27;center&#x27;:&#x27;KMeans Intercluster Distance Map (via MDS)&#x27;}, xlabel=&#x27;PC2&#x27;, ylabel=&#x27;PC1&#x27;&gt;,\n",
       "                     estimator=KMeans(n_clusters=4, random_state=21),\n",
       "                     random_state=21)</pre></div></div></div><div class=\"sk-parallel\"><div class=\"sk-parallel-item\"><div class=\"sk-item\"><div class=\"sk-label-container\"><div class=\"sk-label sk-toggleable\"><input class=\"sk-toggleable__control sk-hidden--visually\" id=\"sk-estimator-id-5\" type=\"checkbox\" ><label for=\"sk-estimator-id-5\" class=\"sk-toggleable__label sk-toggleable__label-arrow\">estimator: KMeans</label><div class=\"sk-toggleable__content\"><pre>KMeans(n_clusters=4, random_state=21)</pre></div></div></div><div class=\"sk-serial\"><div class=\"sk-item\"><div class=\"sk-estimator sk-toggleable\"><input class=\"sk-toggleable__control sk-hidden--visually\" id=\"sk-estimator-id-6\" type=\"checkbox\" ><label for=\"sk-estimator-id-6\" class=\"sk-toggleable__label sk-toggleable__label-arrow\">KMeans</label><div class=\"sk-toggleable__content\"><pre>KMeans(n_clusters=4, random_state=21)</pre></div></div></div></div></div></div></div></div></div></div>"
      ],
      "text/plain": [
       "InterclusterDistance(ax=<AxesSubplot:title={'center':'KMeans Intercluster Distance Map (via MDS)'}, xlabel='PC2', ylabel='PC1'>,\n",
       "                     estimator=KMeans(n_clusters=4, random_state=21),\n",
       "                     random_state=21)"
      ]
     },
     "execution_count": 186,
     "metadata": {},
     "output_type": "execute_result"
    }
   ],
   "source": [
    "from yellowbrick.cluster import intercluster_distance\n",
    "\n",
    "intercluster_distance(KMeans(random_state=21,n_clusters = 4), \n",
    "                      Xnew, \n",
    "                      embedding='mds', \n",
    "                      random_state=21) "
   ]
  },
  {
   "cell_type": "markdown",
   "id": "bb5dedca",
   "metadata": {},
   "source": [
    "### Above analysis shows there is seperation between clusters except for clusters 0 and 3 dont have full seperation but is acceptable"
   ]
  },
  {
   "cell_type": "markdown",
   "id": "41cdf289",
   "metadata": {},
   "source": [
    "# Clustering Based on ApplicantIncome Loan_Amount_Term and LoanAmount"
   ]
  },
  {
   "cell_type": "code",
   "execution_count": 189,
   "id": "0920d1d1",
   "metadata": {},
   "outputs": [
    {
     "data": {
      "text/html": [
       "<div>\n",
       "<style scoped>\n",
       "    .dataframe tbody tr th:only-of-type {\n",
       "        vertical-align: middle;\n",
       "    }\n",
       "\n",
       "    .dataframe tbody tr th {\n",
       "        vertical-align: top;\n",
       "    }\n",
       "\n",
       "    .dataframe thead th {\n",
       "        text-align: right;\n",
       "    }\n",
       "</style>\n",
       "<table border=\"1\" class=\"dataframe\">\n",
       "  <thead>\n",
       "    <tr style=\"text-align: right;\">\n",
       "      <th></th>\n",
       "      <th>Gender</th>\n",
       "      <th>Married</th>\n",
       "      <th>Dependents</th>\n",
       "      <th>Education</th>\n",
       "      <th>Self_Employed</th>\n",
       "      <th>ApplicantIncome</th>\n",
       "      <th>CoapplicantIncome</th>\n",
       "      <th>LoanAmount</th>\n",
       "      <th>Loan_Amount_Term</th>\n",
       "      <th>Credit_History</th>\n",
       "      <th>Property_Area</th>\n",
       "      <th>Loan_Status</th>\n",
       "    </tr>\n",
       "  </thead>\n",
       "  <tbody>\n",
       "    <tr>\n",
       "      <th>0</th>\n",
       "      <td>Male</td>\n",
       "      <td>No</td>\n",
       "      <td>0</td>\n",
       "      <td>Graduate</td>\n",
       "      <td>No</td>\n",
       "      <td>5849.00000</td>\n",
       "      <td>0.0</td>\n",
       "      <td>146.412162</td>\n",
       "      <td>360.0</td>\n",
       "      <td>Yes</td>\n",
       "      <td>Urban</td>\n",
       "      <td>Y</td>\n",
       "    </tr>\n",
       "    <tr>\n",
       "      <th>1</th>\n",
       "      <td>Male</td>\n",
       "      <td>Yes</td>\n",
       "      <td>1</td>\n",
       "      <td>Graduate</td>\n",
       "      <td>No</td>\n",
       "      <td>5405.54085</td>\n",
       "      <td>1508.0</td>\n",
       "      <td>128.000000</td>\n",
       "      <td>360.0</td>\n",
       "      <td>Yes</td>\n",
       "      <td>Rural</td>\n",
       "      <td>N</td>\n",
       "    </tr>\n",
       "    <tr>\n",
       "      <th>2</th>\n",
       "      <td>Male</td>\n",
       "      <td>Yes</td>\n",
       "      <td>0</td>\n",
       "      <td>Graduate</td>\n",
       "      <td>Yes</td>\n",
       "      <td>3000.00000</td>\n",
       "      <td>0.0</td>\n",
       "      <td>66.000000</td>\n",
       "      <td>360.0</td>\n",
       "      <td>Yes</td>\n",
       "      <td>Urban</td>\n",
       "      <td>Y</td>\n",
       "    </tr>\n",
       "    <tr>\n",
       "      <th>3</th>\n",
       "      <td>Male</td>\n",
       "      <td>Yes</td>\n",
       "      <td>0</td>\n",
       "      <td>Not Graduate</td>\n",
       "      <td>No</td>\n",
       "      <td>2583.00000</td>\n",
       "      <td>2358.0</td>\n",
       "      <td>120.000000</td>\n",
       "      <td>360.0</td>\n",
       "      <td>Yes</td>\n",
       "      <td>Urban</td>\n",
       "      <td>Y</td>\n",
       "    </tr>\n",
       "    <tr>\n",
       "      <th>4</th>\n",
       "      <td>Male</td>\n",
       "      <td>No</td>\n",
       "      <td>0</td>\n",
       "      <td>Graduate</td>\n",
       "      <td>No</td>\n",
       "      <td>6000.00000</td>\n",
       "      <td>0.0</td>\n",
       "      <td>141.000000</td>\n",
       "      <td>360.0</td>\n",
       "      <td>Yes</td>\n",
       "      <td>Urban</td>\n",
       "      <td>Y</td>\n",
       "    </tr>\n",
       "  </tbody>\n",
       "</table>\n",
       "</div>"
      ],
      "text/plain": [
       "  Gender Married Dependents     Education Self_Employed  ApplicantIncome  \\\n",
       "0   Male      No          0      Graduate            No       5849.00000   \n",
       "1   Male     Yes          1      Graduate            No       5405.54085   \n",
       "2   Male     Yes          0      Graduate           Yes       3000.00000   \n",
       "3   Male     Yes          0  Not Graduate            No       2583.00000   \n",
       "4   Male      No          0      Graduate            No       6000.00000   \n",
       "\n",
       "   CoapplicantIncome  LoanAmount  Loan_Amount_Term Credit_History  \\\n",
       "0                0.0  146.412162             360.0            Yes   \n",
       "1             1508.0  128.000000             360.0            Yes   \n",
       "2                0.0   66.000000             360.0            Yes   \n",
       "3             2358.0  120.000000             360.0            Yes   \n",
       "4                0.0  141.000000             360.0            Yes   \n",
       "\n",
       "  Property_Area Loan_Status  \n",
       "0         Urban           Y  \n",
       "1         Rural           N  \n",
       "2         Urban           Y  \n",
       "3         Urban           Y  \n",
       "4         Urban           Y  "
      ]
     },
     "execution_count": 189,
     "metadata": {},
     "output_type": "execute_result"
    }
   ],
   "source": [
    "training.head()"
   ]
  },
  {
   "cell_type": "code",
   "execution_count": 193,
   "id": "38175c30",
   "metadata": {},
   "outputs": [
    {
     "data": {
      "image/png": "[encoded data removed]",
      "text/plain": [
       "<Figure size 576x396 with 1 Axes>"
      ]
     },
     "metadata": {},
     "output_type": "display_data"
    }
   ],
   "source": [
    "ax = plt.axes(projection='3d')\n",
    "ax.scatter(training['ApplicantIncome'],training['Loan_Amount_Term'],training['LoanAmount'], c=training['LoanAmount'], cmap='viridis', linewidth=0.5);\n",
    "plt.show()"
   ]
  },
  {
   "cell_type": "code",
   "execution_count": 194,
   "id": "6316f86a",
   "metadata": {},
   "outputs": [],
   "source": [
    "X2 = training[['ApplicantIncome','Loan_Amount_Term','LoanAmount']]"
   ]
  },
  {
   "cell_type": "code",
   "execution_count": 195,
   "id": "7e5ccd6c",
   "metadata": {},
   "outputs": [],
   "source": [
    "from sklearn.preprocessing import StandardScaler\n",
    "ss = StandardScaler()\n",
    "Xnew2 = ss.fit_transform(X2)"
   ]
  },
  {
   "cell_type": "code",
   "execution_count": 197,
   "id": "900b5840",
   "metadata": {},
   "outputs": [
    {
     "data": {
      "image/png": "[encoded data removed]",
      "text/plain": [
       "<Figure size 576x396 with 1 Axes>"
      ]
     },
     "metadata": {},
     "output_type": "display_data"
    },
    {
     "data": {
      "text/html": [
       "<style>#sk-container-id-4 {color: black;background-color: white;}#sk-container-id-4 pre{padding: 0;}#sk-container-id-4 div.sk-toggleable {background-color: white;}#sk-container-id-4 label.sk-toggleable__label {cursor: pointer;display: block;width: 100%;margin-bottom: 0;padding: 0.3em;box-sizing: border-box;text-align: center;}#sk-container-id-4 label.sk-toggleable__label-arrow:before {content: \"▸\";float: left;margin-right: 0.25em;color: #696969;}#sk-container-id-4 label.sk-toggleable__label-arrow:hover:before {color: black;}#sk-container-id-4 div.sk-estimator:hover label.sk-toggleable__label-arrow:before {color: black;}#sk-container-id-4 div.sk-toggleable__content {max-height: 0;max-width: 0;overflow: hidden;text-align: left;background-color: #f0f8ff;}#sk-container-id-4 div.sk-toggleable__content pre {margin: 0.2em;color: black;border-radius: 0.25em;background-color: #f0f8ff;}#sk-container-id-4 input.sk-toggleable__control:checked~div.sk-toggleable__content {max-height: 200px;max-width: 100%;overflow: auto;}#sk-container-id-4 input.sk-toggleable__control:checked~label.sk-toggleable__label-arrow:before {content: \"▾\";}#sk-container-id-4 div.sk-estimator input.sk-toggleable__control:checked~label.sk-toggleable__label {background-color: #d4ebff;}#sk-container-id-4 div.sk-label input.sk-toggleable__control:checked~label.sk-toggleable__label {background-color: #d4ebff;}#sk-container-id-4 input.sk-hidden--visually {border: 0;clip: rect(1px 1px 1px 1px);clip: rect(1px, 1px, 1px, 1px);height: 1px;margin: -1px;overflow: hidden;padding: 0;position: absolute;width: 1px;}#sk-container-id-4 div.sk-estimator {font-family: monospace;background-color: #f0f8ff;border: 1px dotted black;border-radius: 0.25em;box-sizing: border-box;margin-bottom: 0.5em;}#sk-container-id-4 div.sk-estimator:hover {background-color: #d4ebff;}#sk-container-id-4 div.sk-parallel-item::after {content: \"\";width: 100%;border-bottom: 1px solid gray;flex-grow: 1;}#sk-container-id-4 div.sk-label:hover label.sk-toggleable__label {background-color: #d4ebff;}#sk-container-id-4 div.sk-serial::before {content: \"\";position: absolute;border-left: 1px solid gray;box-sizing: border-box;top: 0;bottom: 0;left: 50%;z-index: 0;}#sk-container-id-4 div.sk-serial {display: flex;flex-direction: column;align-items: center;background-color: white;padding-right: 0.2em;padding-left: 0.2em;position: relative;}#sk-container-id-4 div.sk-item {position: relative;z-index: 1;}#sk-container-id-4 div.sk-parallel {display: flex;align-items: stretch;justify-content: center;background-color: white;position: relative;}#sk-container-id-4 div.sk-item::before, #sk-container-id-4 div.sk-parallel-item::before {content: \"\";position: absolute;border-left: 1px solid gray;box-sizing: border-box;top: 0;bottom: 0;left: 50%;z-index: -1;}#sk-container-id-4 div.sk-parallel-item {display: flex;flex-direction: column;z-index: 1;position: relative;background-color: white;}#sk-container-id-4 div.sk-parallel-item:first-child::after {align-self: flex-end;width: 50%;}#sk-container-id-4 div.sk-parallel-item:last-child::after {align-self: flex-start;width: 50%;}#sk-container-id-4 div.sk-parallel-item:only-child::after {width: 0;}#sk-container-id-4 div.sk-dashed-wrapped {border: 1px dashed gray;margin: 0 0.4em 0.5em 0.4em;box-sizing: border-box;padding-bottom: 0.4em;background-color: white;}#sk-container-id-4 div.sk-label label {font-family: monospace;font-weight: bold;display: inline-block;line-height: 1.2em;}#sk-container-id-4 div.sk-label-container {text-align: center;}#sk-container-id-4 div.sk-container {/* jupyter's `normalize.less` sets `[hidden] { display: none; }` but bootstrap.min.css set `[hidden] { display: none !important; }` so we also need the `!important` here to be able to override the default hidden behavior on the sphinx rendered scikit-learn.org. See: https://github.com/scikit-learn/scikit-learn/issues/21755 */display: inline-block !important;position: relative;}#sk-container-id-4 div.sk-text-repr-fallback {display: none;}</style><div id=\"sk-container-id-4\" class=\"sk-top-container\"><div class=\"sk-text-repr-fallback\"><pre>KElbowVisualizer(ax=&lt;AxesSubplot:title={&#x27;center&#x27;:&#x27;Distortion Score Elbow for KMeans Clustering&#x27;}, xlabel=&#x27;k&#x27;, ylabel=&#x27;distortion score&#x27;&gt;,\n",
       "                 estimator=KMeans(n_clusters=10, random_state=21), k=(2, 11),\n",
       "                 timings=False)</pre><b>In a Jupyter environment, please rerun this cell to show the HTML representation or trust the notebook. <br />On GitHub, the HTML representation is unable to render, please try loading this page with nbviewer.org.</b></div><div class=\"sk-container\" hidden><div class=\"sk-item sk-dashed-wrapped\"><div class=\"sk-label-container\"><div class=\"sk-label sk-toggleable\"><input class=\"sk-toggleable__control sk-hidden--visually\" id=\"sk-estimator-id-10\" type=\"checkbox\" ><label for=\"sk-estimator-id-10\" class=\"sk-toggleable__label sk-toggleable__label-arrow\">KElbowVisualizer</label><div class=\"sk-toggleable__content\"><pre>KElbowVisualizer(ax=&lt;AxesSubplot:title={&#x27;center&#x27;:&#x27;Distortion Score Elbow for KMeans Clustering&#x27;}, xlabel=&#x27;k&#x27;, ylabel=&#x27;distortion score&#x27;&gt;,\n",
       "                 estimator=KMeans(n_clusters=10, random_state=21), k=(2, 11),\n",
       "                 timings=False)</pre></div></div></div><div class=\"sk-parallel\"><div class=\"sk-parallel-item\"><div class=\"sk-item\"><div class=\"sk-label-container\"><div class=\"sk-label sk-toggleable\"><input class=\"sk-toggleable__control sk-hidden--visually\" id=\"sk-estimator-id-11\" type=\"checkbox\" ><label for=\"sk-estimator-id-11\" class=\"sk-toggleable__label sk-toggleable__label-arrow\">estimator: KMeans</label><div class=\"sk-toggleable__content\"><pre>KMeans(n_clusters=10, random_state=21)</pre></div></div></div><div class=\"sk-serial\"><div class=\"sk-item\"><div class=\"sk-estimator sk-toggleable\"><input class=\"sk-toggleable__control sk-hidden--visually\" id=\"sk-estimator-id-12\" type=\"checkbox\" ><label for=\"sk-estimator-id-12\" class=\"sk-toggleable__label sk-toggleable__label-arrow\">KMeans</label><div class=\"sk-toggleable__content\"><pre>KMeans(n_clusters=10, random_state=21)</pre></div></div></div></div></div></div></div></div></div></div>"
      ],
      "text/plain": [
       "KElbowVisualizer(ax=<AxesSubplot:title={'center':'Distortion Score Elbow for KMeans Clustering'}, xlabel='k', ylabel='distortion score'>,\n",
       "                 estimator=KMeans(n_clusters=10, random_state=21), k=(2, 11),\n",
       "                 timings=False)"
      ]
     },
     "execution_count": 197,
     "metadata": {},
     "output_type": "execute_result"
    }
   ],
   "source": [
    "from yellowbrick.cluster.elbow import kelbow_visualizer\n",
    "\n",
    "kelbow_visualizer(KMeans(random_state=21,init='k-means++'),\n",
    "                  Xnew2,\n",
    "                  k=(2, 11),\n",
    "                  timings=False)"
   ]
  },
  {
   "cell_type": "code",
   "execution_count": 200,
   "id": "5ba66a54",
   "metadata": {},
   "outputs": [],
   "source": [
    "km = KMeans(n_clusters = 4,random_state=21)\n",
    "y_means = km.fit_predict(Xnew2)\n",
    "X2['Cluster']=y_means"
   ]
  },
  {
   "cell_type": "code",
   "execution_count": 201,
   "id": "2355974f",
   "metadata": {},
   "outputs": [],
   "source": [
    "X20 = X2[X2['Cluster']==0]\n",
    "X21 = X2[X2['Cluster']==1]\n",
    "X22 = X2[X2['Cluster']==2]\n",
    "X23 = X2[X2['Cluster']==3]"
   ]
  },
  {
   "cell_type": "code",
   "execution_count": 211,
   "id": "6426b1f4",
   "metadata": {},
   "outputs": [
    {
     "data": {
      "text/html": [
       "<div>\n",
       "<style scoped>\n",
       "    .dataframe tbody tr th:only-of-type {\n",
       "        vertical-align: middle;\n",
       "    }\n",
       "\n",
       "    .dataframe tbody tr th {\n",
       "        vertical-align: top;\n",
       "    }\n",
       "\n",
       "    .dataframe thead th {\n",
       "        text-align: right;\n",
       "    }\n",
       "</style>\n",
       "<table border=\"1\" class=\"dataframe\">\n",
       "  <thead>\n",
       "    <tr style=\"text-align: right;\">\n",
       "      <th></th>\n",
       "      <th>ApplicantIncome</th>\n",
       "      <th>Loan_Amount_Term</th>\n",
       "      <th>LoanAmount</th>\n",
       "    </tr>\n",
       "    <tr>\n",
       "      <th>Cluster</th>\n",
       "      <th></th>\n",
       "      <th></th>\n",
       "      <th></th>\n",
       "    </tr>\n",
       "  </thead>\n",
       "  <tbody>\n",
       "    <tr>\n",
       "      <th>0</th>\n",
       "      <td>4181.471595</td>\n",
       "      <td>361.689796</td>\n",
       "      <td>125.076365</td>\n",
       "    </tr>\n",
       "    <tr>\n",
       "      <th>1</th>\n",
       "      <td>11046.220339</td>\n",
       "      <td>360.000000</td>\n",
       "      <td>318.735799</td>\n",
       "    </tr>\n",
       "    <tr>\n",
       "      <th>2</th>\n",
       "      <td>4681.775862</td>\n",
       "      <td>162.413793</td>\n",
       "      <td>122.797181</td>\n",
       "    </tr>\n",
       "    <tr>\n",
       "      <th>3</th>\n",
       "      <td>49544.428571</td>\n",
       "      <td>300.000000</td>\n",
       "      <td>383.142857</td>\n",
       "    </tr>\n",
       "  </tbody>\n",
       "</table>\n",
       "</div>"
      ],
      "text/plain": [
       "         ApplicantIncome  Loan_Amount_Term  LoanAmount\n",
       "Cluster                                               \n",
       "0            4181.471595        361.689796  125.076365\n",
       "1           11046.220339        360.000000  318.735799\n",
       "2            4681.775862        162.413793  122.797181\n",
       "3           49544.428571        300.000000  383.142857"
      ]
     },
     "execution_count": 211,
     "metadata": {},
     "output_type": "execute_result"
    }
   ],
   "source": [
    "ct = X2.groupby(by='Cluster').mean()\n",
    "ct"
   ]
  },
  {
   "cell_type": "code",
   "execution_count": 219,
   "id": "6acb58ab",
   "metadata": {},
   "outputs": [
    {
     "data": {
      "image/png": "[encoded data removed]",
      "text/plain": [
       "<Figure size 1440x720 with 1 Axes>"
      ]
     },
     "metadata": {},
     "output_type": "display_data"
    }
   ],
   "source": [
    "from mpl_toolkits.mplot3d import Axes3D\n",
    "import matplotlib.pyplot as plt\n",
    "import numpy as np\n",
    "import pandas as pd\n",
    " \n",
    "fig = plt.figure(figsize=(20,10))\n",
    "ax = fig.add_subplot(111, projection='3d')\n",
    "ax.scatter(X20['ApplicantIncome'],X20['Loan_Amount_Term'],X20['LoanAmount'],c='pink',s=100)\n",
    "ax.scatter(X21['ApplicantIncome'],X21['Loan_Amount_Term'],X21['LoanAmount'],c='yellow',s=100)\n",
    "ax.scatter(X22['ApplicantIncome'],X22['Loan_Amount_Term'],X22['LoanAmount'],c='cyan',s=100)\n",
    "ax.scatter(X23['ApplicantIncome'],X23['Loan_Amount_Term'],X23['LoanAmount'],c='magenta',s=100)\n",
    "plt.show()"
   ]
  },
  {
   "cell_type": "code",
   "execution_count": 220,
   "id": "f6993b8a",
   "metadata": {},
   "outputs": [
    {
     "data": {
      "image/png": "[encoded data removed]",
      "text/plain": [
       "<Figure size 576x396 with 2 Axes>"
      ]
     },
     "metadata": {},
     "output_type": "display_data"
    },
    {
     "data": {
      "text/html": [
       "<style>#sk-container-id-5 {color: black;background-color: white;}#sk-container-id-5 pre{padding: 0;}#sk-container-id-5 div.sk-toggleable {background-color: white;}#sk-container-id-5 label.sk-toggleable__label {cursor: pointer;display: block;width: 100%;margin-bottom: 0;padding: 0.3em;box-sizing: border-box;text-align: center;}#sk-container-id-5 label.sk-toggleable__label-arrow:before {content: \"▸\";float: left;margin-right: 0.25em;color: #696969;}#sk-container-id-5 label.sk-toggleable__label-arrow:hover:before {color: black;}#sk-container-id-5 div.sk-estimator:hover label.sk-toggleable__label-arrow:before {color: black;}#sk-container-id-5 div.sk-toggleable__content {max-height: 0;max-width: 0;overflow: hidden;text-align: left;background-color: #f0f8ff;}#sk-container-id-5 div.sk-toggleable__content pre {margin: 0.2em;color: black;border-radius: 0.25em;background-color: #f0f8ff;}#sk-container-id-5 input.sk-toggleable__control:checked~div.sk-toggleable__content {max-height: 200px;max-width: 100%;overflow: auto;}#sk-container-id-5 input.sk-toggleable__control:checked~label.sk-toggleable__label-arrow:before {content: \"▾\";}#sk-container-id-5 div.sk-estimator input.sk-toggleable__control:checked~label.sk-toggleable__label {background-color: #d4ebff;}#sk-container-id-5 div.sk-label input.sk-toggleable__control:checked~label.sk-toggleable__label {background-color: #d4ebff;}#sk-container-id-5 input.sk-hidden--visually {border: 0;clip: rect(1px 1px 1px 1px);clip: rect(1px, 1px, 1px, 1px);height: 1px;margin: -1px;overflow: hidden;padding: 0;position: absolute;width: 1px;}#sk-container-id-5 div.sk-estimator {font-family: monospace;background-color: #f0f8ff;border: 1px dotted black;border-radius: 0.25em;box-sizing: border-box;margin-bottom: 0.5em;}#sk-container-id-5 div.sk-estimator:hover {background-color: #d4ebff;}#sk-container-id-5 div.sk-parallel-item::after {content: \"\";width: 100%;border-bottom: 1px solid gray;flex-grow: 1;}#sk-container-id-5 div.sk-label:hover label.sk-toggleable__label {background-color: #d4ebff;}#sk-container-id-5 div.sk-serial::before {content: \"\";position: absolute;border-left: 1px solid gray;box-sizing: border-box;top: 0;bottom: 0;left: 50%;z-index: 0;}#sk-container-id-5 div.sk-serial {display: flex;flex-direction: column;align-items: center;background-color: white;padding-right: 0.2em;padding-left: 0.2em;position: relative;}#sk-container-id-5 div.sk-item {position: relative;z-index: 1;}#sk-container-id-5 div.sk-parallel {display: flex;align-items: stretch;justify-content: center;background-color: white;position: relative;}#sk-container-id-5 div.sk-item::before, #sk-container-id-5 div.sk-parallel-item::before {content: \"\";position: absolute;border-left: 1px solid gray;box-sizing: border-box;top: 0;bottom: 0;left: 50%;z-index: -1;}#sk-container-id-5 div.sk-parallel-item {display: flex;flex-direction: column;z-index: 1;position: relative;background-color: white;}#sk-container-id-5 div.sk-parallel-item:first-child::after {align-self: flex-end;width: 50%;}#sk-container-id-5 div.sk-parallel-item:last-child::after {align-self: flex-start;width: 50%;}#sk-container-id-5 div.sk-parallel-item:only-child::after {width: 0;}#sk-container-id-5 div.sk-dashed-wrapped {border: 1px dashed gray;margin: 0 0.4em 0.5em 0.4em;box-sizing: border-box;padding-bottom: 0.4em;background-color: white;}#sk-container-id-5 div.sk-label label {font-family: monospace;font-weight: bold;display: inline-block;line-height: 1.2em;}#sk-container-id-5 div.sk-label-container {text-align: center;}#sk-container-id-5 div.sk-container {/* jupyter's `normalize.less` sets `[hidden] { display: none; }` but bootstrap.min.css set `[hidden] { display: none !important; }` so we also need the `!important` here to be able to override the default hidden behavior on the sphinx rendered scikit-learn.org. See: https://github.com/scikit-learn/scikit-learn/issues/21755 */display: inline-block !important;position: relative;}#sk-container-id-5 div.sk-text-repr-fallback {display: none;}</style><div id=\"sk-container-id-5\" class=\"sk-top-container\"><div class=\"sk-text-repr-fallback\"><pre>InterclusterDistance(ax=&lt;AxesSubplot:title={&#x27;center&#x27;:&#x27;KMeans Intercluster Distance Map (via MDS)&#x27;}, xlabel=&#x27;PC2&#x27;, ylabel=&#x27;PC1&#x27;&gt;,\n",
       "                     estimator=KMeans(n_clusters=4, random_state=21),\n",
       "                     random_state=21)</pre><b>In a Jupyter environment, please rerun this cell to show the HTML representation or trust the notebook. <br />On GitHub, the HTML representation is unable to render, please try loading this page with nbviewer.org.</b></div><div class=\"sk-container\" hidden><div class=\"sk-item sk-dashed-wrapped\"><div class=\"sk-label-container\"><div class=\"sk-label sk-toggleable\"><input class=\"sk-toggleable__control sk-hidden--visually\" id=\"sk-estimator-id-13\" type=\"checkbox\" ><label for=\"sk-estimator-id-13\" class=\"sk-toggleable__label sk-toggleable__label-arrow\">InterclusterDistance</label><div class=\"sk-toggleable__content\"><pre>InterclusterDistance(ax=&lt;AxesSubplot:title={&#x27;center&#x27;:&#x27;KMeans Intercluster Distance Map (via MDS)&#x27;}, xlabel=&#x27;PC2&#x27;, ylabel=&#x27;PC1&#x27;&gt;,\n",
       "                     estimator=KMeans(n_clusters=4, random_state=21),\n",
       "                     random_state=21)</pre></div></div></div><div class=\"sk-parallel\"><div class=\"sk-parallel-item\"><div class=\"sk-item\"><div class=\"sk-label-container\"><div class=\"sk-label sk-toggleable\"><input class=\"sk-toggleable__control sk-hidden--visually\" id=\"sk-estimator-id-14\" type=\"checkbox\" ><label for=\"sk-estimator-id-14\" class=\"sk-toggleable__label sk-toggleable__label-arrow\">estimator: KMeans</label><div class=\"sk-toggleable__content\"><pre>KMeans(n_clusters=4, random_state=21)</pre></div></div></div><div class=\"sk-serial\"><div class=\"sk-item\"><div class=\"sk-estimator sk-toggleable\"><input class=\"sk-toggleable__control sk-hidden--visually\" id=\"sk-estimator-id-15\" type=\"checkbox\" ><label for=\"sk-estimator-id-15\" class=\"sk-toggleable__label sk-toggleable__label-arrow\">KMeans</label><div class=\"sk-toggleable__content\"><pre>KMeans(n_clusters=4, random_state=21)</pre></div></div></div></div></div></div></div></div></div></div>"
      ],
      "text/plain": [
       "InterclusterDistance(ax=<AxesSubplot:title={'center':'KMeans Intercluster Distance Map (via MDS)'}, xlabel='PC2', ylabel='PC1'>,\n",
       "                     estimator=KMeans(n_clusters=4, random_state=21),\n",
       "                     random_state=21)"
      ]
     },
     "execution_count": 220,
     "metadata": {},
     "output_type": "execute_result"
    }
   ],
   "source": [
    "from yellowbrick.cluster import intercluster_distance\n",
    "\n",
    "intercluster_distance(KMeans(random_state=21,n_clusters = 4), \n",
    "                      Xnew2, \n",
    "                      embedding='mds', \n",
    "                      random_state=21) "
   ]
  },
  {
   "cell_type": "markdown",
   "id": "564b3bed",
   "metadata": {},
   "source": [
    "# Seperation Observed slight intersection in 0 and 1 which is ok"
   ]
  },
  {
   "cell_type": "code",
   "execution_count": null,
   "id": "c976311c",
   "metadata": {},
   "outputs": [],
   "source": []
  }
 ],
 "metadata": {
  "kernelspec": {
   "display_name": "Python 3 (ipykernel)",
   "language": "python",
   "name": "python3"
  },
  "language_info": {
   "codemirror_mode": {
    "name": "ipython",
    "version": 3
   },
   "file_extension": ".py",
   "mimetype": "text/x-python",
   "name": "python",
   "nbconvert_exporter": "python",
   "pygments_lexer": "ipython3",
   "version": "3.9.7"
  }
 },
 "nbformat": 4,
 "nbformat_minor": 5
}
